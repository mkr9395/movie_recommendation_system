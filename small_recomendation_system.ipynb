{
 "cells": [
  {
   "cell_type": "code",
   "execution_count": 1,
   "id": "558e812c",
   "metadata": {
    "ExecuteTime": {
     "end_time": "2023-04-06T18:26:11.344548Z",
     "start_time": "2023-04-06T18:26:10.549249Z"
    }
   },
   "outputs": [],
   "source": [
    "import pandas as pd\n",
    "import numpy as np\n",
    "import requests\n",
    "import json\n",
    "pd.set_option('display.max_columns', None)"
   ]
  },
  {
   "cell_type": "code",
   "execution_count": 2,
   "id": "413ba7d1",
   "metadata": {
    "ExecuteTime": {
     "end_time": "2023-04-06T18:26:12.324448Z",
     "start_time": "2023-04-06T18:26:11.344548Z"
    }
   },
   "outputs": [
    {
     "data": {
      "text/html": [
       "<div>\n",
       "<style scoped>\n",
       "    .dataframe tbody tr th:only-of-type {\n",
       "        vertical-align: middle;\n",
       "    }\n",
       "\n",
       "    .dataframe tbody tr th {\n",
       "        vertical-align: top;\n",
       "    }\n",
       "\n",
       "    .dataframe thead th {\n",
       "        text-align: right;\n",
       "    }\n",
       "</style>\n",
       "<table border=\"1\" class=\"dataframe\">\n",
       "  <thead>\n",
       "    <tr style=\"text-align: right;\">\n",
       "      <th></th>\n",
       "      <th>id</th>\n",
       "      <th>overview</th>\n",
       "      <th>vote_average</th>\n",
       "      <th>vote_count</th>\n",
       "      <th>year</th>\n",
       "      <th>imdb_id</th>\n",
       "      <th>title</th>\n",
       "      <th>keywords</th>\n",
       "      <th>genre</th>\n",
       "      <th>director</th>\n",
       "      <th>writer</th>\n",
       "      <th>cast</th>\n",
       "    </tr>\n",
       "  </thead>\n",
       "  <tbody>\n",
       "    <tr>\n",
       "      <th>0</th>\n",
       "      <td>1042171</td>\n",
       "      <td>Ivalu is gone. Her little sister is desperate ...</td>\n",
       "      <td>6.2</td>\n",
       "      <td>9</td>\n",
       "      <td>2023</td>\n",
       "      <td>tt22054902</td>\n",
       "      <td>Ivalu</td>\n",
       "      <td>[]</td>\n",
       "      <td>['Drama']</td>\n",
       "      <td>['Anders Walter', 'Pipaluk K. Jørgensen']</td>\n",
       "      <td>['Anders Walter', 'Morten Durr']</td>\n",
       "      <td>['Mila Heilmann Kreutzmann', 'Nivi Larsen', 'A...</td>\n",
       "    </tr>\n",
       "    <tr>\n",
       "      <th>1</th>\n",
       "      <td>842675</td>\n",
       "      <td>Humans built huge engines on the surface of th...</td>\n",
       "      <td>7.7</td>\n",
       "      <td>119</td>\n",
       "      <td>2023</td>\n",
       "      <td>tt13539646</td>\n",
       "      <td>The Wandering Earth II</td>\n",
       "      <td>['space travel', 'space station', 'earth in pe...</td>\n",
       "      <td>['Science Fiction', 'Action', 'Drama']</td>\n",
       "      <td>['Frant Gwo']</td>\n",
       "      <td>[]</td>\n",
       "      <td>['Andy Lau', 'Wu Jing', 'Li Xue-Jian', 'Sha Yi...</td>\n",
       "    </tr>\n",
       "    <tr>\n",
       "      <th>2</th>\n",
       "      <td>855483</td>\n",
       "      <td>On December 7, 1941, Japan attacked Pearl Harb...</td>\n",
       "      <td>7.3</td>\n",
       "      <td>6</td>\n",
       "      <td>2023</td>\n",
       "      <td>tt16565742</td>\n",
       "      <td>Hidden Blade</td>\n",
       "      <td>['undercover agent', '1940s', 'japanese occupa...</td>\n",
       "      <td>['Drama', 'Mystery', 'History', 'Action']</td>\n",
       "      <td>['Cheng Er']</td>\n",
       "      <td>['Cheng Er']</td>\n",
       "      <td>['Tony Leung Chiu-wai', 'Wang Yibo', 'Zhou Xun...</td>\n",
       "    </tr>\n",
       "  </tbody>\n",
       "</table>\n",
       "</div>"
      ],
      "text/plain": [
       "        id                                           overview  vote_average  \\\n",
       "0  1042171  Ivalu is gone. Her little sister is desperate ...           6.2   \n",
       "1   842675  Humans built huge engines on the surface of th...           7.7   \n",
       "2   855483  On December 7, 1941, Japan attacked Pearl Harb...           7.3   \n",
       "\n",
       "   vote_count  year     imdb_id                   title  \\\n",
       "0           9  2023  tt22054902                   Ivalu   \n",
       "1         119  2023  tt13539646  The Wandering Earth II   \n",
       "2           6  2023  tt16565742            Hidden Blade   \n",
       "\n",
       "                                            keywords  \\\n",
       "0                                                 []   \n",
       "1  ['space travel', 'space station', 'earth in pe...   \n",
       "2  ['undercover agent', '1940s', 'japanese occupa...   \n",
       "\n",
       "                                       genre  \\\n",
       "0                                  ['Drama']   \n",
       "1     ['Science Fiction', 'Action', 'Drama']   \n",
       "2  ['Drama', 'Mystery', 'History', 'Action']   \n",
       "\n",
       "                                    director  \\\n",
       "0  ['Anders Walter', 'Pipaluk K. Jørgensen']   \n",
       "1                              ['Frant Gwo']   \n",
       "2                               ['Cheng Er']   \n",
       "\n",
       "                             writer  \\\n",
       "0  ['Anders Walter', 'Morten Durr']   \n",
       "1                                []   \n",
       "2                      ['Cheng Er']   \n",
       "\n",
       "                                                cast  \n",
       "0  ['Mila Heilmann Kreutzmann', 'Nivi Larsen', 'A...  \n",
       "1  ['Andy Lau', 'Wu Jing', 'Li Xue-Jian', 'Sha Yi...  \n",
       "2  ['Tony Leung Chiu-wai', 'Wang Yibo', 'Zhou Xun...  "
      ]
     },
     "execution_count": 2,
     "metadata": {},
     "output_type": "execute_result"
    }
   ],
   "source": [
    "df = pd.read_csv(\"checkpoint_data2.csv\")\n",
    "df.head(3)"
   ]
  },
  {
   "cell_type": "code",
   "execution_count": 3,
   "id": "6cb88a1a",
   "metadata": {
    "ExecuteTime": {
     "end_time": "2023-04-06T18:26:12.339678Z",
     "start_time": "2023-04-06T18:26:12.325448Z"
    }
   },
   "outputs": [
    {
     "data": {
      "text/plain": [
       "(183581, 12)"
      ]
     },
     "execution_count": 3,
     "metadata": {},
     "output_type": "execute_result"
    }
   ],
   "source": [
    "df.shape"
   ]
  },
  {
   "cell_type": "code",
   "execution_count": 4,
   "id": "6d61038b",
   "metadata": {
    "ExecuteTime": {
     "end_time": "2023-04-06T18:26:12.464339Z",
     "start_time": "2023-04-06T18:26:12.340804Z"
    }
   },
   "outputs": [
    {
     "name": "stdout",
     "output_type": "stream",
     "text": [
      "<class 'pandas.core.frame.DataFrame'>\n",
      "RangeIndex: 183581 entries, 0 to 183580\n",
      "Data columns (total 12 columns):\n",
      " #   Column        Non-Null Count   Dtype  \n",
      "---  ------        --------------   -----  \n",
      " 0   id            183581 non-null  int64  \n",
      " 1   overview      183581 non-null  object \n",
      " 2   vote_average  183581 non-null  float64\n",
      " 3   vote_count    183581 non-null  int64  \n",
      " 4   year          183581 non-null  int64  \n",
      " 5   imdb_id       174981 non-null  object \n",
      " 6   title         183581 non-null  object \n",
      " 7   keywords      183581 non-null  object \n",
      " 8   genre         183581 non-null  object \n",
      " 9   director      183581 non-null  object \n",
      " 10  writer        183581 non-null  object \n",
      " 11  cast          183581 non-null  object \n",
      "dtypes: float64(1), int64(3), object(8)\n",
      "memory usage: 16.8+ MB\n"
     ]
    }
   ],
   "source": [
    "df.info()"
   ]
  },
  {
   "cell_type": "code",
   "execution_count": 5,
   "id": "54ca3494",
   "metadata": {
    "ExecuteTime": {
     "end_time": "2023-04-06T18:26:12.495853Z",
     "start_time": "2023-04-06T18:26:12.465340Z"
    }
   },
   "outputs": [
    {
     "data": {
      "text/plain": [
       "(159420, 12)"
      ]
     },
     "execution_count": 5,
     "metadata": {},
     "output_type": "execute_result"
    }
   ],
   "source": [
    "data = df[df['vote_average']>4.0]\n",
    "data.shape"
   ]
  },
  {
   "cell_type": "code",
   "execution_count": 6,
   "id": "639dfbe5",
   "metadata": {
    "ExecuteTime": {
     "end_time": "2023-04-06T18:26:13.223583Z",
     "start_time": "2023-04-06T18:26:13.214579Z"
    }
   },
   "outputs": [
    {
     "data": {
      "text/plain": [
       "2017    5965\n",
       "2018    5962\n",
       "2019    5942\n",
       "2016    5539\n",
       "2015    5237\n",
       "        ... \n",
       "1901      21\n",
       "1906      18\n",
       "1905      18\n",
       "1904      16\n",
       "1902      15\n",
       "Name: year, Length: 124, dtype: int64"
      ]
     },
     "execution_count": 6,
     "metadata": {},
     "output_type": "execute_result"
    }
   ],
   "source": [
    "data['year'].value_counts()"
   ]
  },
  {
   "cell_type": "code",
   "execution_count": 7,
   "id": "40770f76",
   "metadata": {
    "ExecuteTime": {
     "end_time": "2023-04-06T18:26:13.909373Z",
     "start_time": "2023-04-06T18:26:13.871370Z"
    }
   },
   "outputs": [
    {
     "data": {
      "text/plain": [
       "(136962, 12)"
      ]
     },
     "execution_count": 7,
     "metadata": {},
     "output_type": "execute_result"
    }
   ],
   "source": [
    "data = data[data['year'].between(1960,2022)]\n",
    "data.shape"
   ]
  },
  {
   "cell_type": "code",
   "execution_count": 8,
   "id": "5f1f9c15",
   "metadata": {
    "ExecuteTime": {
     "end_time": "2023-04-06T18:26:15.455016Z",
     "start_time": "2023-04-06T18:26:15.429017Z"
    }
   },
   "outputs": [
    {
     "data": {
      "text/html": [
       "<div>\n",
       "<style scoped>\n",
       "    .dataframe tbody tr th:only-of-type {\n",
       "        vertical-align: middle;\n",
       "    }\n",
       "\n",
       "    .dataframe tbody tr th {\n",
       "        vertical-align: top;\n",
       "    }\n",
       "\n",
       "    .dataframe thead th {\n",
       "        text-align: right;\n",
       "    }\n",
       "</style>\n",
       "<table border=\"1\" class=\"dataframe\">\n",
       "  <thead>\n",
       "    <tr style=\"text-align: right;\">\n",
       "      <th></th>\n",
       "      <th>count</th>\n",
       "      <th>mean</th>\n",
       "      <th>std</th>\n",
       "      <th>min</th>\n",
       "      <th>25%</th>\n",
       "      <th>50%</th>\n",
       "      <th>75%</th>\n",
       "      <th>max</th>\n",
       "    </tr>\n",
       "  </thead>\n",
       "  <tbody>\n",
       "    <tr>\n",
       "      <th>id</th>\n",
       "      <td>136962.0</td>\n",
       "      <td>330579.502599</td>\n",
       "      <td>269706.787152</td>\n",
       "      <td>2.0</td>\n",
       "      <td>82676.25</td>\n",
       "      <td>282037.5</td>\n",
       "      <td>503445.75</td>\n",
       "      <td>1104720.0</td>\n",
       "    </tr>\n",
       "    <tr>\n",
       "      <th>vote_average</th>\n",
       "      <td>136962.0</td>\n",
       "      <td>6.360324</td>\n",
       "      <td>1.288491</td>\n",
       "      <td>4.1</td>\n",
       "      <td>5.50</td>\n",
       "      <td>6.2</td>\n",
       "      <td>7.00</td>\n",
       "      <td>10.0</td>\n",
       "    </tr>\n",
       "    <tr>\n",
       "      <th>vote_count</th>\n",
       "      <td>136962.0</td>\n",
       "      <td>129.249157</td>\n",
       "      <td>841.445724</td>\n",
       "      <td>0.0</td>\n",
       "      <td>2.00</td>\n",
       "      <td>6.0</td>\n",
       "      <td>22.00</td>\n",
       "      <td>33406.0</td>\n",
       "    </tr>\n",
       "    <tr>\n",
       "      <th>year</th>\n",
       "      <td>136962.0</td>\n",
       "      <td>2002.551693</td>\n",
       "      <td>17.035723</td>\n",
       "      <td>1960.0</td>\n",
       "      <td>1991.00</td>\n",
       "      <td>2008.0</td>\n",
       "      <td>2016.00</td>\n",
       "      <td>2022.0</td>\n",
       "    </tr>\n",
       "  </tbody>\n",
       "</table>\n",
       "</div>"
      ],
      "text/plain": [
       "                 count           mean            std     min       25%  \\\n",
       "id            136962.0  330579.502599  269706.787152     2.0  82676.25   \n",
       "vote_average  136962.0       6.360324       1.288491     4.1      5.50   \n",
       "vote_count    136962.0     129.249157     841.445724     0.0      2.00   \n",
       "year          136962.0    2002.551693      17.035723  1960.0   1991.00   \n",
       "\n",
       "                   50%        75%        max  \n",
       "id            282037.5  503445.75  1104720.0  \n",
       "vote_average       6.2       7.00       10.0  \n",
       "vote_count         6.0      22.00    33406.0  \n",
       "year            2008.0    2016.00     2022.0  "
      ]
     },
     "execution_count": 8,
     "metadata": {},
     "output_type": "execute_result"
    }
   ],
   "source": [
    "data.describe().T"
   ]
  },
  {
   "cell_type": "code",
   "execution_count": 9,
   "id": "57d54733",
   "metadata": {
    "ExecuteTime": {
     "end_time": "2023-04-06T18:26:15.945391Z",
     "start_time": "2023-04-06T18:26:15.934363Z"
    }
   },
   "outputs": [
    {
     "data": {
      "text/plain": [
       "1030                     MC-Helper BeKINGs\n",
       "1031                  Seas of the Banished\n",
       "1033                         Alt for Norge\n",
       "1034                       El beso de Dios\n",
       "1035                Sofia's Original State\n",
       "                       ...                \n",
       "6933                                STAIRS\n",
       "6934                          Until Sunset\n",
       "6936                    I’m No Longer Here\n",
       "6938         A Nashville Country Christmas\n",
       "6939    Paul Taylor: So British Ou Presque\n",
       "Name: title, Length: 3741, dtype: object"
      ]
     },
     "execution_count": 9,
     "metadata": {},
     "output_type": "execute_result"
    }
   ],
   "source": [
    "data[(data['vote_count']<10) & (data['year']==2022)]['title'].T"
   ]
  },
  {
   "cell_type": "code",
   "execution_count": 10,
   "id": "2343a422",
   "metadata": {
    "ExecuteTime": {
     "end_time": "2023-04-06T18:26:16.169512Z",
     "start_time": "2023-04-06T18:26:16.139449Z"
    }
   },
   "outputs": [
    {
     "data": {
      "text/html": [
       "<div>\n",
       "<style scoped>\n",
       "    .dataframe tbody tr th:only-of-type {\n",
       "        vertical-align: middle;\n",
       "    }\n",
       "\n",
       "    .dataframe tbody tr th {\n",
       "        vertical-align: top;\n",
       "    }\n",
       "\n",
       "    .dataframe thead th {\n",
       "        text-align: right;\n",
       "    }\n",
       "</style>\n",
       "<table border=\"1\" class=\"dataframe\">\n",
       "  <thead>\n",
       "    <tr style=\"text-align: right;\">\n",
       "      <th></th>\n",
       "      <th>id</th>\n",
       "      <th>overview</th>\n",
       "      <th>vote_average</th>\n",
       "      <th>vote_count</th>\n",
       "      <th>year</th>\n",
       "      <th>imdb_id</th>\n",
       "      <th>title</th>\n",
       "      <th>keywords</th>\n",
       "      <th>genre</th>\n",
       "      <th>director</th>\n",
       "      <th>writer</th>\n",
       "      <th>cast</th>\n",
       "    </tr>\n",
       "  </thead>\n",
       "  <tbody>\n",
       "    <tr>\n",
       "      <th>0</th>\n",
       "      <td>766431</td>\n",
       "      <td>Former P.O.W. Jack Calgrove moves Heaven and E...</td>\n",
       "      <td>7.3</td>\n",
       "      <td>65</td>\n",
       "      <td>2022</td>\n",
       "      <td>tt8859236</td>\n",
       "      <td>Hostile Territory</td>\n",
       "      <td>['civil war', 'orphanage', 'train', 'orphan', ...</td>\n",
       "      <td>['Western', 'Action', 'Drama', 'History']</td>\n",
       "      <td>['Brian Presley']</td>\n",
       "      <td>['Brian Presley']</td>\n",
       "      <td>['Brian Presley', 'Matt McCoy', 'Brad Leland',...</td>\n",
       "    </tr>\n",
       "    <tr>\n",
       "      <th>1</th>\n",
       "      <td>679018</td>\n",
       "      <td>An ex-cricketer struggling to make ends meet, ...</td>\n",
       "      <td>7.2</td>\n",
       "      <td>31</td>\n",
       "      <td>2022</td>\n",
       "      <td>tt5301942</td>\n",
       "      <td>Jersey</td>\n",
       "      <td>['cricket', 'sports', 'remake', 'based on movi...</td>\n",
       "      <td>['Drama']</td>\n",
       "      <td>['Gowtam Tinnanuri']</td>\n",
       "      <td>[]</td>\n",
       "      <td>['Shahid Kapoor', 'Mrunal Thakur', 'Pankaj Kap...</td>\n",
       "    </tr>\n",
       "    <tr>\n",
       "      <th>2</th>\n",
       "      <td>965839</td>\n",
       "      <td>When Jason Dyson refuses to make his prized fi...</td>\n",
       "      <td>5.2</td>\n",
       "      <td>47</td>\n",
       "      <td>2022</td>\n",
       "      <td>tt17219636</td>\n",
       "      <td>Lord of the Streets</td>\n",
       "      <td>[]</td>\n",
       "      <td>['Action']</td>\n",
       "      <td>['Jared Cohn']</td>\n",
       "      <td>['Jared Cohn']</td>\n",
       "      <td>['Treach', 'Quinton Jackson', 'Khalil Rountree...</td>\n",
       "    </tr>\n",
       "  </tbody>\n",
       "</table>\n",
       "</div>"
      ],
      "text/plain": [
       "       id                                           overview  vote_average  \\\n",
       "0  766431  Former P.O.W. Jack Calgrove moves Heaven and E...           7.3   \n",
       "1  679018  An ex-cricketer struggling to make ends meet, ...           7.2   \n",
       "2  965839  When Jason Dyson refuses to make his prized fi...           5.2   \n",
       "\n",
       "   vote_count  year     imdb_id                title  \\\n",
       "0          65  2022   tt8859236    Hostile Territory   \n",
       "1          31  2022   tt5301942               Jersey   \n",
       "2          47  2022  tt17219636  Lord of the Streets   \n",
       "\n",
       "                                            keywords  \\\n",
       "0  ['civil war', 'orphanage', 'train', 'orphan', ...   \n",
       "1  ['cricket', 'sports', 'remake', 'based on movi...   \n",
       "2                                                 []   \n",
       "\n",
       "                                       genre              director  \\\n",
       "0  ['Western', 'Action', 'Drama', 'History']     ['Brian Presley']   \n",
       "1                                  ['Drama']  ['Gowtam Tinnanuri']   \n",
       "2                                 ['Action']        ['Jared Cohn']   \n",
       "\n",
       "              writer                                               cast  \n",
       "0  ['Brian Presley']  ['Brian Presley', 'Matt McCoy', 'Brad Leland',...  \n",
       "1                 []  ['Shahid Kapoor', 'Mrunal Thakur', 'Pankaj Kap...  \n",
       "2     ['Jared Cohn']  ['Treach', 'Quinton Jackson', 'Khalil Rountree...  "
      ]
     },
     "execution_count": 10,
     "metadata": {},
     "output_type": "execute_result"
    }
   ],
   "source": [
    "data = data[data['vote_count']>10]\n",
    "data.reset_index(drop=True,inplace=True)\n",
    "data.head(3)"
   ]
  },
  {
   "cell_type": "code",
   "execution_count": 11,
   "id": "97501a15",
   "metadata": {
    "ExecuteTime": {
     "end_time": "2023-04-06T18:26:16.358504Z",
     "start_time": "2023-04-06T18:26:16.344505Z"
    }
   },
   "outputs": [
    {
     "data": {
      "text/plain": [
       "(50830, 12)"
      ]
     },
     "execution_count": 11,
     "metadata": {},
     "output_type": "execute_result"
    }
   ],
   "source": [
    "data.shape"
   ]
  },
  {
   "cell_type": "code",
   "execution_count": 12,
   "id": "a70583f6",
   "metadata": {
    "ExecuteTime": {
     "end_time": "2023-04-06T18:26:17.343954Z",
     "start_time": "2023-04-06T18:26:17.270421Z"
    }
   },
   "outputs": [
    {
     "name": "stdout",
     "output_type": "stream",
     "text": [
      "<class 'pandas.core.frame.DataFrame'>\n",
      "RangeIndex: 50830 entries, 0 to 50829\n",
      "Data columns (total 12 columns):\n",
      " #   Column        Non-Null Count  Dtype  \n",
      "---  ------        --------------  -----  \n",
      " 0   id            50830 non-null  int64  \n",
      " 1   overview      50830 non-null  object \n",
      " 2   vote_average  50830 non-null  float64\n",
      " 3   vote_count    50830 non-null  int64  \n",
      " 4   year          50830 non-null  int64  \n",
      " 5   imdb_id       50738 non-null  object \n",
      " 6   title         50830 non-null  object \n",
      " 7   keywords      50830 non-null  object \n",
      " 8   genre         50830 non-null  object \n",
      " 9   director      50830 non-null  object \n",
      " 10  writer        50830 non-null  object \n",
      " 11  cast          50830 non-null  object \n",
      "dtypes: float64(1), int64(3), object(8)\n",
      "memory usage: 4.7+ MB\n"
     ]
    }
   ],
   "source": [
    "data.info()"
   ]
  },
  {
   "cell_type": "code",
   "execution_count": 13,
   "id": "6d3b14e7",
   "metadata": {
    "ExecuteTime": {
     "end_time": "2023-04-06T18:26:18.120634Z",
     "start_time": "2023-04-06T18:26:18.099639Z"
    }
   },
   "outputs": [
    {
     "name": "stdout",
     "output_type": "stream",
     "text": [
      "<class 'numpy.int64'> id\n",
      "<class 'str'> overview\n",
      "<class 'numpy.float64'> vote_average\n",
      "<class 'numpy.int64'> vote_count\n",
      "<class 'numpy.int64'> year\n",
      "<class 'str'> imdb_id\n",
      "<class 'str'> title\n",
      "<class 'str'> keywords\n",
      "<class 'str'> genre\n",
      "<class 'str'> director\n",
      "<class 'str'> writer\n",
      "<class 'str'> cast\n"
     ]
    }
   ],
   "source": [
    "for i in data.columns:\n",
    "    print(type(data.loc[0,i]),i)"
   ]
  },
  {
   "cell_type": "code",
   "execution_count": 14,
   "id": "1ce88bb5",
   "metadata": {
    "ExecuteTime": {
     "end_time": "2023-04-06T18:26:18.667959Z",
     "start_time": "2023-04-06T18:26:18.654910Z"
    }
   },
   "outputs": [],
   "source": [
    "import ast\n",
    "import re"
   ]
  },
  {
   "cell_type": "code",
   "execution_count": 15,
   "id": "7a791cf6",
   "metadata": {
    "ExecuteTime": {
     "end_time": "2023-04-06T18:26:20.254578Z",
     "start_time": "2023-04-06T18:26:20.245583Z"
    }
   },
   "outputs": [],
   "source": [
    "def remove_special_chars(text):\n",
    "    pattern = r'[^\\w\\s]'\n",
    "    return re.sub(pattern, '', text)"
   ]
  },
  {
   "cell_type": "code",
   "execution_count": 16,
   "id": "7c6af0c6",
   "metadata": {
    "ExecuteTime": {
     "end_time": "2023-04-06T18:26:20.898001Z",
     "start_time": "2023-04-06T18:26:20.469951Z"
    }
   },
   "outputs": [],
   "source": [
    "data['overview']=data['overview'].apply(remove_special_chars)"
   ]
  },
  {
   "cell_type": "code",
   "execution_count": 17,
   "id": "50270bae",
   "metadata": {
    "ExecuteTime": {
     "end_time": "2023-04-06T18:26:21.305229Z",
     "start_time": "2023-04-06T18:26:20.898001Z"
    }
   },
   "outputs": [],
   "source": [
    "data['overview']=data['overview'].apply(lambda x : x.split())"
   ]
  },
  {
   "cell_type": "code",
   "execution_count": 18,
   "id": "da78ee62",
   "metadata": {
    "ExecuteTime": {
     "end_time": "2023-04-06T18:26:25.435237Z",
     "start_time": "2023-04-06T18:26:21.309228Z"
    }
   },
   "outputs": [],
   "source": [
    "data['genre'] = data['genre'].apply(ast.literal_eval)\n",
    "data['cast'] = data['cast'].apply(ast.literal_eval)\n",
    "data['keywords'] = data['keywords'].apply(ast.literal_eval)\n",
    "data['director'] = data['director'].apply(ast.literal_eval)\n",
    "data['writer'] = data['writer'].apply(ast.literal_eval)"
   ]
  },
  {
   "cell_type": "code",
   "execution_count": 19,
   "id": "6c8e5a81",
   "metadata": {
    "ExecuteTime": {
     "end_time": "2023-04-06T18:26:26.173423Z",
     "start_time": "2023-04-06T18:26:25.435237Z"
    }
   },
   "outputs": [],
   "source": [
    "data['genre'] = data['genre'].apply(lambda x : [i.replace(\" \",\"\") for i in x])\n",
    "data['cast'] = data['cast'].apply(lambda x : [i.replace(\" \",\"\") for i in x])\n",
    "data['keywords'] = data['keywords'].apply(lambda x : [i.replace(\" \",\"\") for i in x])\n",
    "data['director'] = data['director'].apply(lambda x : [i.replace(\" \",\"\") for i in x])\n",
    "data['writer'] = data['writer'].apply(lambda x : [i.replace(\" \",\"\") for i in x])"
   ]
  },
  {
   "cell_type": "code",
   "execution_count": 20,
   "id": "d2bce6fe",
   "metadata": {
    "ExecuteTime": {
     "end_time": "2023-04-06T18:26:26.188997Z",
     "start_time": "2023-04-06T18:26:26.173423Z"
    }
   },
   "outputs": [
    {
     "name": "stdout",
     "output_type": "stream",
     "text": [
      "<class 'numpy.int64'> id\n",
      "<class 'list'> overview\n",
      "<class 'numpy.float64'> vote_average\n",
      "<class 'numpy.int64'> vote_count\n",
      "<class 'numpy.int64'> year\n",
      "<class 'str'> imdb_id\n",
      "<class 'str'> title\n",
      "<class 'list'> keywords\n",
      "<class 'list'> genre\n",
      "<class 'list'> director\n",
      "<class 'list'> writer\n",
      "<class 'list'> cast\n"
     ]
    }
   ],
   "source": [
    "for i in data.columns:\n",
    "    print(type(data.loc[0,i]),i)"
   ]
  },
  {
   "cell_type": "code",
   "execution_count": 21,
   "id": "f916f042",
   "metadata": {
    "ExecuteTime": {
     "end_time": "2023-04-06T18:26:27.140562Z",
     "start_time": "2023-04-06T18:26:26.193402Z"
    }
   },
   "outputs": [],
   "source": [
    "data['tags'] =  data['genre'] + data['cast'] + data['keywords'] + data['director'] + data['writer'] + data['overview']"
   ]
  },
  {
   "cell_type": "code",
   "execution_count": 22,
   "id": "0cddf306",
   "metadata": {
    "ExecuteTime": {
     "end_time": "2023-04-06T18:26:27.219437Z",
     "start_time": "2023-04-06T18:26:27.140562Z"
    }
   },
   "outputs": [
    {
     "data": {
      "text/html": [
       "<div>\n",
       "<style scoped>\n",
       "    .dataframe tbody tr th:only-of-type {\n",
       "        vertical-align: middle;\n",
       "    }\n",
       "\n",
       "    .dataframe tbody tr th {\n",
       "        vertical-align: top;\n",
       "    }\n",
       "\n",
       "    .dataframe thead th {\n",
       "        text-align: right;\n",
       "    }\n",
       "</style>\n",
       "<table border=\"1\" class=\"dataframe\">\n",
       "  <thead>\n",
       "    <tr style=\"text-align: right;\">\n",
       "      <th></th>\n",
       "      <th>id</th>\n",
       "      <th>overview</th>\n",
       "      <th>vote_average</th>\n",
       "      <th>vote_count</th>\n",
       "      <th>year</th>\n",
       "      <th>imdb_id</th>\n",
       "      <th>title</th>\n",
       "      <th>keywords</th>\n",
       "      <th>genre</th>\n",
       "      <th>director</th>\n",
       "      <th>writer</th>\n",
       "      <th>cast</th>\n",
       "      <th>tags</th>\n",
       "    </tr>\n",
       "  </thead>\n",
       "  <tbody>\n",
       "    <tr>\n",
       "      <th>29549</th>\n",
       "      <td>11431</td>\n",
       "      <td>[Lindsay, is, stuck, in, the, middle, of, her,...</td>\n",
       "      <td>6.2</td>\n",
       "      <td>601</td>\n",
       "      <td>2005</td>\n",
       "      <td>tt0332047</td>\n",
       "      <td>Fever Pitch</td>\n",
       "      <td>[baseball, fanatic, relationshipproblems, spor...</td>\n",
       "      <td>[Comedy, Drama, Romance]</td>\n",
       "      <td>[BobbyFarrelly, PeterFarrelly]</td>\n",
       "      <td>[]</td>\n",
       "      <td>[DrewBarrymore, JimmyFallon, JasonSpevack, Jac...</td>\n",
       "      <td>[Comedy, Drama, Romance, DrewBarrymore, JimmyF...</td>\n",
       "    </tr>\n",
       "    <tr>\n",
       "      <th>14128</th>\n",
       "      <td>365834</td>\n",
       "      <td>[A, group, of, friends, experimenting, with, E...</td>\n",
       "      <td>4.1</td>\n",
       "      <td>14</td>\n",
       "      <td>2015</td>\n",
       "      <td>tt3733618</td>\n",
       "      <td>Trace</td>\n",
       "      <td>[suicide, demon, evp]</td>\n",
       "      <td>[Horror]</td>\n",
       "      <td>[RyanBrookhart]</td>\n",
       "      <td>[RyanBrookhart]</td>\n",
       "      <td>[AugustRoads, JerodMeagher, SamValentine, Madd...</td>\n",
       "      <td>[Horror, AugustRoads, JerodMeagher, SamValenti...</td>\n",
       "    </tr>\n",
       "    <tr>\n",
       "      <th>27092</th>\n",
       "      <td>39158</td>\n",
       "      <td>[On, the, last, working, day, of, Sheriff, Way...</td>\n",
       "      <td>4.6</td>\n",
       "      <td>64</td>\n",
       "      <td>2007</td>\n",
       "      <td>tt0491005</td>\n",
       "      <td>Kaw</td>\n",
       "      <td>[fire, lossoflovedone, sheriff, smalltown, dep...</td>\n",
       "      <td>[Horror, Thriller, ScienceFiction, Action]</td>\n",
       "      <td>[SheldonWilson]</td>\n",
       "      <td>[]</td>\n",
       "      <td>[SeanPatrickFlanery, KristinBooth, MeganPark, ...</td>\n",
       "      <td>[Horror, Thriller, ScienceFiction, Action, Sea...</td>\n",
       "    </tr>\n",
       "    <tr>\n",
       "      <th>3096</th>\n",
       "      <td>699046</td>\n",
       "      <td>[Four, notorious, thieves, wake, up, in, a, fo...</td>\n",
       "      <td>5.7</td>\n",
       "      <td>21</td>\n",
       "      <td>2020</td>\n",
       "      <td>tt9261042</td>\n",
       "      <td>A Perfect Plan</td>\n",
       "      <td>[]</td>\n",
       "      <td>[Action, Adventure, Crime, Mystery, Thriller]</td>\n",
       "      <td>[JesseD.Ikeman]</td>\n",
       "      <td>[JesseD.Ikeman, GeoffHart, AlKratina]</td>\n",
       "      <td>[WilliamForsythe, KathleenMunroe, CarloRota, G...</td>\n",
       "      <td>[Action, Adventure, Crime, Mystery, Thriller, ...</td>\n",
       "    </tr>\n",
       "    <tr>\n",
       "      <th>4204</th>\n",
       "      <td>728796</td>\n",
       "      <td>[When, a, hotel, hallway, is, ravaged, by, a, ...</td>\n",
       "      <td>5.8</td>\n",
       "      <td>82</td>\n",
       "      <td>2020</td>\n",
       "      <td>tt9054692</td>\n",
       "      <td>Hall</td>\n",
       "      <td>[]</td>\n",
       "      <td>[Horror, Thriller]</td>\n",
       "      <td>[FrancescoGiannini]</td>\n",
       "      <td>[FrancescoGiannini, AdamKolodny, DerrickAdams]</td>\n",
       "      <td>[CarolinaBartczak, YumikoShaku, MarkGibson, Ju...</td>\n",
       "      <td>[Horror, Thriller, CarolinaBartczak, YumikoSha...</td>\n",
       "    </tr>\n",
       "    <tr>\n",
       "      <th>47298</th>\n",
       "      <td>84796</td>\n",
       "      <td>[Burnedout, Bmovie, actress, Maria, depressed,...</td>\n",
       "      <td>6.3</td>\n",
       "      <td>16</td>\n",
       "      <td>1972</td>\n",
       "      <td>tt0069098</td>\n",
       "      <td>Play It as It Lays</td>\n",
       "      <td>[drugabuse, mentalbreakdown, alienation, filmi...</td>\n",
       "      <td>[Drama]</td>\n",
       "      <td>[FrankPerry]</td>\n",
       "      <td>[]</td>\n",
       "      <td>[TuesdayWeld, AnthonyPerkins, AdamRoarke, Tamm...</td>\n",
       "      <td>[Drama, TuesdayWeld, AnthonyPerkins, AdamRoark...</td>\n",
       "    </tr>\n",
       "  </tbody>\n",
       "</table>\n",
       "</div>"
      ],
      "text/plain": [
       "           id                                           overview  \\\n",
       "29549   11431  [Lindsay, is, stuck, in, the, middle, of, her,...   \n",
       "14128  365834  [A, group, of, friends, experimenting, with, E...   \n",
       "27092   39158  [On, the, last, working, day, of, Sheriff, Way...   \n",
       "3096   699046  [Four, notorious, thieves, wake, up, in, a, fo...   \n",
       "4204   728796  [When, a, hotel, hallway, is, ravaged, by, a, ...   \n",
       "47298   84796  [Burnedout, Bmovie, actress, Maria, depressed,...   \n",
       "\n",
       "       vote_average  vote_count  year    imdb_id               title  \\\n",
       "29549           6.2         601  2005  tt0332047         Fever Pitch   \n",
       "14128           4.1          14  2015  tt3733618               Trace   \n",
       "27092           4.6          64  2007  tt0491005                 Kaw   \n",
       "3096            5.7          21  2020  tt9261042      A Perfect Plan   \n",
       "4204            5.8          82  2020  tt9054692                Hall   \n",
       "47298           6.3          16  1972  tt0069098  Play It as It Lays   \n",
       "\n",
       "                                                keywords  \\\n",
       "29549  [baseball, fanatic, relationshipproblems, spor...   \n",
       "14128                              [suicide, demon, evp]   \n",
       "27092  [fire, lossoflovedone, sheriff, smalltown, dep...   \n",
       "3096                                                  []   \n",
       "4204                                                  []   \n",
       "47298  [drugabuse, mentalbreakdown, alienation, filmi...   \n",
       "\n",
       "                                               genre  \\\n",
       "29549                       [Comedy, Drama, Romance]   \n",
       "14128                                       [Horror]   \n",
       "27092     [Horror, Thriller, ScienceFiction, Action]   \n",
       "3096   [Action, Adventure, Crime, Mystery, Thriller]   \n",
       "4204                              [Horror, Thriller]   \n",
       "47298                                        [Drama]   \n",
       "\n",
       "                             director  \\\n",
       "29549  [BobbyFarrelly, PeterFarrelly]   \n",
       "14128                 [RyanBrookhart]   \n",
       "27092                 [SheldonWilson]   \n",
       "3096                  [JesseD.Ikeman]   \n",
       "4204              [FrancescoGiannini]   \n",
       "47298                    [FrankPerry]   \n",
       "\n",
       "                                               writer  \\\n",
       "29549                                              []   \n",
       "14128                                 [RyanBrookhart]   \n",
       "27092                                              []   \n",
       "3096            [JesseD.Ikeman, GeoffHart, AlKratina]   \n",
       "4204   [FrancescoGiannini, AdamKolodny, DerrickAdams]   \n",
       "47298                                              []   \n",
       "\n",
       "                                                    cast  \\\n",
       "29549  [DrewBarrymore, JimmyFallon, JasonSpevack, Jac...   \n",
       "14128  [AugustRoads, JerodMeagher, SamValentine, Madd...   \n",
       "27092  [SeanPatrickFlanery, KristinBooth, MeganPark, ...   \n",
       "3096   [WilliamForsythe, KathleenMunroe, CarloRota, G...   \n",
       "4204   [CarolinaBartczak, YumikoShaku, MarkGibson, Ju...   \n",
       "47298  [TuesdayWeld, AnthonyPerkins, AdamRoarke, Tamm...   \n",
       "\n",
       "                                                    tags  \n",
       "29549  [Comedy, Drama, Romance, DrewBarrymore, JimmyF...  \n",
       "14128  [Horror, AugustRoads, JerodMeagher, SamValenti...  \n",
       "27092  [Horror, Thriller, ScienceFiction, Action, Sea...  \n",
       "3096   [Action, Adventure, Crime, Mystery, Thriller, ...  \n",
       "4204   [Horror, Thriller, CarolinaBartczak, YumikoSha...  \n",
       "47298  [Drama, TuesdayWeld, AnthonyPerkins, AdamRoark...  "
      ]
     },
     "execution_count": 22,
     "metadata": {},
     "output_type": "execute_result"
    }
   ],
   "source": [
    "data.sample(6)"
   ]
  },
  {
   "cell_type": "code",
   "execution_count": 23,
   "id": "e3216888",
   "metadata": {
    "ExecuteTime": {
     "end_time": "2023-04-06T18:26:27.249183Z",
     "start_time": "2023-04-06T18:26:27.223302Z"
    }
   },
   "outputs": [
    {
     "data": {
      "text/plain": [
       "array([list(['Western', 'Action', 'Drama', 'History', 'BrianPresley', 'MattMcCoy', 'BradLeland', 'BreaBee', 'LewTemple', 'civilwar', 'orphanage', 'train', 'orphan', 'postwar', '18thcentury', 'postcivilwar', '19thcentury', 'orphansiblings', '1860s', '1870s', 'orphantrain', 'BrianPresley', 'BrianPresley', 'Former', 'POW', 'Jack', 'Calgrove', 'moves', 'Heaven', 'and', 'Earth', 'to', 'be', 'reunited', 'with', 'his', 'children', 'following', 'the', 'Civil', 'War', 'After', 'returning', 'home', 'Jack', 'discovers', 'that', 'his', 'wife', 'has', 'tragically', 'died', 'and', 'his', 'children', 'presumed', 'to', 'be', 'orphans', 'are', 'heading', 'deep', 'into', 'the', 'West', 'on', 'a', 'train', 'crossing', 'enemy', 'lines', 'with', 'the', 'intent', 'of', 'being', 'placed', 'into', 'new', 'homes', 'Calgrove', 'and', 'another', 'soldier', 'team', 'up', 'with', 'a', 'troop', 'of', 'Native', 'American', 'sharpshooters', 'and', 'a', 'freed', 'slave', 'as', 'they', 'try', 'to', 'stop', 'the', 'train']),\n",
       "       list(['Drama', 'ShahidKapoor', 'MrunalThakur', 'PankajKapur', 'RonitKamra', 'RiturajSingh', 'cricket', 'sports', 'remake', 'basedonmovie', 'fathersonrelationship', 'GowtamTinnanuri', 'An', 'excricketer', 'struggling', 'to', 'make', 'ends', 'meet', 'wants', 'to', 'fulfill', 'his', 'childs', 'wish', 'of', 'getting', 'an', 'Indian', 'jersey', 'but', 'in', 'the', 'process', 'comes', 'face', 'to', 'face', 'with', 'his', 'heroic', 'past', 'and', 'is', 'forced', 'to', 'decide', 'if', 'he', 'will', 'rise', 'to', 'the', 'occasion', 'and', 'become', 'a', 'symbol', 'of', 'hope', 'or', 'continue', 'to', 'live', 'a', 'life', 'as', 'a', 'loser']),\n",
       "       list(['Action', 'Treach', 'QuintonJackson', 'KhalilRountreeJr.', 'AndersonSilva', 'RichardGrieco', 'JaredCohn', 'JaredCohn', 'When', 'Jason', 'Dyson', 'refuses', 'to', 'make', 'his', 'prized', 'fighter', 'throw', 'an', 'MMA', 'match', 'a', 'notorious', 'gangster', 'collects', 'his', 'debt', 'by', 'killing', 'the', 'fighter', 'and', 'kidnapping', 'Jasons', 'daughter', 'Now', 'he', 'must', 'train', 'a', 'prisoner', 'to', 'endure', 'five', 'consecutive', 'underground', 'fights', 'to', 'save', 'her']),\n",
       "       ...,\n",
       "       list(['Drama', 'History', 'War', 'SusanStrasberg', 'LaurentTerzieff', 'EmmanuelleRiva', 'DidiPerego', 'GianniGarko', 'concentrationcamp', 'GilloPontecorvo', 'Determined', 'to', 'survive', 'at', 'any', 'price', 'Edith', 'a', 'young', 'Jewish', 'woman', 'deported', 'to', 'an', 'extermination', 'camp', 'manages', 'to', 'survive', 'by', 'accepting', 'the', 'role', 'of', 'kapo', 'a', 'privileged', 'prisoner', 'whose', 'mission', 'is', 'to', 'ruthlessly', 'guard', 'other', 'prisoners']),\n",
       "       list(['Comedy', 'Crime', 'JoelRinne', 'ElinaPohjanpää', 'MattiRanin', 'LeoRiuttu', 'LeoJokela', 'basedonnovelorbook', 'inspector', 'tycoon', 'whodunit', 'MattiKassila', 'A', 'closed', 'room', 'mystery', 'begins', 'when', 'an', 'infamous', 'tycoon', 'is', 'found', 'dead', 'in', 'his', 'bath', 'tub', 'The', 'famous', 'police', 'lieutenant', 'Palmu', 'is', 'summoned', 'to', 'investigate']),\n",
       "       list(['Crime', 'Drama', 'AlainDelon', 'RenatoSalvatori', 'AnnieGirardot', 'KatinaPaxinou', 'AlessandraPanaro', 'siblingrelationship', 'prostitute', 'parentchildrelationship', 'milan', 'boxer', 'work', 'widow', 'love', 'murder', 'workingclass', 'illegalprostitution', 'matriarch', 'LuchinoVisconti', 'When', 'a', 'impoverished', 'widows', 'family', 'moves', 'to', 'the', 'big', 'city', 'two', 'of', 'her', 'five', 'sons', 'become', 'romantic', 'rivals', 'with', 'deadly', 'results'])],\n",
       "      dtype=object)"
      ]
     },
     "execution_count": 23,
     "metadata": {},
     "output_type": "execute_result"
    }
   ],
   "source": [
    "data['tags'].values"
   ]
  },
  {
   "cell_type": "code",
   "execution_count": 24,
   "id": "3dfe8a02",
   "metadata": {
    "ExecuteTime": {
     "end_time": "2023-04-06T18:26:27.436737Z",
     "start_time": "2023-04-06T18:26:27.254203Z"
    }
   },
   "outputs": [],
   "source": [
    "data['tags'] = data['tags'].apply(lambda x : \" \".join(x))"
   ]
  },
  {
   "cell_type": "code",
   "execution_count": 25,
   "id": "fd6259a5",
   "metadata": {
    "ExecuteTime": {
     "end_time": "2023-04-06T18:26:27.546050Z",
     "start_time": "2023-04-06T18:26:27.439725Z"
    }
   },
   "outputs": [
    {
     "data": {
      "text/plain": [
       "id               0\n",
       "overview         0\n",
       "vote_average     0\n",
       "vote_count       0\n",
       "year             0\n",
       "imdb_id         92\n",
       "title            0\n",
       "keywords         0\n",
       "genre            0\n",
       "director         0\n",
       "writer           0\n",
       "cast             0\n",
       "tags             0\n",
       "dtype: int64"
      ]
     },
     "execution_count": 25,
     "metadata": {},
     "output_type": "execute_result"
    }
   ],
   "source": [
    "data.isnull().sum()"
   ]
  },
  {
   "cell_type": "code",
   "execution_count": 26,
   "id": "dc603f5c",
   "metadata": {
    "ExecuteTime": {
     "end_time": "2023-04-06T18:26:27.561983Z",
     "start_time": "2023-04-06T18:26:27.550957Z"
    }
   },
   "outputs": [
    {
     "data": {
      "text/plain": [
       "array(['Western Action Drama History BrianPresley MattMcCoy BradLeland BreaBee LewTemple civilwar orphanage train orphan postwar 18thcentury postcivilwar 19thcentury orphansiblings 1860s 1870s orphantrain BrianPresley BrianPresley Former POW Jack Calgrove moves Heaven and Earth to be reunited with his children following the Civil War After returning home Jack discovers that his wife has tragically died and his children presumed to be orphans are heading deep into the West on a train crossing enemy lines with the intent of being placed into new homes Calgrove and another soldier team up with a troop of Native American sharpshooters and a freed slave as they try to stop the train',\n",
       "       'Drama ShahidKapoor MrunalThakur PankajKapur RonitKamra RiturajSingh cricket sports remake basedonmovie fathersonrelationship GowtamTinnanuri An excricketer struggling to make ends meet wants to fulfill his childs wish of getting an Indian jersey but in the process comes face to face with his heroic past and is forced to decide if he will rise to the occasion and become a symbol of hope or continue to live a life as a loser',\n",
       "       'Action Treach QuintonJackson KhalilRountreeJr. AndersonSilva RichardGrieco JaredCohn JaredCohn When Jason Dyson refuses to make his prized fighter throw an MMA match a notorious gangster collects his debt by killing the fighter and kidnapping Jasons daughter Now he must train a prisoner to endure five consecutive underground fights to save her',\n",
       "       ...,\n",
       "       'Drama History War SusanStrasberg LaurentTerzieff EmmanuelleRiva DidiPerego GianniGarko concentrationcamp GilloPontecorvo Determined to survive at any price Edith a young Jewish woman deported to an extermination camp manages to survive by accepting the role of kapo a privileged prisoner whose mission is to ruthlessly guard other prisoners',\n",
       "       'Comedy Crime JoelRinne ElinaPohjanpää MattiRanin LeoRiuttu LeoJokela basedonnovelorbook inspector tycoon whodunit MattiKassila A closed room mystery begins when an infamous tycoon is found dead in his bath tub The famous police lieutenant Palmu is summoned to investigate',\n",
       "       'Crime Drama AlainDelon RenatoSalvatori AnnieGirardot KatinaPaxinou AlessandraPanaro siblingrelationship prostitute parentchildrelationship milan boxer work widow love murder workingclass illegalprostitution matriarch LuchinoVisconti When a impoverished widows family moves to the big city two of her five sons become romantic rivals with deadly results'],\n",
       "      dtype=object)"
      ]
     },
     "execution_count": 26,
     "metadata": {},
     "output_type": "execute_result"
    }
   ],
   "source": [
    "data['tags'].values"
   ]
  },
  {
   "cell_type": "markdown",
   "id": "39f6b43f",
   "metadata": {},
   "source": [
    "## Stemming using nltk"
   ]
  },
  {
   "cell_type": "code",
   "execution_count": 27,
   "id": "65abe074",
   "metadata": {
    "ExecuteTime": {
     "end_time": "2023-04-06T18:26:37.607343Z",
     "start_time": "2023-04-06T18:26:31.580434Z"
    }
   },
   "outputs": [],
   "source": [
    "import nltk"
   ]
  },
  {
   "cell_type": "code",
   "execution_count": 28,
   "id": "ef55e60b",
   "metadata": {
    "ExecuteTime": {
     "end_time": "2023-04-06T18:26:37.622727Z",
     "start_time": "2023-04-06T18:26:37.607343Z"
    }
   },
   "outputs": [],
   "source": [
    "from nltk.stem.porter import PorterStemmer\n",
    "ps = PorterStemmer()"
   ]
  },
  {
   "cell_type": "code",
   "execution_count": 29,
   "id": "6bbd7ddd",
   "metadata": {
    "ExecuteTime": {
     "end_time": "2023-04-06T18:26:37.637597Z",
     "start_time": "2023-04-06T18:26:37.627632Z"
    }
   },
   "outputs": [
    {
     "data": {
      "text/plain": [
       "('love', 'love')"
      ]
     },
     "execution_count": 29,
     "metadata": {},
     "output_type": "execute_result"
    }
   ],
   "source": [
    "l = ['loved','loving']\n",
    "ps.stem(l[0]),ps.stem(l[1])"
   ]
  },
  {
   "cell_type": "code",
   "execution_count": 30,
   "id": "f4232f0e",
   "metadata": {
    "ExecuteTime": {
     "end_time": "2023-04-06T18:26:41.557672Z",
     "start_time": "2023-04-06T18:26:41.533082Z"
    }
   },
   "outputs": [
    {
     "data": {
      "text/plain": [
       "('love', 'love')"
      ]
     },
     "execution_count": 30,
     "metadata": {},
     "output_type": "execute_result"
    }
   ],
   "source": [
    "import nltk\n",
    "\n",
    "from nltk.stem.porter import PorterStemmer\n",
    "ps = PorterStemmer()\n",
    "\n",
    "l = ['loved','loving']\n",
    "ps.stem(l[0]),ps.stem(l[1])"
   ]
  },
  {
   "cell_type": "code",
   "execution_count": 31,
   "id": "cbb3cc59",
   "metadata": {
    "ExecuteTime": {
     "end_time": "2023-04-06T18:26:41.822479Z",
     "start_time": "2023-04-06T18:26:41.807069Z"
    }
   },
   "outputs": [],
   "source": [
    "def stem(text):\n",
    "    y = []\n",
    "    \n",
    "    for i in text.split():\n",
    "        y.append(ps.stem(i))\n",
    "        \n",
    "    return \" \".join(y)"
   ]
  },
  {
   "cell_type": "code",
   "execution_count": 32,
   "id": "45fc667a",
   "metadata": {
    "ExecuteTime": {
     "end_time": "2023-04-06T18:27:52.932945Z",
     "start_time": "2023-04-06T18:26:43.243986Z"
    }
   },
   "outputs": [],
   "source": [
    "data['tags_stem'] = data['tags'].apply(stem)"
   ]
  },
  {
   "cell_type": "code",
   "execution_count": 33,
   "id": "7ae9394d",
   "metadata": {
    "ExecuteTime": {
     "end_time": "2023-04-06T18:27:53.011676Z",
     "start_time": "2023-04-06T18:27:52.932945Z"
    }
   },
   "outputs": [
    {
     "data": {
      "text/html": [
       "<div>\n",
       "<style scoped>\n",
       "    .dataframe tbody tr th:only-of-type {\n",
       "        vertical-align: middle;\n",
       "    }\n",
       "\n",
       "    .dataframe tbody tr th {\n",
       "        vertical-align: top;\n",
       "    }\n",
       "\n",
       "    .dataframe thead th {\n",
       "        text-align: right;\n",
       "    }\n",
       "</style>\n",
       "<table border=\"1\" class=\"dataframe\">\n",
       "  <thead>\n",
       "    <tr style=\"text-align: right;\">\n",
       "      <th></th>\n",
       "      <th>id</th>\n",
       "      <th>overview</th>\n",
       "      <th>vote_average</th>\n",
       "      <th>vote_count</th>\n",
       "      <th>year</th>\n",
       "      <th>imdb_id</th>\n",
       "      <th>title</th>\n",
       "      <th>keywords</th>\n",
       "      <th>genre</th>\n",
       "      <th>director</th>\n",
       "      <th>writer</th>\n",
       "      <th>cast</th>\n",
       "      <th>tags</th>\n",
       "      <th>tags_stem</th>\n",
       "    </tr>\n",
       "  </thead>\n",
       "  <tbody>\n",
       "    <tr>\n",
       "      <th>45250</th>\n",
       "      <td>114570</td>\n",
       "      <td>[During, a, hunting, party, on, New, Years, Ev...</td>\n",
       "      <td>7.5</td>\n",
       "      <td>17</td>\n",
       "      <td>1977</td>\n",
       "      <td>tt0076286</td>\n",
       "      <td>The Hunters</td>\n",
       "      <td>[hunters]</td>\n",
       "      <td>[Drama]</td>\n",
       "      <td>[TheoAngelopoulos]</td>\n",
       "      <td>[]</td>\n",
       "      <td>[MairiHronopoulou, EvaKotamanidou, BettyValass...</td>\n",
       "      <td>Drama MairiHronopoulou EvaKotamanidou BettyVal...</td>\n",
       "      <td>drama mairihronopoul evakotamanid bettyvalassi...</td>\n",
       "    </tr>\n",
       "    <tr>\n",
       "      <th>35503</th>\n",
       "      <td>34288</td>\n",
       "      <td>[In, December, 1995, a, fourman, team, from, t...</td>\n",
       "      <td>5.1</td>\n",
       "      <td>90</td>\n",
       "      <td>1998</td>\n",
       "      <td>tt0122143</td>\n",
       "      <td>The Last Broadcast</td>\n",
       "      <td>[newjersey, detective, winter, tape, woods, sn...</td>\n",
       "      <td>[Horror, Mystery]</td>\n",
       "      <td>[StefanAvalos, LanceWeiler]</td>\n",
       "      <td>[StefanAvalos, LanceWeiler]</td>\n",
       "      <td>[DavidBeard, JimSeward, StefanAvalos, LanceWei...</td>\n",
       "      <td>Horror Mystery DavidBeard JimSeward StefanAval...</td>\n",
       "      <td>horror mysteri davidbeard jimseward stefanaval...</td>\n",
       "    </tr>\n",
       "    <tr>\n",
       "      <th>45945</th>\n",
       "      <td>31671</td>\n",
       "      <td>[A, bush, pilot, is, hired, for, 250000, to, g...</td>\n",
       "      <td>6.5</td>\n",
       "      <td>75</td>\n",
       "      <td>1975</td>\n",
       "      <td>tt0072737</td>\n",
       "      <td>Breakout</td>\n",
       "      <td>[prison, mexico, helicopter, pilot, escape, wr...</td>\n",
       "      <td>[Action, Adventure, Thriller]</td>\n",
       "      <td>[TomGries]</td>\n",
       "      <td>[]</td>\n",
       "      <td>[CharlesBronson, RobertDuvall, JillIreland, Ra...</td>\n",
       "      <td>Action Adventure Thriller CharlesBronson Rober...</td>\n",
       "      <td>action adventur thriller charlesbronson robert...</td>\n",
       "    </tr>\n",
       "    <tr>\n",
       "      <th>5504</th>\n",
       "      <td>535092</td>\n",
       "      <td>[Oliver, is, a, banker, and, portfolio, manage...</td>\n",
       "      <td>6.5</td>\n",
       "      <td>73</td>\n",
       "      <td>2019</td>\n",
       "      <td>tt7689310</td>\n",
       "      <td>The Goldfish</td>\n",
       "      <td>[]</td>\n",
       "      <td>[Comedy]</td>\n",
       "      <td>[AlirezaGolafshan]</td>\n",
       "      <td>[AlirezaGolafshan]</td>\n",
       "      <td>[JellaHaase, BirgitMinichmayr, KidaKhodrRamada...</td>\n",
       "      <td>Comedy JellaHaase BirgitMinichmayr KidaKhodrRa...</td>\n",
       "      <td>comedi jellahaas birgitminichmayr kidakhodrram...</td>\n",
       "    </tr>\n",
       "    <tr>\n",
       "      <th>39409</th>\n",
       "      <td>27494</td>\n",
       "      <td>[Charles, Lattimore, an, author, of, a, book, ...</td>\n",
       "      <td>5.5</td>\n",
       "      <td>12</td>\n",
       "      <td>1991</td>\n",
       "      <td>tt0102482</td>\n",
       "      <td>Murder 101</td>\n",
       "      <td>[murder, author]</td>\n",
       "      <td>[Thriller, Mystery, TVMovie]</td>\n",
       "      <td>[BillCondon]</td>\n",
       "      <td>[BillCondon, RoyJohansen]</td>\n",
       "      <td>[PierceBrosnan, DeyYoung, AntoniCorone, Raphae...</td>\n",
       "      <td>Thriller Mystery TVMovie PierceBrosnan DeyYoun...</td>\n",
       "      <td>thriller mysteri tvmovi piercebrosnan deyyoung...</td>\n",
       "    </tr>\n",
       "    <tr>\n",
       "      <th>13375</th>\n",
       "      <td>417321</td>\n",
       "      <td>[Master, Wu, gets, into, a, conflict, with, Ch...</td>\n",
       "      <td>6.4</td>\n",
       "      <td>21</td>\n",
       "      <td>2016</td>\n",
       "      <td>tt6176078</td>\n",
       "      <td>The Master: A LEGO Ninjago Short</td>\n",
       "      <td>[lego]</td>\n",
       "      <td>[Animation, Comedy, Action]</td>\n",
       "      <td>[JonSaunders]</td>\n",
       "      <td>[JonSaunders, RossEvans]</td>\n",
       "      <td>[JackieChan, AbbiJacobson, JustinTheroux]</td>\n",
       "      <td>Animation Comedy Action JackieChan AbbiJacobso...</td>\n",
       "      <td>anim comedi action jackiechan abbijacobson jus...</td>\n",
       "    </tr>\n",
       "    <tr>\n",
       "      <th>35471</th>\n",
       "      <td>62134</td>\n",
       "      <td>[Franck, shows, up, in, a, gossip, magazine, p...</td>\n",
       "      <td>5.1</td>\n",
       "      <td>51</td>\n",
       "      <td>1998</td>\n",
       "      <td>tt0133314</td>\n",
       "      <td>Paparazzi</td>\n",
       "      <td>[photographer, magazine, celebrity]</td>\n",
       "      <td>[Comedy]</td>\n",
       "      <td>[AlainBerbérian]</td>\n",
       "      <td>[AlainBerbérian, Jean-FrançoisHalin]</td>\n",
       "      <td>[PatrickTimsit, VincentLindon, CatherineFrot, ...</td>\n",
       "      <td>Comedy PatrickTimsit VincentLindon CatherineFr...</td>\n",
       "      <td>comedi patricktimsit vincentlindon catherinefr...</td>\n",
       "    </tr>\n",
       "  </tbody>\n",
       "</table>\n",
       "</div>"
      ],
      "text/plain": [
       "           id                                           overview  \\\n",
       "45250  114570  [During, a, hunting, party, on, New, Years, Ev...   \n",
       "35503   34288  [In, December, 1995, a, fourman, team, from, t...   \n",
       "45945   31671  [A, bush, pilot, is, hired, for, 250000, to, g...   \n",
       "5504   535092  [Oliver, is, a, banker, and, portfolio, manage...   \n",
       "39409   27494  [Charles, Lattimore, an, author, of, a, book, ...   \n",
       "13375  417321  [Master, Wu, gets, into, a, conflict, with, Ch...   \n",
       "35471   62134  [Franck, shows, up, in, a, gossip, magazine, p...   \n",
       "\n",
       "       vote_average  vote_count  year    imdb_id  \\\n",
       "45250           7.5          17  1977  tt0076286   \n",
       "35503           5.1          90  1998  tt0122143   \n",
       "45945           6.5          75  1975  tt0072737   \n",
       "5504            6.5          73  2019  tt7689310   \n",
       "39409           5.5          12  1991  tt0102482   \n",
       "13375           6.4          21  2016  tt6176078   \n",
       "35471           5.1          51  1998  tt0133314   \n",
       "\n",
       "                                  title  \\\n",
       "45250                       The Hunters   \n",
       "35503                The Last Broadcast   \n",
       "45945                          Breakout   \n",
       "5504                       The Goldfish   \n",
       "39409                        Murder 101   \n",
       "13375  The Master: A LEGO Ninjago Short   \n",
       "35471                         Paparazzi   \n",
       "\n",
       "                                                keywords  \\\n",
       "45250                                          [hunters]   \n",
       "35503  [newjersey, detective, winter, tape, woods, sn...   \n",
       "45945  [prison, mexico, helicopter, pilot, escape, wr...   \n",
       "5504                                                  []   \n",
       "39409                                   [murder, author]   \n",
       "13375                                             [lego]   \n",
       "35471                [photographer, magazine, celebrity]   \n",
       "\n",
       "                               genre                     director  \\\n",
       "45250                        [Drama]           [TheoAngelopoulos]   \n",
       "35503              [Horror, Mystery]  [StefanAvalos, LanceWeiler]   \n",
       "45945  [Action, Adventure, Thriller]                   [TomGries]   \n",
       "5504                        [Comedy]           [AlirezaGolafshan]   \n",
       "39409   [Thriller, Mystery, TVMovie]                 [BillCondon]   \n",
       "13375    [Animation, Comedy, Action]                [JonSaunders]   \n",
       "35471                       [Comedy]             [AlainBerbérian]   \n",
       "\n",
       "                                     writer  \\\n",
       "45250                                    []   \n",
       "35503           [StefanAvalos, LanceWeiler]   \n",
       "45945                                    []   \n",
       "5504                     [AlirezaGolafshan]   \n",
       "39409             [BillCondon, RoyJohansen]   \n",
       "13375              [JonSaunders, RossEvans]   \n",
       "35471  [AlainBerbérian, Jean-FrançoisHalin]   \n",
       "\n",
       "                                                    cast  \\\n",
       "45250  [MairiHronopoulou, EvaKotamanidou, BettyValass...   \n",
       "35503  [DavidBeard, JimSeward, StefanAvalos, LanceWei...   \n",
       "45945  [CharlesBronson, RobertDuvall, JillIreland, Ra...   \n",
       "5504   [JellaHaase, BirgitMinichmayr, KidaKhodrRamada...   \n",
       "39409  [PierceBrosnan, DeyYoung, AntoniCorone, Raphae...   \n",
       "13375          [JackieChan, AbbiJacobson, JustinTheroux]   \n",
       "35471  [PatrickTimsit, VincentLindon, CatherineFrot, ...   \n",
       "\n",
       "                                                    tags  \\\n",
       "45250  Drama MairiHronopoulou EvaKotamanidou BettyVal...   \n",
       "35503  Horror Mystery DavidBeard JimSeward StefanAval...   \n",
       "45945  Action Adventure Thriller CharlesBronson Rober...   \n",
       "5504   Comedy JellaHaase BirgitMinichmayr KidaKhodrRa...   \n",
       "39409  Thriller Mystery TVMovie PierceBrosnan DeyYoun...   \n",
       "13375  Animation Comedy Action JackieChan AbbiJacobso...   \n",
       "35471  Comedy PatrickTimsit VincentLindon CatherineFr...   \n",
       "\n",
       "                                               tags_stem  \n",
       "45250  drama mairihronopoul evakotamanid bettyvalassi...  \n",
       "35503  horror mysteri davidbeard jimseward stefanaval...  \n",
       "45945  action adventur thriller charlesbronson robert...  \n",
       "5504   comedi jellahaas birgitminichmayr kidakhodrram...  \n",
       "39409  thriller mysteri tvmovi piercebrosnan deyyoung...  \n",
       "13375  anim comedi action jackiechan abbijacobson jus...  \n",
       "35471  comedi patricktimsit vincentlindon catherinefr...  "
      ]
     },
     "execution_count": 33,
     "metadata": {},
     "output_type": "execute_result"
    }
   ],
   "source": [
    "data.sample(7)"
   ]
  },
  {
   "cell_type": "code",
   "execution_count": 34,
   "id": "56140257",
   "metadata": {
    "ExecuteTime": {
     "end_time": "2023-04-06T18:27:53.026616Z",
     "start_time": "2023-04-06T18:27:53.015160Z"
    }
   },
   "outputs": [
    {
     "data": {
      "text/plain": [
       "(50830, 14)"
      ]
     },
     "execution_count": 34,
     "metadata": {},
     "output_type": "execute_result"
    }
   ],
   "source": [
    "data.shape\n"
   ]
  },
  {
   "cell_type": "markdown",
   "id": "a026d29d",
   "metadata": {},
   "source": [
    "## Vectorisation"
   ]
  },
  {
   "cell_type": "code",
   "execution_count": 57,
   "id": "5fa4bde0",
   "metadata": {
    "ExecuteTime": {
     "end_time": "2023-04-06T16:41:01.155630Z",
     "start_time": "2023-04-06T16:41:01.131427Z"
    }
   },
   "outputs": [],
   "source": [
    "from sklearn.feature_extraction.text import CountVectorizer"
   ]
  },
  {
   "cell_type": "code",
   "execution_count": 58,
   "id": "43d16256",
   "metadata": {
    "ExecuteTime": {
     "end_time": "2023-04-06T16:41:01.510258Z",
     "start_time": "2023-04-06T16:41:01.499510Z"
    }
   },
   "outputs": [],
   "source": [
    "cv = CountVectorizer(max_features=10000,stop_words='english')"
   ]
  },
  {
   "cell_type": "code",
   "execution_count": null,
   "id": "0a883290",
   "metadata": {
    "ExecuteTime": {
     "start_time": "2023-04-06T13:17:24.428Z"
    }
   },
   "outputs": [],
   "source": [
    "vectors = cv.fit_transform(data['tags_stem']).toarray()"
   ]
  },
  {
   "cell_type": "code",
   "execution_count": 59,
   "id": "80359776",
   "metadata": {
    "ExecuteTime": {
     "end_time": "2023-04-06T16:41:19.877573Z",
     "start_time": "2023-04-06T16:41:16.833257Z"
    }
   },
   "outputs": [],
   "source": [
    "vectors = cv.fit_transform(df['tags_stem']).toarray()"
   ]
  },
  {
   "cell_type": "code",
   "execution_count": 60,
   "id": "270ca949",
   "metadata": {
    "ExecuteTime": {
     "end_time": "2023-04-06T16:41:21.779527Z",
     "start_time": "2023-04-06T16:41:21.748261Z"
    }
   },
   "outputs": [
    {
     "data": {
      "text/plain": [
       "(21667, 10000)"
      ]
     },
     "execution_count": 60,
     "metadata": {},
     "output_type": "execute_result"
    }
   ],
   "source": [
    "vectors.shape"
   ]
  },
  {
   "cell_type": "code",
   "execution_count": 61,
   "id": "98a67a20",
   "metadata": {
    "ExecuteTime": {
     "end_time": "2023-04-06T16:41:23.073600Z",
     "start_time": "2023-04-06T16:41:23.034608Z"
    }
   },
   "outputs": [
    {
     "data": {
      "text/plain": [
       "array(['10', '100', '1000', ..., 'álexdelaiglesia', 'édouardbaer',\n",
       "       'éricrohm'], dtype=object)"
      ]
     },
     "execution_count": 61,
     "metadata": {},
     "output_type": "execute_result"
    }
   ],
   "source": [
    "cv.get_feature_names_out()"
   ]
  },
  {
   "cell_type": "code",
   "execution_count": 62,
   "id": "05fc8d47",
   "metadata": {
    "ExecuteTime": {
     "end_time": "2023-04-06T16:41:23.696890Z",
     "start_time": "2023-04-06T16:41:23.640164Z"
    }
   },
   "outputs": [
    {
     "name": "stderr",
     "output_type": "stream",
     "text": [
      "C:\\ProgramData\\Anaconda3\\lib\\site-packages\\sklearn\\utils\\deprecation.py:87: FutureWarning: Function get_feature_names is deprecated; get_feature_names is deprecated in 1.0 and will be removed in 1.2. Please use get_feature_names_out instead.\n",
      "  warnings.warn(msg, category=FutureWarning)\n"
     ]
    },
    {
     "data": {
      "text/plain": [
       "['10',\n",
       " '100',\n",
       " '1000',\n",
       " '10yearold',\n",
       " '11',\n",
       " '11yearold',\n",
       " '12',\n",
       " '12th',\n",
       " '12yearold',\n",
       " '13',\n",
       " '13th',\n",
       " '13thcenturi',\n",
       " '13yearold',\n",
       " '14',\n",
       " '14thcenturi',\n",
       " '14yearold',\n",
       " '15',\n",
       " '15th',\n",
       " '15thcenturi',\n",
       " '15yearold',\n",
       " '16',\n",
       " '16th',\n",
       " '16thcenturi',\n",
       " '16yearold',\n",
       " '17',\n",
       " '17th',\n",
       " '17thcenturi',\n",
       " '17yearold',\n",
       " '18',\n",
       " '1800',\n",
       " '18th',\n",
       " '18thcenturi',\n",
       " '18yearold',\n",
       " '19',\n",
       " '1900',\n",
       " '1910',\n",
       " '1917',\n",
       " '1918',\n",
       " '1920',\n",
       " '1930',\n",
       " '1936',\n",
       " '1937',\n",
       " '1939',\n",
       " '1940',\n",
       " '1941',\n",
       " '1942',\n",
       " '1943',\n",
       " '1944',\n",
       " '1945',\n",
       " '1948',\n",
       " '1950',\n",
       " '1954',\n",
       " '1955',\n",
       " '1957',\n",
       " '1959',\n",
       " '1960',\n",
       " '1962',\n",
       " '1963',\n",
       " '1964',\n",
       " '1965',\n",
       " '1966',\n",
       " '1967',\n",
       " '1968',\n",
       " '1969',\n",
       " '1970',\n",
       " '1971',\n",
       " '1972',\n",
       " '1973',\n",
       " '1974',\n",
       " '1975',\n",
       " '1976',\n",
       " '1977',\n",
       " '1978',\n",
       " '1979',\n",
       " '1980',\n",
       " '1981',\n",
       " '1982',\n",
       " '1983',\n",
       " '1984',\n",
       " '1985',\n",
       " '1986',\n",
       " '1987',\n",
       " '1988',\n",
       " '1989',\n",
       " '1990',\n",
       " '1991',\n",
       " '1992',\n",
       " '1993',\n",
       " '1994',\n",
       " '1995',\n",
       " '1998',\n",
       " '1999',\n",
       " '19th',\n",
       " '19thcenturi',\n",
       " '19yearold',\n",
       " '1stcenturi',\n",
       " '20',\n",
       " '200',\n",
       " '2000',\n",
       " '2001',\n",
       " '2002',\n",
       " '2003',\n",
       " '2004',\n",
       " '2006',\n",
       " '2008',\n",
       " '2009',\n",
       " '2010',\n",
       " '2011',\n",
       " '2012',\n",
       " '2013',\n",
       " '2015',\n",
       " '2016',\n",
       " '2017',\n",
       " '2019',\n",
       " '2020',\n",
       " '2030',\n",
       " '2040',\n",
       " '20th',\n",
       " '20yearold',\n",
       " '21',\n",
       " '21st',\n",
       " '22',\n",
       " '22nd',\n",
       " '23',\n",
       " '24',\n",
       " '24hour',\n",
       " '25',\n",
       " '26',\n",
       " '28',\n",
       " '30',\n",
       " '300',\n",
       " '31',\n",
       " '35',\n",
       " '39',\n",
       " '3d',\n",
       " '40',\n",
       " '40yearold',\n",
       " '45',\n",
       " '48',\n",
       " '50',\n",
       " '500',\n",
       " '50cent',\n",
       " '60',\n",
       " '70',\n",
       " '80',\n",
       " '8yearold',\n",
       " '90',\n",
       " '9yearold',\n",
       " 'aamirkhan',\n",
       " 'aaron',\n",
       " 'aaroneckhart',\n",
       " 'aaronpaul',\n",
       " 'aarontaylor',\n",
       " 'abandon',\n",
       " 'abbaskiarostami',\n",
       " 'abbi',\n",
       " 'abbiecornish',\n",
       " 'abduct',\n",
       " 'abe',\n",
       " 'abel',\n",
       " 'abelferrara',\n",
       " 'abhishekbachchan',\n",
       " 'abigailbreslin',\n",
       " 'abil',\n",
       " 'abl',\n",
       " 'abo',\n",
       " 'aboard',\n",
       " 'aborigin',\n",
       " 'abort',\n",
       " 'abov',\n",
       " 'abraham',\n",
       " 'abram',\n",
       " 'abroad',\n",
       " 'abruptli',\n",
       " 'absenc',\n",
       " 'absent',\n",
       " 'absolut',\n",
       " 'absorb',\n",
       " 'absurd',\n",
       " 'abus',\n",
       " 'abusivefath',\n",
       " 'abusivehusband',\n",
       " 'academ',\n",
       " 'academi',\n",
       " 'accept',\n",
       " 'access',\n",
       " 'accid',\n",
       " 'accident',\n",
       " 'accidentaldeath',\n",
       " 'acclaim',\n",
       " 'accompani',\n",
       " 'accomplic',\n",
       " 'accomplish',\n",
       " 'accord',\n",
       " 'account',\n",
       " 'accus',\n",
       " 'ace',\n",
       " 'achiev',\n",
       " 'acid',\n",
       " 'acquaint',\n",
       " 'acquir',\n",
       " 'act',\n",
       " 'action',\n",
       " 'actionhero',\n",
       " 'actionpack',\n",
       " 'activ',\n",
       " 'activist',\n",
       " 'actor',\n",
       " 'actorplayingthemself',\n",
       " 'actress',\n",
       " 'actual',\n",
       " 'ad',\n",
       " 'adam',\n",
       " 'adambrodi',\n",
       " 'adamdriv',\n",
       " 'adamgreen',\n",
       " 'adammckay',\n",
       " 'adamsandl',\n",
       " 'adamscott',\n",
       " 'adapt',\n",
       " 'add',\n",
       " 'addict',\n",
       " 'addit',\n",
       " 'address',\n",
       " 'adjust',\n",
       " 'administr',\n",
       " 'admir',\n",
       " 'admit',\n",
       " 'adolesc',\n",
       " 'adolf',\n",
       " 'adolfhitl',\n",
       " 'adolfoc',\n",
       " 'adopt',\n",
       " 'ador',\n",
       " 'adrien',\n",
       " 'adrienbrodi',\n",
       " 'adrift',\n",
       " 'adult',\n",
       " 'adultanim',\n",
       " 'adulter',\n",
       " 'adulteri',\n",
       " 'adulthood',\n",
       " 'advanc',\n",
       " 'advantag',\n",
       " 'adventur',\n",
       " 'adversari',\n",
       " 'advertis',\n",
       " 'advertisingexecut',\n",
       " 'advic',\n",
       " 'advis',\n",
       " 'adèlehaenel',\n",
       " 'affair',\n",
       " 'affect',\n",
       " 'afflict',\n",
       " 'affluent',\n",
       " 'afford',\n",
       " 'afghanistan',\n",
       " 'afraid',\n",
       " 'africa',\n",
       " 'african',\n",
       " 'africanamerican',\n",
       " 'africanamericanhistori',\n",
       " 'aftercreditssting',\n",
       " 'afterlif',\n",
       " 'aftermath',\n",
       " 'afternoon',\n",
       " 'afterward',\n",
       " 'age',\n",
       " 'agediffer',\n",
       " 'agenc',\n",
       " 'agenda',\n",
       " 'agent',\n",
       " 'aggress',\n",
       " 'agn',\n",
       " 'agnèsjaoui',\n",
       " 'agnèsvarda',\n",
       " 'ago',\n",
       " 'agoraphobia',\n",
       " 'agre',\n",
       " 'agreement',\n",
       " 'agricultur',\n",
       " 'ah',\n",
       " 'ahead',\n",
       " 'ai',\n",
       " 'aid',\n",
       " 'aidanquinn',\n",
       " 'ail',\n",
       " 'aim',\n",
       " 'aimless',\n",
       " 'air',\n",
       " 'aircraft',\n",
       " 'airforc',\n",
       " 'airlin',\n",
       " 'airplan',\n",
       " 'airplanecrash',\n",
       " 'airport',\n",
       " 'aishwaryaraibachchan',\n",
       " 'ajaydevgn',\n",
       " 'aka',\n",
       " 'akan',\n",
       " 'akemiokamura',\n",
       " 'akikaurismäki',\n",
       " 'akiootsuka',\n",
       " 'akirakamiya',\n",
       " 'akirakurosawa',\n",
       " 'akshaykumar',\n",
       " 'al',\n",
       " 'alabama',\n",
       " 'alain',\n",
       " 'alainchabat',\n",
       " 'alaincorneau',\n",
       " 'alaindelon',\n",
       " 'alan',\n",
       " 'alanalda',\n",
       " 'alanarkin',\n",
       " 'alanb',\n",
       " 'alancum',\n",
       " 'alanj',\n",
       " 'alanmak',\n",
       " 'alanpark',\n",
       " 'alanrickman',\n",
       " 'alarm',\n",
       " 'alaska',\n",
       " 'albarohrwach',\n",
       " 'albeit',\n",
       " 'albert',\n",
       " 'albertbrook',\n",
       " 'albertdupontel',\n",
       " 'albertfinney',\n",
       " 'alberto',\n",
       " 'albertorodríguez',\n",
       " 'albertosordi',\n",
       " 'album',\n",
       " 'alcohol',\n",
       " 'alcoholabus',\n",
       " 'aldo',\n",
       " 'aldobaglio',\n",
       " 'alecbaldwin',\n",
       " 'alecguin',\n",
       " 'alejandro',\n",
       " 'alejandrogonzáleziñárritu',\n",
       " 'alejandrojodorowski',\n",
       " 'alekseybalabanov',\n",
       " 'alert',\n",
       " 'alessandro',\n",
       " 'alessandrogassmann',\n",
       " 'alessandronivola',\n",
       " 'alessandrosiani',\n",
       " 'alex',\n",
       " 'alexand',\n",
       " 'alexanderskarsgård',\n",
       " 'alexandr',\n",
       " 'alexandra',\n",
       " 'alexandradaddario',\n",
       " 'alexandralami',\n",
       " 'alexandramarialara',\n",
       " 'alexandrashipp',\n",
       " 'alexandreasti',\n",
       " 'alexgibney',\n",
       " 'alexisbledel',\n",
       " 'alexkendrick',\n",
       " 'alexpettyf',\n",
       " 'alexwint',\n",
       " 'alexzamm',\n",
       " 'alfonsocuarón',\n",
       " 'alfr',\n",
       " 'alfredmolina',\n",
       " 'alfrewoodard',\n",
       " 'algeria',\n",
       " 'algerian',\n",
       " 'ali',\n",
       " 'aliashawkat',\n",
       " 'alibi',\n",
       " 'alic',\n",
       " 'alicebraga',\n",
       " 'aliceev',\n",
       " 'alicekrig',\n",
       " 'alicetaglioni',\n",
       " 'aliciasilverston',\n",
       " 'aliciavikand',\n",
       " 'alien',\n",
       " 'alienabduct',\n",
       " 'alieninvas',\n",
       " 'alienlife',\n",
       " 'alienplanet',\n",
       " 'alik',\n",
       " 'alilart',\n",
       " 'alisonbri',\n",
       " 'alisonpil',\n",
       " 'aliv',\n",
       " 'alleg',\n",
       " 'allegedli',\n",
       " 'allegi',\n",
       " 'allegori',\n",
       " 'allen',\n",
       " 'alley',\n",
       " 'alli',\n",
       " 'allianc',\n",
       " 'allig',\n",
       " 'allison',\n",
       " 'allisonjanney',\n",
       " 'allnew',\n",
       " 'allout',\n",
       " 'allow',\n",
       " 'allpow',\n",
       " 'allstar',\n",
       " 'allur',\n",
       " 'alma',\n",
       " 'alon',\n",
       " 'alongsid',\n",
       " 'alp',\n",
       " 'alpacino',\n",
       " 'alpha',\n",
       " 'alpsmountain',\n",
       " 'alreadi',\n",
       " 'altar',\n",
       " 'alter',\n",
       " 'alterego',\n",
       " 'altern',\n",
       " 'alternatedimens',\n",
       " 'alternatehistori',\n",
       " 'alternater',\n",
       " 'alvin',\n",
       " 'alway',\n",
       " 'alyssamilano',\n",
       " 'alzheim',\n",
       " 'alzheimer',\n",
       " 'amanda',\n",
       " 'amandapeet',\n",
       " 'amandaseyfri',\n",
       " 'amateur',\n",
       " 'amateurdetect',\n",
       " 'amato',\n",
       " 'amaz',\n",
       " 'amazon',\n",
       " 'amazonrainforest',\n",
       " 'ambassador',\n",
       " 'amber',\n",
       " 'amberheard',\n",
       " 'ambit',\n",
       " 'ambiti',\n",
       " 'ambraangiolini',\n",
       " 'ambul',\n",
       " 'ambush',\n",
       " 'amend',\n",
       " 'america',\n",
       " 'americaferrera',\n",
       " 'american',\n",
       " 'americanabroad',\n",
       " 'americancivilwar',\n",
       " 'americandream',\n",
       " 'americanfootbal',\n",
       " 'ami',\n",
       " 'amico',\n",
       " 'amid',\n",
       " 'amidst',\n",
       " 'amish',\n",
       " 'amitabhbachchan',\n",
       " 'amnesia',\n",
       " 'amor',\n",
       " 'amp',\n",
       " 'amput',\n",
       " 'amsterdam',\n",
       " 'amus',\n",
       " 'amusementpark',\n",
       " 'amyadam',\n",
       " 'amyheckerl',\n",
       " 'amypoehl',\n",
       " 'amyryan',\n",
       " 'amysmart',\n",
       " 'ana',\n",
       " 'anadearma',\n",
       " 'analyst',\n",
       " 'anarchiccomedi',\n",
       " 'anarchist',\n",
       " 'anaïsdemousti',\n",
       " 'ancestor',\n",
       " 'ancestr',\n",
       " 'anchor',\n",
       " 'ancient',\n",
       " 'ancientegypt',\n",
       " 'ancientgreec',\n",
       " 'ancientrom',\n",
       " 'ancientworld',\n",
       " 'anderson',\n",
       " 'andi',\n",
       " 'andiemacdowel',\n",
       " 'andr',\n",
       " 'andrea',\n",
       " 'andreariseborough',\n",
       " 'andreikonchalovski',\n",
       " 'andreitarkovski',\n",
       " 'andrew',\n",
       " 'andrewdavi',\n",
       " 'andrewflem',\n",
       " 'andrewgarfield',\n",
       " 'andrewniccol',\n",
       " 'andrewscott',\n",
       " 'andrewv',\n",
       " 'andreww',\n",
       " 'android',\n",
       " 'andrzejżuławski',\n",
       " 'andré',\n",
       " 'andrédussolli',\n",
       " 'andrétéchiné',\n",
       " 'andygarcía',\n",
       " 'andylau',\n",
       " 'andysamberg',\n",
       " 'andyserki',\n",
       " 'angel',\n",
       " 'angela',\n",
       " 'angelabassett',\n",
       " 'angelafinocchiaro',\n",
       " 'angelinajoli',\n",
       " 'angelo',\n",
       " 'anger',\n",
       " 'angi',\n",
       " 'angle',\n",
       " 'angri',\n",
       " 'ani',\n",
       " 'anim',\n",
       " 'animalattack',\n",
       " 'animalhorror',\n",
       " 'animatedscen',\n",
       " 'anjelicahuston',\n",
       " 'ann',\n",
       " 'anna',\n",
       " 'annabel',\n",
       " 'annabellasciorra',\n",
       " 'annabellew',\n",
       " 'annafari',\n",
       " 'annafoglietta',\n",
       " 'annakendrick',\n",
       " 'annapaquin',\n",
       " 'anne',\n",
       " 'annebancroft',\n",
       " 'annechazel',\n",
       " 'annefontain',\n",
       " 'annehathaway',\n",
       " 'annehech',\n",
       " 'annemoss',\n",
       " 'annetteben',\n",
       " 'anni',\n",
       " 'anniegirardot',\n",
       " 'annihil',\n",
       " 'anniversari',\n",
       " 'announc',\n",
       " 'annoy',\n",
       " 'annual',\n",
       " 'anonym',\n",
       " 'anorexia',\n",
       " 'anoth',\n",
       " 'answer',\n",
       " 'ant',\n",
       " 'antarctica',\n",
       " 'antholog',\n",
       " 'anthoni',\n",
       " 'anthonyanderson',\n",
       " 'anthonyedward',\n",
       " 'anthonyhopkin',\n",
       " 'anthonylapaglia',\n",
       " 'anthonymacki',\n",
       " 'anthonyperkin',\n",
       " 'anthonyquinn',\n",
       " 'anthonywong',\n",
       " 'anthropolog',\n",
       " 'anthropologist',\n",
       " 'anthropomorph',\n",
       " 'anti',\n",
       " 'antic',\n",
       " 'anticip',\n",
       " 'antidot',\n",
       " 'antihero',\n",
       " 'antiqu',\n",
       " 'antiwar',\n",
       " 'antoin',\n",
       " 'antoinefuqua',\n",
       " 'antonio',\n",
       " 'antonioalbanes',\n",
       " 'antoniobandera',\n",
       " 'antoniodelatorr',\n",
       " 'antonyelchin',\n",
       " 'anupamkh',\n",
       " 'anxieti',\n",
       " 'anxiou',\n",
       " 'anyataylor',\n",
       " 'anybodi',\n",
       " 'anymor',\n",
       " 'anyon',\n",
       " 'anyth',\n",
       " 'anywher',\n",
       " 'aoiyuki',\n",
       " 'apach',\n",
       " 'apachen',\n",
       " 'apart',\n",
       " 'apartheid',\n",
       " 'apartmentbuild',\n",
       " 'ape',\n",
       " 'apocalyps',\n",
       " 'apocalypt',\n",
       " 'apocalypticfutur',\n",
       " 'app',\n",
       " 'appar',\n",
       " 'apparit',\n",
       " 'appeal',\n",
       " 'appear',\n",
       " 'appetit',\n",
       " 'appl',\n",
       " 'appli',\n",
       " 'appoint',\n",
       " 'appreci',\n",
       " 'apprehend',\n",
       " 'apprentic',\n",
       " 'approach',\n",
       " 'approv',\n",
       " 'april',\n",
       " 'aquarium',\n",
       " 'arab',\n",
       " 'arabian',\n",
       " 'arcad',\n",
       " 'archaeologist',\n",
       " 'archenemi',\n",
       " 'archeolog',\n",
       " 'archer',\n",
       " 'architect',\n",
       " 'architectur',\n",
       " 'archiv',\n",
       " 'arci',\n",
       " 'arctic',\n",
       " 'arcticpolarcircleregion',\n",
       " 'arduou',\n",
       " 'area',\n",
       " 'arena',\n",
       " 'arent',\n",
       " 'argentina',\n",
       " 'argentinian',\n",
       " 'argu',\n",
       " 'argument',\n",
       " 'ari',\n",
       " 'ariel',\n",
       " 'aris',\n",
       " 'aristocraci',\n",
       " 'aristocrat',\n",
       " 'arizona',\n",
       " 'ark',\n",
       " 'arkansa',\n",
       " 'arm',\n",
       " 'armageddon',\n",
       " 'armand',\n",
       " 'armandassant',\n",
       " 'armi',\n",
       " 'armiehamm',\n",
       " 'armor',\n",
       " 'armsdeal',\n",
       " 'armstrong',\n",
       " 'arnaud',\n",
       " 'arnauddesplechin',\n",
       " 'arnold',\n",
       " 'arnoldschwarzenegg',\n",
       " 'arnoldvosloo',\n",
       " 'arous',\n",
       " 'arrang',\n",
       " 'arrangedmarriag',\n",
       " 'array',\n",
       " 'arrest',\n",
       " 'arriv',\n",
       " 'arrog',\n",
       " 'arrow',\n",
       " 'arson',\n",
       " 'art',\n",
       " 'artgalleri',\n",
       " 'arthur',\n",
       " 'arthurhil',\n",
       " 'arthurrankin',\n",
       " 'articl',\n",
       " 'artifact',\n",
       " 'artifici',\n",
       " 'artificialintellig',\n",
       " 'artist',\n",
       " 'artthief',\n",
       " 'arturo',\n",
       " 'asabutterfield',\n",
       " 'asgharfarhadi',\n",
       " 'ash',\n",
       " 'ashleighbal',\n",
       " 'ashley',\n",
       " 'ashleyjudd',\n",
       " 'ashleyolsen',\n",
       " 'ashleytisdal',\n",
       " 'ashor',\n",
       " 'ashtonkutch',\n",
       " 'asia',\n",
       " 'asiaargento',\n",
       " 'asian',\n",
       " 'asianamerican',\n",
       " 'asid',\n",
       " 'ask',\n",
       " 'asleep',\n",
       " 'aspect',\n",
       " 'asperger',\n",
       " 'aspir',\n",
       " 'aspiringactor',\n",
       " 'aspiringwrit',\n",
       " 'assail',\n",
       " 'assassin',\n",
       " 'assassinationattempt',\n",
       " 'assault',\n",
       " 'assembl',\n",
       " 'asset',\n",
       " 'assign',\n",
       " 'assimil',\n",
       " 'assist',\n",
       " 'associ',\n",
       " 'assort',\n",
       " 'assum',\n",
       " 'assur',\n",
       " 'asterix',\n",
       " 'asteroid',\n",
       " 'astonish',\n",
       " 'astronaut',\n",
       " 'astronom',\n",
       " 'asylum',\n",
       " 'atheist',\n",
       " 'athena',\n",
       " 'athlet',\n",
       " 'atlanta',\n",
       " 'atlanti',\n",
       " 'atmospher',\n",
       " 'atom',\n",
       " 'atomegoyan',\n",
       " 'atomicbomb',\n",
       " 'atroc',\n",
       " 'attach',\n",
       " 'attack',\n",
       " 'attempt',\n",
       " 'attemptedmurd',\n",
       " 'attemptedrap',\n",
       " 'attempttoescap',\n",
       " 'attend',\n",
       " 'attent',\n",
       " 'attic',\n",
       " 'attitud',\n",
       " 'attorney',\n",
       " 'attract',\n",
       " 'aubreyplaza',\n",
       " 'auction',\n",
       " 'audaci',\n",
       " 'audienc',\n",
       " 'audit',\n",
       " 'audreydana',\n",
       " 'audreyhepburn',\n",
       " 'audreylami',\n",
       " 'audreytaut',\n",
       " 'august',\n",
       " 'augustdiehl',\n",
       " 'aunt',\n",
       " 'aurora',\n",
       " 'auschwitz',\n",
       " 'austen',\n",
       " 'austin',\n",
       " 'australia',\n",
       " 'australian',\n",
       " 'australianoutback',\n",
       " 'austria',\n",
       " 'austrian',\n",
       " 'author',\n",
       " 'autism',\n",
       " 'autist',\n",
       " 'auto',\n",
       " 'autobiograph',\n",
       " 'autobiographi',\n",
       " 'automobil',\n",
       " 'autopsi',\n",
       " 'autumn',\n",
       " 'avail',\n",
       " 'avalanch',\n",
       " 'avatar',\n",
       " 'aveng',\n",
       " 'averag',\n",
       " 'averi',\n",
       " 'aviat',\n",
       " 'avildsen',\n",
       " 'avoid',\n",
       " 'aw',\n",
       " 'await',\n",
       " 'awak',\n",
       " 'awaken',\n",
       " 'awar',\n",
       " 'award',\n",
       " 'awardwin',\n",
       " 'away',\n",
       " 'awesom',\n",
       " 'awkward',\n",
       " 'awri',\n",
       " 'ax',\n",
       " 'axe',\n",
       " 'axel',\n",
       " 'axemurd',\n",
       " 'babe',\n",
       " 'babi',\n",
       " 'baby',\n",
       " 'babysit',\n",
       " 'babysitt',\n",
       " 'bachelor',\n",
       " 'bachelorparti',\n",
       " 'backdrop',\n",
       " 'background',\n",
       " 'backpack',\n",
       " 'backstag',\n",
       " 'backward',\n",
       " 'backwood',\n",
       " 'backyard',\n",
       " 'bad',\n",
       " 'badland',\n",
       " 'badli',\n",
       " 'badluck',\n",
       " 'baffl',\n",
       " 'bag',\n",
       " 'bahama',\n",
       " 'bail',\n",
       " 'baileemadison',\n",
       " 'bailey',\n",
       " 'bait',\n",
       " 'baker',\n",
       " 'bakeri',\n",
       " 'balanc',\n",
       " 'balconi',\n",
       " 'ball',\n",
       " 'ballerina',\n",
       " 'ballet',\n",
       " 'balletdanc',\n",
       " 'balloon',\n",
       " 'baltasarkormákur',\n",
       " 'baltimor',\n",
       " 'baltimore',\n",
       " 'ban',\n",
       " 'band',\n",
       " 'bandit',\n",
       " 'bangkok',\n",
       " 'banish',\n",
       " 'bank',\n",
       " 'banker',\n",
       " 'bankheist',\n",
       " 'bankrobb',\n",
       " 'bankrobberi',\n",
       " 'bankrupt',\n",
       " 'bankruptci',\n",
       " 'banner',\n",
       " 'baoqiangwang',\n",
       " 'baptist',\n",
       " 'bar',\n",
       " 'barb',\n",
       " 'barbara',\n",
       " 'barbarahershey',\n",
       " 'barbarian',\n",
       " 'barber',\n",
       " 'barbetschroed',\n",
       " 'barbi',\n",
       " 'barborabobuľová',\n",
       " 'barbrastreisand',\n",
       " 'barcelona',\n",
       " 'bare',\n",
       " 'barek',\n",
       " 'barfight',\n",
       " 'bargain',\n",
       " 'barker',\n",
       " 'barn',\n",
       " 'barney',\n",
       " 'baron',\n",
       " 'barren',\n",
       " 'barri',\n",
       " 'barricad',\n",
       " 'barrier',\n",
       " 'barrylevinson',\n",
       " 'barrypepp',\n",
       " 'barrysonnenfeld',\n",
       " 'bart',\n",
       " 'bartend',\n",
       " 'base',\n",
       " 'basebal',\n",
       " 'basedoncartoon',\n",
       " 'basedonchildren',\n",
       " 'basedoncom',\n",
       " 'basedonfairytal',\n",
       " 'basedongraphicnovel',\n",
       " 'basedonmagazine',\n",
       " 'basedonmanga',\n",
       " 'basedonmemoirorautobiographi',\n",
       " 'basedonmovi',\n",
       " 'basedonmyths',\n",
       " 'basedonnovelorbook',\n",
       " 'basedonplayormus',\n",
       " 'basedonshortfilm',\n",
       " 'basedonshortstori',\n",
       " 'basedonsong',\n",
       " 'basedontoy',\n",
       " 'basedontruestori',\n",
       " 'basedontvseri',\n",
       " 'basedonvideogam',\n",
       " 'basedonyoungadultnovel',\n",
       " 'basement',\n",
       " 'basi',\n",
       " 'basic',\n",
       " 'basketbal',\n",
       " 'basqu',\n",
       " 'bat',\n",
       " 'bath',\n",
       " 'bathroom',\n",
       " 'bathtub',\n",
       " 'batman',\n",
       " 'battalion',\n",
       " 'battl',\n",
       " 'battlefield',\n",
       " 'bavaria',\n",
       " 'baxter',\n",
       " 'bay',\n",
       " 'bayou',\n",
       " 'bbc',\n",
       " 'bdsm',\n",
       " 'beach',\n",
       " 'beachhous',\n",
       " 'bean',\n",
       " 'bear',\n",
       " 'beard',\n",
       " 'beast',\n",
       " 'beat',\n",
       " 'beaten',\n",
       " 'beatl',\n",
       " 'beatric',\n",
       " 'beau',\n",
       " 'beaubridg',\n",
       " 'beauti',\n",
       " 'beautifulwoman',\n",
       " 'becam',\n",
       " 'becaus',\n",
       " 'beck',\n",
       " 'beckett',\n",
       " 'becki',\n",
       " 'beckysloan',\n",
       " 'becom',\n",
       " 'becominganadult',\n",
       " 'bed',\n",
       " 'bedroom',\n",
       " 'bee',\n",
       " 'beer',\n",
       " 'beethoven',\n",
       " 'befal',\n",
       " 'befor',\n",
       " 'befriend',\n",
       " 'beg',\n",
       " 'began',\n",
       " 'beggar',\n",
       " 'begin',\n",
       " 'begun',\n",
       " 'behalf',\n",
       " 'behav',\n",
       " 'behavior',\n",
       " 'behaviour',\n",
       " 'behead',\n",
       " 'behindenemylin',\n",
       " 'behindthescen',\n",
       " 'beij',\n",
       " 'belfast',\n",
       " 'belgian',\n",
       " 'belgium',\n",
       " 'belief',\n",
       " 'believ',\n",
       " 'bell',\n",
       " 'bella',\n",
       " 'bellathorn',\n",
       " 'belong',\n",
       " 'belov',\n",
       " 'belénrueda',\n",
       " 'ben',\n",
       " 'benaffleck',\n",
       " 'bencross',\n",
       " 'bend',\n",
       " 'beneath',\n",
       " 'benedictcumberbatch',\n",
       " 'benefactor',\n",
       " 'benefit',\n",
       " 'benfost',\n",
       " 'beniciodeltoro',\n",
       " 'benjamin',\n",
       " 'benjaminbratt',\n",
       " 'benji',\n",
       " 'benjohnson',\n",
       " 'benkingsley',\n",
       " 'benmendelsohn',\n",
       " 'bennett',\n",
       " 'benni',\n",
       " 'bennychan',\n",
       " 'benoîtmagimel',\n",
       " 'benoîtpoelvoord',\n",
       " 'benstil',\n",
       " 'bent',\n",
       " 'benwheatley',\n",
       " 'benwhishaw',\n",
       " 'beret',\n",
       " 'berg',\n",
       " ...]"
      ]
     },
     "execution_count": 62,
     "metadata": {},
     "output_type": "execute_result"
    }
   ],
   "source": [
    "cv.get_feature_names()"
   ]
  },
  {
   "cell_type": "code",
   "execution_count": 63,
   "id": "2e69da42",
   "metadata": {
    "ExecuteTime": {
     "end_time": "2023-04-06T16:41:24.356020Z",
     "start_time": "2023-04-06T16:41:24.323081Z"
    }
   },
   "outputs": [
    {
     "data": {
      "text/plain": [
       "10000"
      ]
     },
     "execution_count": 63,
     "metadata": {},
     "output_type": "execute_result"
    }
   ],
   "source": [
    "len(cv.get_feature_names_out())"
   ]
  },
  {
   "cell_type": "markdown",
   "id": "1b99ff8f",
   "metadata": {},
   "source": [
    "## calculating distance using cosine distance"
   ]
  },
  {
   "cell_type": "code",
   "execution_count": 64,
   "id": "2c305292",
   "metadata": {
    "ExecuteTime": {
     "end_time": "2023-04-06T16:41:26.124069Z",
     "start_time": "2023-04-06T16:41:26.116047Z"
    }
   },
   "outputs": [],
   "source": [
    "from sklearn.metrics.pairwise import cosine_similarity"
   ]
  },
  {
   "cell_type": "code",
   "execution_count": 65,
   "id": "4d1e6376",
   "metadata": {
    "ExecuteTime": {
     "end_time": "2023-04-06T16:42:19.138113Z",
     "start_time": "2023-04-06T16:41:26.531691Z"
    }
   },
   "outputs": [],
   "source": [
    "similarity_cosine = cosine_similarity(vectors)"
   ]
  },
  {
   "cell_type": "code",
   "execution_count": 66,
   "id": "82e9e7c9",
   "metadata": {
    "ExecuteTime": {
     "end_time": "2023-04-06T16:42:19.311095Z",
     "start_time": "2023-04-06T16:42:19.173954Z"
    }
   },
   "outputs": [
    {
     "data": {
      "text/plain": [
       "array([[1.        , 0.0570614 , 0.07498688, ..., 0.        , 0.06419407,\n",
       "        0.02067246],\n",
       "       [0.0570614 , 1.        , 0.11681277, ..., 0.12598816, 0.        ,\n",
       "        0.02300219],\n",
       "       [0.07498688, 0.11681277, 1.        , ..., 0.        , 0.02503131,\n",
       "        0.09673017],\n",
       "       ...,\n",
       "       [0.        , 0.12598816, 0.        , ..., 1.        , 0.        ,\n",
       "        0.        ],\n",
       "       [0.06419407, 0.        , 0.02503131, ..., 0.        , 1.        ,\n",
       "        0.03450328],\n",
       "       [0.02067246, 0.02300219, 0.09673017, ..., 0.        , 0.03450328,\n",
       "        1.        ]])"
      ]
     },
     "execution_count": 66,
     "metadata": {},
     "output_type": "execute_result"
    }
   ],
   "source": [
    "similarity_cosine"
   ]
  },
  {
   "cell_type": "code",
   "execution_count": 67,
   "id": "91af2ae6",
   "metadata": {
    "ExecuteTime": {
     "end_time": "2023-04-06T16:42:19.336034Z",
     "start_time": "2023-04-06T16:42:19.319429Z"
    }
   },
   "outputs": [
    {
     "data": {
      "text/plain": [
       "(21667, 21667)"
      ]
     },
     "execution_count": 67,
     "metadata": {},
     "output_type": "execute_result"
    }
   ],
   "source": [
    "similarity_cosine.shape"
   ]
  },
  {
   "cell_type": "code",
   "execution_count": 68,
   "id": "cdaceb19",
   "metadata": {
    "ExecuteTime": {
     "end_time": "2023-04-06T16:42:19.368262Z",
     "start_time": "2023-04-06T16:42:19.344063Z"
    }
   },
   "outputs": [
    {
     "data": {
      "text/plain": [
       "array([1.        , 0.0570614 , 0.07498688, ..., 0.        , 0.06419407,\n",
       "       0.02067246])"
      ]
     },
     "execution_count": 68,
     "metadata": {},
     "output_type": "execute_result"
    }
   ],
   "source": [
    "similarity_cosine[0]"
   ]
  },
  {
   "cell_type": "code",
   "execution_count": 46,
   "id": "dc147d94",
   "metadata": {
    "ExecuteTime": {
     "end_time": "2023-04-06T12:55:20.818194Z",
     "start_time": "2023-04-06T12:55:20.777505Z"
    }
   },
   "outputs": [
    {
     "data": {
      "text/plain": [
       "(50830, 14)"
      ]
     },
     "execution_count": 46,
     "metadata": {},
     "output_type": "execute_result"
    }
   ],
   "source": [
    "data.shape"
   ]
  },
  {
   "cell_type": "code",
   "execution_count": 47,
   "id": "8f769d4f",
   "metadata": {
    "ExecuteTime": {
     "end_time": "2023-04-06T12:55:21.096598Z",
     "start_time": "2023-04-06T12:55:20.823194Z"
    }
   },
   "outputs": [
    {
     "data": {
      "text/html": [
       "<div>\n",
       "<style scoped>\n",
       "    .dataframe tbody tr th:only-of-type {\n",
       "        vertical-align: middle;\n",
       "    }\n",
       "\n",
       "    .dataframe tbody tr th {\n",
       "        vertical-align: top;\n",
       "    }\n",
       "\n",
       "    .dataframe thead th {\n",
       "        text-align: right;\n",
       "    }\n",
       "</style>\n",
       "<table border=\"1\" class=\"dataframe\">\n",
       "  <thead>\n",
       "    <tr style=\"text-align: right;\">\n",
       "      <th></th>\n",
       "      <th>id</th>\n",
       "      <th>overview</th>\n",
       "      <th>vote_average</th>\n",
       "      <th>vote_count</th>\n",
       "      <th>year</th>\n",
       "      <th>imdb_id</th>\n",
       "      <th>title</th>\n",
       "      <th>keywords</th>\n",
       "      <th>genre</th>\n",
       "      <th>director</th>\n",
       "      <th>writer</th>\n",
       "      <th>cast</th>\n",
       "      <th>tags</th>\n",
       "      <th>tags_stem</th>\n",
       "    </tr>\n",
       "  </thead>\n",
       "  <tbody>\n",
       "    <tr>\n",
       "      <th>50825</th>\n",
       "      <td>61194</td>\n",
       "      <td>[In, 1960, a, pilot, testing, an, experimental...</td>\n",
       "      <td>6.0</td>\n",
       "      <td>29</td>\n",
       "      <td>1960</td>\n",
       "      <td>tt0053651</td>\n",
       "      <td>Beyond the Time Barrier</td>\n",
       "      <td>[timewarp, deaf-mute, future, u.s.airforce, ti...</td>\n",
       "      <td>[Romance, ScienceFiction]</td>\n",
       "      <td>[EdgarG.Ulmer]</td>\n",
       "      <td>[]</td>\n",
       "      <td>[RobertClarke, DarleneTompkins, VladimirSokolo...</td>\n",
       "      <td>Romance ScienceFiction RobertClarke DarleneTom...</td>\n",
       "      <td>romanc sciencefict robertclark darlenetompkin ...</td>\n",
       "    </tr>\n",
       "    <tr>\n",
       "      <th>50826</th>\n",
       "      <td>24014</td>\n",
       "      <td>[When, billionaire, JeanMarc, Clement, learns,...</td>\n",
       "      <td>6.5</td>\n",
       "      <td>141</td>\n",
       "      <td>1960</td>\n",
       "      <td>tt0054022</td>\n",
       "      <td>Let's Make Love</td>\n",
       "      <td>[musical]</td>\n",
       "      <td>[Comedy, Romance]</td>\n",
       "      <td>[GeorgeCukor]</td>\n",
       "      <td>[]</td>\n",
       "      <td>[MarilynMonroe, YvesMontand, TonyRandall, Fran...</td>\n",
       "      <td>Comedy Romance MarilynMonroe YvesMontand TonyR...</td>\n",
       "      <td>comedi romanc marilynmonro yvesmontand tonyran...</td>\n",
       "    </tr>\n",
       "    <tr>\n",
       "      <th>50827</th>\n",
       "      <td>45884</td>\n",
       "      <td>[Determined, to, survive, at, any, price, Edit...</td>\n",
       "      <td>6.9</td>\n",
       "      <td>55</td>\n",
       "      <td>1960</td>\n",
       "      <td>tt0052961</td>\n",
       "      <td>Kapo</td>\n",
       "      <td>[concentrationcamp]</td>\n",
       "      <td>[Drama, History, War]</td>\n",
       "      <td>[GilloPontecorvo]</td>\n",
       "      <td>[]</td>\n",
       "      <td>[SusanStrasberg, LaurentTerzieff, EmmanuelleRi...</td>\n",
       "      <td>Drama History War SusanStrasberg LaurentTerzie...</td>\n",
       "      <td>drama histori war susanstrasberg laurentterzie...</td>\n",
       "    </tr>\n",
       "    <tr>\n",
       "      <th>50828</th>\n",
       "      <td>55398</td>\n",
       "      <td>[A, closed, room, mystery, begins, when, an, i...</td>\n",
       "      <td>7.1</td>\n",
       "      <td>25</td>\n",
       "      <td>1960</td>\n",
       "      <td>tt0054001</td>\n",
       "      <td>Inspector Palmu's Error</td>\n",
       "      <td>[basedonnovelorbook, inspector, tycoon, whodunit]</td>\n",
       "      <td>[Comedy, Crime]</td>\n",
       "      <td>[MattiKassila]</td>\n",
       "      <td>[]</td>\n",
       "      <td>[JoelRinne, ElinaPohjanpää, MattiRanin, LeoRiu...</td>\n",
       "      <td>Comedy Crime JoelRinne ElinaPohjanpää MattiRan...</td>\n",
       "      <td>comedi crime joelrinn elinapohjanpää mattirani...</td>\n",
       "    </tr>\n",
       "    <tr>\n",
       "      <th>50829</th>\n",
       "      <td>8422</td>\n",
       "      <td>[When, a, impoverished, widows, family, moves,...</td>\n",
       "      <td>8.1</td>\n",
       "      <td>468</td>\n",
       "      <td>1960</td>\n",
       "      <td>tt0054248</td>\n",
       "      <td>Rocco and His Brothers</td>\n",
       "      <td>[siblingrelationship, prostitute, parentchildr...</td>\n",
       "      <td>[Crime, Drama]</td>\n",
       "      <td>[LuchinoVisconti]</td>\n",
       "      <td>[]</td>\n",
       "      <td>[AlainDelon, RenatoSalvatori, AnnieGirardot, K...</td>\n",
       "      <td>Crime Drama AlainDelon RenatoSalvatori AnnieGi...</td>\n",
       "      <td>crime drama alaindelon renatosalvatori anniegi...</td>\n",
       "    </tr>\n",
       "  </tbody>\n",
       "</table>\n",
       "</div>"
      ],
      "text/plain": [
       "          id                                           overview  vote_average  \\\n",
       "50825  61194  [In, 1960, a, pilot, testing, an, experimental...           6.0   \n",
       "50826  24014  [When, billionaire, JeanMarc, Clement, learns,...           6.5   \n",
       "50827  45884  [Determined, to, survive, at, any, price, Edit...           6.9   \n",
       "50828  55398  [A, closed, room, mystery, begins, when, an, i...           7.1   \n",
       "50829   8422  [When, a, impoverished, widows, family, moves,...           8.1   \n",
       "\n",
       "       vote_count  year    imdb_id                    title  \\\n",
       "50825          29  1960  tt0053651  Beyond the Time Barrier   \n",
       "50826         141  1960  tt0054022          Let's Make Love   \n",
       "50827          55  1960  tt0052961                     Kapo   \n",
       "50828          25  1960  tt0054001  Inspector Palmu's Error   \n",
       "50829         468  1960  tt0054248   Rocco and His Brothers   \n",
       "\n",
       "                                                keywords  \\\n",
       "50825  [timewarp, deaf-mute, future, u.s.airforce, ti...   \n",
       "50826                                          [musical]   \n",
       "50827                                [concentrationcamp]   \n",
       "50828  [basedonnovelorbook, inspector, tycoon, whodunit]   \n",
       "50829  [siblingrelationship, prostitute, parentchildr...   \n",
       "\n",
       "                           genre           director writer  \\\n",
       "50825  [Romance, ScienceFiction]     [EdgarG.Ulmer]     []   \n",
       "50826          [Comedy, Romance]      [GeorgeCukor]     []   \n",
       "50827      [Drama, History, War]  [GilloPontecorvo]     []   \n",
       "50828            [Comedy, Crime]     [MattiKassila]     []   \n",
       "50829             [Crime, Drama]  [LuchinoVisconti]     []   \n",
       "\n",
       "                                                    cast  \\\n",
       "50825  [RobertClarke, DarleneTompkins, VladimirSokolo...   \n",
       "50826  [MarilynMonroe, YvesMontand, TonyRandall, Fran...   \n",
       "50827  [SusanStrasberg, LaurentTerzieff, EmmanuelleRi...   \n",
       "50828  [JoelRinne, ElinaPohjanpää, MattiRanin, LeoRiu...   \n",
       "50829  [AlainDelon, RenatoSalvatori, AnnieGirardot, K...   \n",
       "\n",
       "                                                    tags  \\\n",
       "50825  Romance ScienceFiction RobertClarke DarleneTom...   \n",
       "50826  Comedy Romance MarilynMonroe YvesMontand TonyR...   \n",
       "50827  Drama History War SusanStrasberg LaurentTerzie...   \n",
       "50828  Comedy Crime JoelRinne ElinaPohjanpää MattiRan...   \n",
       "50829  Crime Drama AlainDelon RenatoSalvatori AnnieGi...   \n",
       "\n",
       "                                               tags_stem  \n",
       "50825  romanc sciencefict robertclark darlenetompkin ...  \n",
       "50826  comedi romanc marilynmonro yvesmontand tonyran...  \n",
       "50827  drama histori war susanstrasberg laurentterzie...  \n",
       "50828  comedi crime joelrinn elinapohjanpää mattirani...  \n",
       "50829  crime drama alaindelon renatosalvatori anniegi...  "
      ]
     },
     "execution_count": 47,
     "metadata": {},
     "output_type": "execute_result"
    }
   ],
   "source": [
    "data.tail()"
   ]
  },
  {
   "cell_type": "code",
   "execution_count": 48,
   "id": "020056a9",
   "metadata": {
    "ExecuteTime": {
     "end_time": "2023-04-06T12:55:21.315308Z",
     "start_time": "2023-04-06T12:55:21.099559Z"
    }
   },
   "outputs": [
    {
     "data": {
      "text/html": [
       "<div>\n",
       "<style scoped>\n",
       "    .dataframe tbody tr th:only-of-type {\n",
       "        vertical-align: middle;\n",
       "    }\n",
       "\n",
       "    .dataframe tbody tr th {\n",
       "        vertical-align: top;\n",
       "    }\n",
       "\n",
       "    .dataframe thead th {\n",
       "        text-align: right;\n",
       "    }\n",
       "</style>\n",
       "<table border=\"1\" class=\"dataframe\">\n",
       "  <thead>\n",
       "    <tr style=\"text-align: right;\">\n",
       "      <th></th>\n",
       "      <th>id</th>\n",
       "      <th>overview</th>\n",
       "      <th>vote_average</th>\n",
       "      <th>vote_count</th>\n",
       "      <th>year</th>\n",
       "      <th>imdb_id</th>\n",
       "      <th>title</th>\n",
       "      <th>keywords</th>\n",
       "      <th>genre</th>\n",
       "      <th>director</th>\n",
       "      <th>writer</th>\n",
       "      <th>cast</th>\n",
       "      <th>tags</th>\n",
       "      <th>tags_stem</th>\n",
       "    </tr>\n",
       "  </thead>\n",
       "  <tbody>\n",
       "    <tr>\n",
       "      <th>442</th>\n",
       "      <td>579974</td>\n",
       "      <td>[A, fictional, history, of, two, legendary, re...</td>\n",
       "      <td>7.8</td>\n",
       "      <td>839</td>\n",
       "      <td>2022</td>\n",
       "      <td>tt8178634</td>\n",
       "      <td>RRR</td>\n",
       "      <td>[revolution, liberation, slavery, malefriendsh...</td>\n",
       "      <td>[Action, Drama]</td>\n",
       "      <td>[S.S.Rajamouli]</td>\n",
       "      <td>[]</td>\n",
       "      <td>[N.T.RamaRaoJr., RamCharan, OliviaMorris, RayS...</td>\n",
       "      <td>Action Drama N.T.RamaRaoJr. RamCharan OliviaMo...</td>\n",
       "      <td>action drama n.t.ramaraojr. ramcharan oliviamo...</td>\n",
       "    </tr>\n",
       "  </tbody>\n",
       "</table>\n",
       "</div>"
      ],
      "text/plain": [
       "         id                                           overview  vote_average  \\\n",
       "442  579974  [A, fictional, history, of, two, legendary, re...           7.8   \n",
       "\n",
       "     vote_count  year    imdb_id title  \\\n",
       "442         839  2022  tt8178634   RRR   \n",
       "\n",
       "                                              keywords            genre  \\\n",
       "442  [revolution, liberation, slavery, malefriendsh...  [Action, Drama]   \n",
       "\n",
       "            director writer  \\\n",
       "442  [S.S.Rajamouli]     []   \n",
       "\n",
       "                                                  cast  \\\n",
       "442  [N.T.RamaRaoJr., RamCharan, OliviaMorris, RayS...   \n",
       "\n",
       "                                                  tags  \\\n",
       "442  Action Drama N.T.RamaRaoJr. RamCharan OliviaMo...   \n",
       "\n",
       "                                             tags_stem  \n",
       "442  action drama n.t.ramaraojr. ramcharan oliviamo...  "
      ]
     },
     "execution_count": 48,
     "metadata": {},
     "output_type": "execute_result"
    }
   ],
   "source": [
    "data[data['title']=='RRR']"
   ]
  },
  {
   "cell_type": "code",
   "execution_count": 49,
   "id": "66054de4",
   "metadata": {
    "ExecuteTime": {
     "end_time": "2023-04-06T12:55:21.378620Z",
     "start_time": "2023-04-06T12:55:21.319317Z"
    }
   },
   "outputs": [
    {
     "data": {
      "text/html": [
       "<div>\n",
       "<style scoped>\n",
       "    .dataframe tbody tr th:only-of-type {\n",
       "        vertical-align: middle;\n",
       "    }\n",
       "\n",
       "    .dataframe tbody tr th {\n",
       "        vertical-align: top;\n",
       "    }\n",
       "\n",
       "    .dataframe thead th {\n",
       "        text-align: right;\n",
       "    }\n",
       "</style>\n",
       "<table border=\"1\" class=\"dataframe\">\n",
       "  <thead>\n",
       "    <tr style=\"text-align: right;\">\n",
       "      <th></th>\n",
       "      <th>id</th>\n",
       "      <th>overview</th>\n",
       "      <th>vote_average</th>\n",
       "      <th>vote_count</th>\n",
       "      <th>year</th>\n",
       "      <th>imdb_id</th>\n",
       "      <th>title</th>\n",
       "      <th>keywords</th>\n",
       "      <th>genre</th>\n",
       "      <th>director</th>\n",
       "      <th>writer</th>\n",
       "      <th>cast</th>\n",
       "      <th>tags</th>\n",
       "      <th>tags_stem</th>\n",
       "    </tr>\n",
       "  </thead>\n",
       "  <tbody>\n",
       "    <tr>\n",
       "      <th>5441</th>\n",
       "      <td>476344</td>\n",
       "      <td>[In, the, early, 1920s, a, Kansas, woman, find...</td>\n",
       "      <td>6.4</td>\n",
       "      <td>26</td>\n",
       "      <td>2019</td>\n",
       "      <td>tt2690226</td>\n",
       "      <td>The Chaperone</td>\n",
       "      <td>[newyorkcity, perioddrama, costumedrama, 1920s]</td>\n",
       "      <td>[Drama]</td>\n",
       "      <td>[MichaelEngler]</td>\n",
       "      <td>[]</td>\n",
       "      <td>[ElizabethMcGovern, HaleyLuRichardson, Victori...</td>\n",
       "      <td>Drama ElizabethMcGovern HaleyLuRichardson Vict...</td>\n",
       "      <td>drama elizabethmcgovern haleylurichardson vict...</td>\n",
       "    </tr>\n",
       "  </tbody>\n",
       "</table>\n",
       "</div>"
      ],
      "text/plain": [
       "          id                                           overview  vote_average  \\\n",
       "5441  476344  [In, the, early, 1920s, a, Kansas, woman, find...           6.4   \n",
       "\n",
       "      vote_count  year    imdb_id          title  \\\n",
       "5441          26  2019  tt2690226  The Chaperone   \n",
       "\n",
       "                                             keywords    genre  \\\n",
       "5441  [newyorkcity, perioddrama, costumedrama, 1920s]  [Drama]   \n",
       "\n",
       "             director writer  \\\n",
       "5441  [MichaelEngler]     []   \n",
       "\n",
       "                                                   cast  \\\n",
       "5441  [ElizabethMcGovern, HaleyLuRichardson, Victori...   \n",
       "\n",
       "                                                   tags  \\\n",
       "5441  Drama ElizabethMcGovern HaleyLuRichardson Vict...   \n",
       "\n",
       "                                              tags_stem  \n",
       "5441  drama elizabethmcgovern haleylurichardson vict...  "
      ]
     },
     "execution_count": 49,
     "metadata": {},
     "output_type": "execute_result"
    }
   ],
   "source": [
    "data[data['title']=='The Chaperone']"
   ]
  },
  {
   "cell_type": "code",
   "execution_count": 50,
   "id": "42a18df4",
   "metadata": {
    "ExecuteTime": {
     "end_time": "2023-04-06T12:55:21.439844Z",
     "start_time": "2023-04-06T12:55:21.383607Z"
    }
   },
   "outputs": [],
   "source": [
    "def recommend(movie):\n",
    "    movie_index = data[data['title']== movie].index[0]\n",
    "    distances = similarity_cosine[movie_index]\n",
    "    movies_list = sorted(list(enumerate(distances)),reverse=True,key = lambda x:x[1])[1:6]\n",
    "    \n",
    "    for i in movies_list:\n",
    "        print(data.iloc[i[0]].title)"
   ]
  },
  {
   "cell_type": "raw",
   "id": "55cd0bc1",
   "metadata": {
    "ExecuteTime": {
     "end_time": "2023-04-06T16:42:25.050290Z",
     "start_time": "2023-04-06T16:42:25.029829Z"
    }
   },
   "source": [
    "def recommend(movie):\n",
    "    movie_index = df[df['title']== movie].index[0]\n",
    "    distances = similarity_cosine[movie_index]\n",
    "    movies_list = sorted(list(enumerate(distances)),reverse=True,key = lambda x:x[1])[1:6]\n",
    "    \n",
    "    for i in movies_list:\n",
    "        print(df.iloc[i[0]].title,df.iloc[i[0]].vote_average)"
   ]
  },
  {
   "cell_type": "code",
   "execution_count": 51,
   "id": "9502b369",
   "metadata": {
    "ExecuteTime": {
     "end_time": "2023-04-06T12:55:21.815599Z",
     "start_time": "2023-04-06T12:55:21.444827Z"
    }
   },
   "outputs": [
    {
     "name": "stdout",
     "output_type": "stream",
     "text": [
      "The Time Travellers\n",
      "The Time Machine\n",
      "Rollerball\n",
      "Moonshot\n",
      "JJ+E\n"
     ]
    }
   ],
   "source": [
    "recommend('Beyond the Time Barrier')"
   ]
  },
  {
   "cell_type": "code",
   "execution_count": 52,
   "id": "02925837",
   "metadata": {
    "ExecuteTime": {
     "end_time": "2023-04-06T12:55:21.943124Z",
     "start_time": "2023-04-06T12:55:21.820595Z"
    }
   },
   "outputs": [
    {
     "name": "stdout",
     "output_type": "stream",
     "text": [
      "Glorious Times in the Spessart\n",
      "The Colony\n",
      "Journey to the Far Side of the Sun\n",
      "Final Space\n",
      "The Beyond\n"
     ]
    }
   ],
   "source": [
    "recommend('Interstellar')"
   ]
  },
  {
   "cell_type": "code",
   "execution_count": 53,
   "id": "bfca83c8",
   "metadata": {
    "ExecuteTime": {
     "end_time": "2023-04-06T12:55:22.085476Z",
     "start_time": "2023-04-06T12:55:21.950119Z"
    }
   },
   "outputs": [
    {
     "name": "stdout",
     "output_type": "stream",
     "text": [
      "Harry Potter and the Philosopher's Stone\n",
      "Harry Potter and the Deathly Hallows: Part 1\n",
      "Harry Potter and the Prisoner of Azkaban\n",
      "Harry Potter and the Deathly Hallows: Part 2\n",
      "Fantastic Beasts: The Crimes of Grindelwald\n"
     ]
    }
   ],
   "source": [
    "recommend('Harry Potter and the Half-Blood Prince')"
   ]
  },
  {
   "cell_type": "code",
   "execution_count": 70,
   "id": "75ee6916",
   "metadata": {
    "ExecuteTime": {
     "end_time": "2023-04-06T16:42:40.153827Z",
     "start_time": "2023-04-06T16:42:39.975009Z"
    }
   },
   "outputs": [
    {
     "name": "stdout",
     "output_type": "stream",
     "text": [
      "Harry Potter and the Philosopher's Stone 7.9\n",
      "Harry Potter and the Deathly Hallows: Part 1 7.8\n",
      "Harry Potter and the Deathly Hallows: Part 2 8.1\n",
      "Harry Potter and the Prisoner of Azkaban 8.0\n",
      "Fantastic Beasts: The Crimes of Grindelwald 6.9\n"
     ]
    }
   ],
   "source": [
    "recommend('Harry Potter and the Half-Blood Prince')"
   ]
  },
  {
   "cell_type": "code",
   "execution_count": 54,
   "id": "d27e0326",
   "metadata": {
    "ExecuteTime": {
     "end_time": "2023-04-06T12:55:22.227140Z",
     "start_time": "2023-04-06T12:55:22.091515Z"
    },
    "scrolled": true
   },
   "outputs": [
    {
     "name": "stdout",
     "output_type": "stream",
     "text": [
      "I-4: Loufa kai apallagi\n",
      "Thambi\n",
      "Fingerpori\n",
      "White Ghost\n",
      "Whindersson Nunes em Marminino\n"
     ]
    }
   ],
   "source": [
    "recommend('Chandni Chowk to China')"
   ]
  },
  {
   "cell_type": "code",
   "execution_count": 71,
   "id": "889a1ce6",
   "metadata": {
    "ExecuteTime": {
     "end_time": "2023-04-06T16:42:52.180542Z",
     "start_time": "2023-04-06T16:42:52.106927Z"
    }
   },
   "outputs": [
    {
     "name": "stdout",
     "output_type": "stream",
     "text": [
      "The Cub Tiger from Kwang Tung 5.2\n",
      "Housefull 2 5.5\n",
      "Hero and the Terror 5.6\n",
      "The Misadventures of Hedi and Cokeman 4.7\n",
      "I soliti idioti 5.0\n"
     ]
    }
   ],
   "source": [
    "recommend('Chandni Chowk to China')"
   ]
  },
  {
   "cell_type": "code",
   "execution_count": 55,
   "id": "db09029d",
   "metadata": {
    "ExecuteTime": {
     "end_time": "2023-04-06T12:55:22.368817Z",
     "start_time": "2023-04-06T12:55:22.232246Z"
    }
   },
   "outputs": [
    {
     "name": "stdout",
     "output_type": "stream",
     "text": [
      "Heneral Luna\n",
      "The Chaperone\n",
      "Battal Gazi Destanı\n",
      "Operation Chromite\n",
      "Beginning of the Great Revival\n"
     ]
    }
   ],
   "source": [
    "recommend('RRR')"
   ]
  },
  {
   "cell_type": "code",
   "execution_count": 72,
   "id": "0866b51c",
   "metadata": {
    "ExecuteTime": {
     "end_time": "2023-04-06T16:44:26.410854Z",
     "start_time": "2023-04-06T16:44:26.345985Z"
    }
   },
   "outputs": [
    {
     "name": "stdout",
     "output_type": "stream",
     "text": [
      "The Conspirators 7.6\n",
      "Operation Chromite 5.9\n",
      "Michael Collins 6.9\n",
      "Johnny Mad Dog 6.3\n",
      "Rosewood 6.6\n"
     ]
    }
   ],
   "source": [
    "recommend('RRR')"
   ]
  },
  {
   "cell_type": "code",
   "execution_count": 56,
   "id": "78366548",
   "metadata": {
    "ExecuteTime": {
     "end_time": "2023-04-06T12:55:22.431530Z",
     "start_time": "2023-04-06T12:55:22.375696Z"
    }
   },
   "outputs": [
    {
     "data": {
      "text/html": [
       "<div>\n",
       "<style scoped>\n",
       "    .dataframe tbody tr th:only-of-type {\n",
       "        vertical-align: middle;\n",
       "    }\n",
       "\n",
       "    .dataframe tbody tr th {\n",
       "        vertical-align: top;\n",
       "    }\n",
       "\n",
       "    .dataframe thead th {\n",
       "        text-align: right;\n",
       "    }\n",
       "</style>\n",
       "<table border=\"1\" class=\"dataframe\">\n",
       "  <thead>\n",
       "    <tr style=\"text-align: right;\">\n",
       "      <th></th>\n",
       "      <th>id</th>\n",
       "      <th>overview</th>\n",
       "      <th>vote_average</th>\n",
       "      <th>vote_count</th>\n",
       "      <th>year</th>\n",
       "      <th>imdb_id</th>\n",
       "      <th>title</th>\n",
       "      <th>keywords</th>\n",
       "      <th>genre</th>\n",
       "      <th>director</th>\n",
       "      <th>writer</th>\n",
       "      <th>cast</th>\n",
       "      <th>tags</th>\n",
       "      <th>tags_stem</th>\n",
       "    </tr>\n",
       "  </thead>\n",
       "  <tbody>\n",
       "    <tr>\n",
       "      <th>25401</th>\n",
       "      <td>16513</td>\n",
       "      <td>[Μια, παρέα, νεοσύλλεκτων, που, ο, καθένας, γι...</td>\n",
       "      <td>5.6</td>\n",
       "      <td>17</td>\n",
       "      <td>2008</td>\n",
       "      <td>tt1170402</td>\n",
       "      <td>I-4: Loufa kai apallagi</td>\n",
       "      <td>[]</td>\n",
       "      <td>[Action, Comedy]</td>\n",
       "      <td>[VasilisKatsikis]</td>\n",
       "      <td>[VasilisKatsikis]</td>\n",
       "      <td>[ThanasisTsaltabasis, HarisMavroudis, PetrosLa...</td>\n",
       "      <td>Action Comedy ThanasisTsaltabasis HarisMavroud...</td>\n",
       "      <td>action comedi thanasistsaltabasi harismavroudi...</td>\n",
       "    </tr>\n",
       "  </tbody>\n",
       "</table>\n",
       "</div>"
      ],
      "text/plain": [
       "          id                                           overview  vote_average  \\\n",
       "25401  16513  [Μια, παρέα, νεοσύλλεκτων, που, ο, καθένας, γι...           5.6   \n",
       "\n",
       "       vote_count  year    imdb_id                    title keywords  \\\n",
       "25401          17  2008  tt1170402  I-4: Loufa kai apallagi       []   \n",
       "\n",
       "                  genre           director             writer  \\\n",
       "25401  [Action, Comedy]  [VasilisKatsikis]  [VasilisKatsikis]   \n",
       "\n",
       "                                                    cast  \\\n",
       "25401  [ThanasisTsaltabasis, HarisMavroudis, PetrosLa...   \n",
       "\n",
       "                                                    tags  \\\n",
       "25401  Action Comedy ThanasisTsaltabasis HarisMavroud...   \n",
       "\n",
       "                                               tags_stem  \n",
       "25401  action comedi thanasistsaltabasi harismavroudi...  "
      ]
     },
     "execution_count": 56,
     "metadata": {},
     "output_type": "execute_result"
    }
   ],
   "source": [
    "data[data['title']=='I-4: Loufa kai apallagi']"
   ]
  },
  {
   "cell_type": "code",
   "execution_count": null,
   "id": "e7bd215d",
   "metadata": {},
   "outputs": [],
   "source": []
  },
  {
   "cell_type": "markdown",
   "id": "fe527a32",
   "metadata": {},
   "source": [
    "## using TfidVectorizer"
   ]
  },
  {
   "cell_type": "code",
   "execution_count": 35,
   "id": "27f4205a",
   "metadata": {
    "ExecuteTime": {
     "end_time": "2023-04-06T18:27:53.072641Z",
     "start_time": "2023-04-06T18:27:53.028637Z"
    }
   },
   "outputs": [
    {
     "data": {
      "text/html": [
       "<div>\n",
       "<style scoped>\n",
       "    .dataframe tbody tr th:only-of-type {\n",
       "        vertical-align: middle;\n",
       "    }\n",
       "\n",
       "    .dataframe tbody tr th {\n",
       "        vertical-align: top;\n",
       "    }\n",
       "\n",
       "    .dataframe thead th {\n",
       "        text-align: right;\n",
       "    }\n",
       "</style>\n",
       "<table border=\"1\" class=\"dataframe\">\n",
       "  <thead>\n",
       "    <tr style=\"text-align: right;\">\n",
       "      <th></th>\n",
       "      <th>id</th>\n",
       "      <th>overview</th>\n",
       "      <th>vote_average</th>\n",
       "      <th>vote_count</th>\n",
       "      <th>year</th>\n",
       "      <th>imdb_id</th>\n",
       "      <th>title</th>\n",
       "      <th>keywords</th>\n",
       "      <th>genre</th>\n",
       "      <th>director</th>\n",
       "      <th>writer</th>\n",
       "      <th>cast</th>\n",
       "      <th>tags</th>\n",
       "      <th>tags_stem</th>\n",
       "    </tr>\n",
       "  </thead>\n",
       "  <tbody>\n",
       "    <tr>\n",
       "      <th>0</th>\n",
       "      <td>766431</td>\n",
       "      <td>[Former, POW, Jack, Calgrove, moves, Heaven, a...</td>\n",
       "      <td>7.3</td>\n",
       "      <td>65</td>\n",
       "      <td>2022</td>\n",
       "      <td>tt8859236</td>\n",
       "      <td>Hostile Territory</td>\n",
       "      <td>[civilwar, orphanage, train, orphan, postwar, ...</td>\n",
       "      <td>[Western, Action, Drama, History]</td>\n",
       "      <td>[BrianPresley]</td>\n",
       "      <td>[BrianPresley]</td>\n",
       "      <td>[BrianPresley, MattMcCoy, BradLeland, BreaBee,...</td>\n",
       "      <td>Western Action Drama History BrianPresley Matt...</td>\n",
       "      <td>western action drama histori brianpresley matt...</td>\n",
       "    </tr>\n",
       "    <tr>\n",
       "      <th>1</th>\n",
       "      <td>838876</td>\n",
       "      <td>[Based, on, a, story, by, Stefano, Sardo, The,...</td>\n",
       "      <td>6.8</td>\n",
       "      <td>132</td>\n",
       "      <td>2022</td>\n",
       "      <td>tt15213704</td>\n",
       "      <td>The Perfect Dinner</td>\n",
       "      <td>[]</td>\n",
       "      <td>[Comedy, Romance]</td>\n",
       "      <td>[DavideMinnella]</td>\n",
       "      <td>[StefanoSardo, SalvatoreEsposito, GianlucaBern...</td>\n",
       "      <td>[SalvatoreEsposito, GretaScarano, GianlucaColu...</td>\n",
       "      <td>Comedy Romance SalvatoreEsposito GretaScarano ...</td>\n",
       "      <td>comedi romanc salvatoreesposito gretascarano g...</td>\n",
       "    </tr>\n",
       "    <tr>\n",
       "      <th>2</th>\n",
       "      <td>777831</td>\n",
       "      <td>[A, former, burlesque, dancer, turned, author,...</td>\n",
       "      <td>5.4</td>\n",
       "      <td>75</td>\n",
       "      <td>2022</td>\n",
       "      <td>tt13680520</td>\n",
       "      <td>9 Bullets</td>\n",
       "      <td>[dancer, exhusband, loss, crimeboss, murder, r...</td>\n",
       "      <td>[Action, Thriller]</td>\n",
       "      <td>[GigiGaston]</td>\n",
       "      <td>[GigiGaston]</td>\n",
       "      <td>[LenaHeadey, DeanScottVazquez, SamWorthington,...</td>\n",
       "      <td>Action Thriller LenaHeadey DeanScottVazquez Sa...</td>\n",
       "      <td>action thriller lenaheadey deanscottvazquez sa...</td>\n",
       "    </tr>\n",
       "    <tr>\n",
       "      <th>3</th>\n",
       "      <td>840118</td>\n",
       "      <td>[Filippo, is, the, hottest, male, escort, arou...</td>\n",
       "      <td>5.4</td>\n",
       "      <td>75</td>\n",
       "      <td>2022</td>\n",
       "      <td>tt14469460</td>\n",
       "      <td>Italian Gigolò</td>\n",
       "      <td>[gigolo]</td>\n",
       "      <td>[Comedy]</td>\n",
       "      <td>[LilloPetrolo, ErosPuglielli, ClaudioGregori]</td>\n",
       "      <td>[LilloPetrolo, ClaudioGregori, MatteoMenduni, ...</td>\n",
       "      <td>[LilloPetrolo, ClaudioGregori, IlariaSpada, Fr...</td>\n",
       "      <td>Comedy LilloPetrolo ClaudioGregori IlariaSpada...</td>\n",
       "      <td>comedi lillopetrolo claudiogregori ilariaspada...</td>\n",
       "    </tr>\n",
       "    <tr>\n",
       "      <th>4</th>\n",
       "      <td>587412</td>\n",
       "      <td>[The, bloodsoaked, land, of, Kolar, Gold, Fiel...</td>\n",
       "      <td>7.6</td>\n",
       "      <td>97</td>\n",
       "      <td>2022</td>\n",
       "      <td>tt10698680</td>\n",
       "      <td>K.G.F: Chapter 2</td>\n",
       "      <td>[undercover, sequel, onemanarmy, don, actionhero]</td>\n",
       "      <td>[Action, Crime, Drama]</td>\n",
       "      <td>[PrashanthNeel]</td>\n",
       "      <td>[]</td>\n",
       "      <td>[Yash, SanjayDutt, RaveenaTandon, SrinidhiShet...</td>\n",
       "      <td>Action Crime Drama Yash SanjayDutt RaveenaTand...</td>\n",
       "      <td>action crime drama yash sanjaydutt raveenatand...</td>\n",
       "    </tr>\n",
       "  </tbody>\n",
       "</table>\n",
       "</div>"
      ],
      "text/plain": [
       "       id                                           overview  vote_average  \\\n",
       "0  766431  [Former, POW, Jack, Calgrove, moves, Heaven, a...           7.3   \n",
       "1  838876  [Based, on, a, story, by, Stefano, Sardo, The,...           6.8   \n",
       "2  777831  [A, former, burlesque, dancer, turned, author,...           5.4   \n",
       "3  840118  [Filippo, is, the, hottest, male, escort, arou...           5.4   \n",
       "4  587412  [The, bloodsoaked, land, of, Kolar, Gold, Fiel...           7.6   \n",
       "\n",
       "   vote_count  year     imdb_id               title  \\\n",
       "0          65  2022   tt8859236   Hostile Territory   \n",
       "1         132  2022  tt15213704  The Perfect Dinner   \n",
       "2          75  2022  tt13680520           9 Bullets   \n",
       "3          75  2022  tt14469460      Italian Gigolò   \n",
       "4          97  2022  tt10698680    K.G.F: Chapter 2   \n",
       "\n",
       "                                            keywords  \\\n",
       "0  [civilwar, orphanage, train, orphan, postwar, ...   \n",
       "1                                                 []   \n",
       "2  [dancer, exhusband, loss, crimeboss, murder, r...   \n",
       "3                                           [gigolo]   \n",
       "4  [undercover, sequel, onemanarmy, don, actionhero]   \n",
       "\n",
       "                               genre  \\\n",
       "0  [Western, Action, Drama, History]   \n",
       "1                  [Comedy, Romance]   \n",
       "2                 [Action, Thriller]   \n",
       "3                           [Comedy]   \n",
       "4             [Action, Crime, Drama]   \n",
       "\n",
       "                                        director  \\\n",
       "0                                 [BrianPresley]   \n",
       "1                               [DavideMinnella]   \n",
       "2                                   [GigiGaston]   \n",
       "3  [LilloPetrolo, ErosPuglielli, ClaudioGregori]   \n",
       "4                                [PrashanthNeel]   \n",
       "\n",
       "                                              writer  \\\n",
       "0                                     [BrianPresley]   \n",
       "1  [StefanoSardo, SalvatoreEsposito, GianlucaBern...   \n",
       "2                                       [GigiGaston]   \n",
       "3  [LilloPetrolo, ClaudioGregori, MatteoMenduni, ...   \n",
       "4                                                 []   \n",
       "\n",
       "                                                cast  \\\n",
       "0  [BrianPresley, MattMcCoy, BradLeland, BreaBee,...   \n",
       "1  [SalvatoreEsposito, GretaScarano, GianlucaColu...   \n",
       "2  [LenaHeadey, DeanScottVazquez, SamWorthington,...   \n",
       "3  [LilloPetrolo, ClaudioGregori, IlariaSpada, Fr...   \n",
       "4  [Yash, SanjayDutt, RaveenaTandon, SrinidhiShet...   \n",
       "\n",
       "                                                tags  \\\n",
       "0  Western Action Drama History BrianPresley Matt...   \n",
       "1  Comedy Romance SalvatoreEsposito GretaScarano ...   \n",
       "2  Action Thriller LenaHeadey DeanScottVazquez Sa...   \n",
       "3  Comedy LilloPetrolo ClaudioGregori IlariaSpada...   \n",
       "4  Action Crime Drama Yash SanjayDutt RaveenaTand...   \n",
       "\n",
       "                                           tags_stem  \n",
       "0  western action drama histori brianpresley matt...  \n",
       "1  comedi romanc salvatoreesposito gretascarano g...  \n",
       "2  action thriller lenaheadey deanscottvazquez sa...  \n",
       "3  comedi lillopetrolo claudiogregori ilariaspada...  \n",
       "4  action crime drama yash sanjaydutt raveenatand...  "
      ]
     },
     "execution_count": 35,
     "metadata": {},
     "output_type": "execute_result"
    }
   ],
   "source": [
    "df = data[data['vote_count']>50]\n",
    "df.reset_index(drop=True,inplace=True)\n",
    "df.head()"
   ]
  },
  {
   "cell_type": "code",
   "execution_count": 36,
   "id": "7336058b",
   "metadata": {
    "ExecuteTime": {
     "end_time": "2023-04-06T18:27:53.088702Z",
     "start_time": "2023-04-06T18:27:53.076572Z"
    }
   },
   "outputs": [
    {
     "data": {
      "text/plain": [
       "(21667, 14)"
      ]
     },
     "execution_count": 36,
     "metadata": {},
     "output_type": "execute_result"
    }
   ],
   "source": [
    "df.shape"
   ]
  },
  {
   "cell_type": "code",
   "execution_count": 37,
   "id": "ee879113",
   "metadata": {
    "ExecuteTime": {
     "end_time": "2023-04-06T18:27:53.103933Z",
     "start_time": "2023-04-06T18:27:53.092814Z"
    }
   },
   "outputs": [],
   "source": [
    "from sklearn.feature_extraction.text import TfidfVectorizer"
   ]
  },
  {
   "cell_type": "code",
   "execution_count": 38,
   "id": "a79c88c6",
   "metadata": {
    "ExecuteTime": {
     "end_time": "2023-04-06T18:27:53.119755Z",
     "start_time": "2023-04-06T18:27:53.108947Z"
    }
   },
   "outputs": [],
   "source": [
    "tfid_vec = TfidfVectorizer()"
   ]
  },
  {
   "cell_type": "code",
   "execution_count": 39,
   "id": "8b196c3c",
   "metadata": {
    "ExecuteTime": {
     "end_time": "2023-04-06T18:27:54.977426Z",
     "start_time": "2023-04-06T18:27:53.124784Z"
    }
   },
   "outputs": [],
   "source": [
    "feature_vectors = tfid_vec.fit_transform(df['tags_stem'])"
   ]
  },
  {
   "cell_type": "code",
   "execution_count": 40,
   "id": "6e086622",
   "metadata": {
    "ExecuteTime": {
     "end_time": "2023-04-06T18:27:55.009540Z",
     "start_time": "2023-04-06T18:27:54.977426Z"
    }
   },
   "outputs": [
    {
     "name": "stdout",
     "output_type": "stream",
     "text": [
      "  (0, 90457)\t0.07042722521891827\n",
      "  (0, 96165)\t0.0563416703666159\n",
      "  (0, 93831)\t0.043030656830831106\n",
      "  (0, 7633)\t0.03797533602685439\n",
      "  (0, 87759)\t0.10174678109240469\n",
      "  (0, 33678)\t0.12528206428113817\n",
      "  (0, 86128)\t0.12744844443697526\n",
      "  (0, 4487)\t0.06803978418477799\n",
      "  (0, 68042)\t0.09766051238049984\n",
      "  (0, 96317)\t0.104044947374637\n",
      "  (0, 97661)\t0.047413782963122805\n",
      "  (0, 92963)\t0.06500604723520163\n",
      "  (0, 88296)\t0.07647150622106202\n",
      "  (0, 6271)\t0.07151601612116355\n",
      "  (0, 68583)\t0.04836178860390229\n",
      "  (0, 75295)\t0.06992387548033512\n",
      "  (0, 70447)\t0.04138312201230422\n",
      "  (0, 42831)\t0.09042360694657373\n",
      "  (0, 56350)\t0.08741323647357781\n",
      "  (0, 29050)\t0.0825097170992613\n",
      "  (0, 21067)\t0.08421820266952704\n",
      "  (0, 71019)\t0.03418968729145914\n",
      "  (0, 100409)\t0.09022308963541895\n",
      "  (0, 42956)\t0.09178156767514513\n",
      "  (0, 24012)\t0.08408481999463675\n",
      "  :\t:\n",
      "  (21666, 32357)\t0.1436978005101951\n",
      "  (21666, 81412)\t0.15067847125364012\n",
      "  (21666, 23623)\t0.13933394736961707\n",
      "  (21666, 100646)\t0.2969304033030487\n",
      "  (21666, 86954)\t0.14264694254185836\n",
      "  (21666, 79264)\t0.15161655272962848\n",
      "  (21666, 18440)\t0.11480877343995859\n",
      "  (21666, 12354)\t0.1832260915233874\n",
      "  (21666, 10843)\t0.13658528261525912\n",
      "  (21666, 9857)\t0.09156421165144542\n",
      "  (21666, 96757)\t0.08989477219639488\n",
      "  (21666, 88393)\t0.11083333767118002\n",
      "  (21666, 101424)\t0.10411704368731069\n",
      "  (21666, 20889)\t0.08197960271384916\n",
      "  (21666, 31100)\t0.07318332604520439\n",
      "  (21666, 66978)\t0.09313117212663857\n",
      "  (21666, 57508)\t0.08900019461166501\n",
      "  (21666, 39789)\t0.06620305278088016\n",
      "  (21666, 100487)\t0.06554124446023374\n",
      "  (21666, 70447)\t0.03733916526580288\n",
      "  (21666, 93651)\t0.03228716508896982\n",
      "  (21666, 101175)\t0.05439973998597707\n",
      "  (21666, 94740)\t0.03538566471247397\n",
      "  (21666, 66727)\t0.12043597720894719\n",
      "  (21666, 26536)\t0.0492951820290424\n"
     ]
    }
   ],
   "source": [
    "print(feature_vectors)"
   ]
  },
  {
   "cell_type": "code",
   "execution_count": 42,
   "id": "113021a7",
   "metadata": {
    "ExecuteTime": {
     "end_time": "2023-04-06T18:28:26.854900Z",
     "start_time": "2023-04-06T18:28:26.839946Z"
    }
   },
   "outputs": [],
   "source": [
    "from sklearn.metrics.pairwise import cosine_similarity"
   ]
  },
  {
   "cell_type": "code",
   "execution_count": 43,
   "id": "657e0a4a",
   "metadata": {
    "ExecuteTime": {
     "end_time": "2023-04-06T18:28:53.150208Z",
     "start_time": "2023-04-06T18:28:27.208773Z"
    }
   },
   "outputs": [],
   "source": [
    "similarity_cosine1 = cosine_similarity(feature_vectors)"
   ]
  },
  {
   "cell_type": "code",
   "execution_count": 44,
   "id": "b79c648e",
   "metadata": {
    "ExecuteTime": {
     "end_time": "2023-04-06T18:28:53.165563Z",
     "start_time": "2023-04-06T18:28:53.153055Z"
    }
   },
   "outputs": [],
   "source": [
    "def recommend(movie):\n",
    "    movie_index = df[df['title']== movie].index[0]\n",
    "    distances = similarity_cosine1[movie_index]\n",
    "    movies_list = sorted(list(enumerate(distances)),reverse=True,key = lambda x:x[1])[1:6]\n",
    "    \n",
    "    for i in movies_list:\n",
    "        print(df.iloc[i[0]].title, df.iloc[i[0]].vote_average)"
   ]
  },
  {
   "cell_type": "code",
   "execution_count": 45,
   "id": "9e7df4d0",
   "metadata": {
    "ExecuteTime": {
     "end_time": "2023-04-06T18:28:53.197573Z",
     "start_time": "2023-04-06T18:28:53.166572Z"
    }
   },
   "outputs": [
    {
     "name": "stdout",
     "output_type": "stream",
     "text": [
      "The Beyond 5.6\n",
      "Doodlebug 6.6\n",
      "Journey to the Far Side of the Sun 6.2\n",
      "Star Wreck: In the Pirkinning 6.8\n",
      "The Colony 5.7\n"
     ]
    }
   ],
   "source": [
    "recommend('Interstellar')"
   ]
  },
  {
   "cell_type": "code",
   "execution_count": 46,
   "id": "36d9a8e1",
   "metadata": {
    "ExecuteTime": {
     "end_time": "2023-04-06T18:28:53.245572Z",
     "start_time": "2023-04-06T18:28:53.200571Z"
    }
   },
   "outputs": [
    {
     "name": "stdout",
     "output_type": "stream",
     "text": [
      "Meat Love 6.6\n",
      "Hindi Medium 7.3\n",
      "Singh Is Kinng 5.6\n",
      "Return to the 36th Chamber 6.8\n",
      "Desi Boyz 6.3\n"
     ]
    }
   ],
   "source": [
    "recommend('Chandni Chowk to China')"
   ]
  },
  {
   "cell_type": "code",
   "execution_count": 47,
   "id": "5060bedd",
   "metadata": {
    "ExecuteTime": {
     "end_time": "2023-04-06T18:28:53.292092Z",
     "start_time": "2023-04-06T18:28:53.247571Z"
    }
   },
   "outputs": [
    {
     "name": "stdout",
     "output_type": "stream",
     "text": [
      "Harry Potter and the Deathly Hallows: Part 1 7.8\n",
      "Harry Potter and the Deathly Hallows: Part 2 8.1\n",
      "Harry Potter and the Order of the Phoenix 7.7\n",
      "Harry Potter and the Chamber of Secrets 7.7\n",
      "Harry Potter and the Prisoner of Azkaban 8.0\n"
     ]
    }
   ],
   "source": [
    "recommend('Harry Potter and the Half-Blood Prince')"
   ]
  },
  {
   "cell_type": "code",
   "execution_count": 48,
   "id": "d6147da4",
   "metadata": {
    "ExecuteTime": {
     "end_time": "2023-04-06T18:28:53.339093Z",
     "start_time": "2023-04-06T18:28:53.295092Z"
    }
   },
   "outputs": [
    {
     "name": "stdout",
     "output_type": "stream",
     "text": [
      "Go Goa Gone 5.8\n",
      "Singh Is Bliing 5.9\n",
      "Ajab Prem Ki Ghazab Kahani 6.1\n",
      "Don 6.3\n",
      "Salaam Namaste 6.0\n"
     ]
    }
   ],
   "source": [
    "recommend('Dhamaal')"
   ]
  },
  {
   "cell_type": "code",
   "execution_count": null,
   "id": "3fe747d5",
   "metadata": {
    "ExecuteTime": {
     "end_time": "2023-04-06T18:27:55.271515Z",
     "start_time": "2023-04-06T18:27:55.271515Z"
    }
   },
   "outputs": [],
   "source": [
    "recommend('Dhamaal')"
   ]
  },
  {
   "cell_type": "code",
   "execution_count": 49,
   "id": "ac8a2792",
   "metadata": {
    "ExecuteTime": {
     "end_time": "2023-04-06T18:28:54.096717Z",
     "start_time": "2023-04-06T18:28:53.342091Z"
    }
   },
   "outputs": [
    {
     "ename": "IndexError",
     "evalue": "index 0 is out of bounds for axis 0 with size 0",
     "output_type": "error",
     "traceback": [
      "\u001b[1;31m---------------------------------------------------------------------------\u001b[0m",
      "\u001b[1;31mIndexError\u001b[0m                                Traceback (most recent call last)",
      "Cell \u001b[1;32mIn[49], line 1\u001b[0m\n\u001b[1;32m----> 1\u001b[0m \u001b[43mrecommend\u001b[49m\u001b[43m(\u001b[49m\u001b[38;5;124;43m'\u001b[39;49m\u001b[38;5;124;43mDouble Dhamaal\u001b[39;49m\u001b[38;5;124;43m'\u001b[39;49m\u001b[43m)\u001b[49m\n",
      "Cell \u001b[1;32mIn[44], line 2\u001b[0m, in \u001b[0;36mrecommend\u001b[1;34m(movie)\u001b[0m\n\u001b[0;32m      1\u001b[0m \u001b[38;5;28;01mdef\u001b[39;00m \u001b[38;5;21mrecommend\u001b[39m(movie):\n\u001b[1;32m----> 2\u001b[0m     movie_index \u001b[38;5;241m=\u001b[39m \u001b[43mdf\u001b[49m\u001b[43m[\u001b[49m\u001b[43mdf\u001b[49m\u001b[43m[\u001b[49m\u001b[38;5;124;43m'\u001b[39;49m\u001b[38;5;124;43mtitle\u001b[39;49m\u001b[38;5;124;43m'\u001b[39;49m\u001b[43m]\u001b[49m\u001b[38;5;241;43m==\u001b[39;49m\u001b[43m \u001b[49m\u001b[43mmovie\u001b[49m\u001b[43m]\u001b[49m\u001b[38;5;241;43m.\u001b[39;49m\u001b[43mindex\u001b[49m\u001b[43m[\u001b[49m\u001b[38;5;241;43m0\u001b[39;49m\u001b[43m]\u001b[49m\n\u001b[0;32m      3\u001b[0m     distances \u001b[38;5;241m=\u001b[39m similarity_cosine1[movie_index]\n\u001b[0;32m      4\u001b[0m     movies_list \u001b[38;5;241m=\u001b[39m \u001b[38;5;28msorted\u001b[39m(\u001b[38;5;28mlist\u001b[39m(\u001b[38;5;28menumerate\u001b[39m(distances)),reverse\u001b[38;5;241m=\u001b[39m\u001b[38;5;28;01mTrue\u001b[39;00m,key \u001b[38;5;241m=\u001b[39m \u001b[38;5;28;01mlambda\u001b[39;00m x:x[\u001b[38;5;241m1\u001b[39m])[\u001b[38;5;241m1\u001b[39m:\u001b[38;5;241m6\u001b[39m]\n",
      "File \u001b[1;32mC:\\ProgramData\\Anaconda3\\lib\\site-packages\\pandas\\core\\indexes\\base.py:5053\u001b[0m, in \u001b[0;36mIndex.__getitem__\u001b[1;34m(self, key)\u001b[0m\n\u001b[0;32m   5050\u001b[0m \u001b[38;5;28;01mif\u001b[39;00m is_integer(key) \u001b[38;5;129;01mor\u001b[39;00m is_float(key):\n\u001b[0;32m   5051\u001b[0m     \u001b[38;5;66;03m# GH#44051 exclude bool, which would return a 2d ndarray\u001b[39;00m\n\u001b[0;32m   5052\u001b[0m     key \u001b[38;5;241m=\u001b[39m com\u001b[38;5;241m.\u001b[39mcast_scalar_indexer(key, warn_float\u001b[38;5;241m=\u001b[39m\u001b[38;5;28;01mTrue\u001b[39;00m)\n\u001b[1;32m-> 5053\u001b[0m     \u001b[38;5;28;01mreturn\u001b[39;00m \u001b[43mgetitem\u001b[49m\u001b[43m(\u001b[49m\u001b[43mkey\u001b[49m\u001b[43m)\u001b[49m\n\u001b[0;32m   5055\u001b[0m \u001b[38;5;28;01mif\u001b[39;00m \u001b[38;5;28misinstance\u001b[39m(key, \u001b[38;5;28mslice\u001b[39m):\n\u001b[0;32m   5056\u001b[0m     \u001b[38;5;66;03m# This case is separated from the conditional above to avoid\u001b[39;00m\n\u001b[0;32m   5057\u001b[0m     \u001b[38;5;66;03m# pessimization com.is_bool_indexer and ndim checks.\u001b[39;00m\n\u001b[0;32m   5058\u001b[0m     result \u001b[38;5;241m=\u001b[39m getitem(key)\n",
      "\u001b[1;31mIndexError\u001b[0m: index 0 is out of bounds for axis 0 with size 0"
     ]
    }
   ],
   "source": [
    "recommend('Double Dhamaal')"
   ]
  },
  {
   "cell_type": "code",
   "execution_count": 51,
   "id": "179c56ae",
   "metadata": {
    "ExecuteTime": {
     "end_time": "2023-04-06T18:31:00.798133Z",
     "start_time": "2023-04-06T18:31:00.784890Z"
    }
   },
   "outputs": [
    {
     "data": {
      "text/plain": [
       "(21667, 14)"
      ]
     },
     "execution_count": 51,
     "metadata": {},
     "output_type": "execute_result"
    }
   ],
   "source": [
    "df.shape"
   ]
  },
  {
   "cell_type": "code",
   "execution_count": 50,
   "id": "6493a5ae",
   "metadata": {
    "ExecuteTime": {
     "end_time": "2023-04-06T18:29:48.825140Z",
     "start_time": "2023-04-06T18:29:48.820139Z"
    }
   },
   "outputs": [],
   "source": [
    "import pickle"
   ]
  },
  {
   "cell_type": "code",
   "execution_count": 54,
   "id": "cd4a711a",
   "metadata": {
    "ExecuteTime": {
     "end_time": "2023-04-06T18:33:27.371465Z",
     "start_time": "2023-04-06T18:33:26.742360Z"
    }
   },
   "outputs": [],
   "source": [
    "pickle.dump(df,open('movies.pkl','wb'))"
   ]
  },
  {
   "cell_type": "code",
   "execution_count": null,
   "id": "d5d102cf",
   "metadata": {},
   "outputs": [],
   "source": []
  }
 ],
 "metadata": {
  "kernelspec": {
   "display_name": "Python 3 (ipykernel)",
   "language": "python",
   "name": "python3"
  },
  "language_info": {
   "codemirror_mode": {
    "name": "ipython",
    "version": 3
   },
   "file_extension": ".py",
   "mimetype": "text/x-python",
   "name": "python",
   "nbconvert_exporter": "python",
   "pygments_lexer": "ipython3",
   "version": "3.9.13"
  }
 },
 "nbformat": 4,
 "nbformat_minor": 5
}
