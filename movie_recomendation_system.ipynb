{
 "cells": [
  {
   "cell_type": "code",
   "execution_count": 1,
   "id": "558e812c",
   "metadata": {
    "ExecuteTime": {
     "end_time": "2023-04-07T08:45:30.900085Z",
     "start_time": "2023-04-07T08:45:29.947973Z"
    }
   },
   "outputs": [],
   "source": [
    "import pandas as pd\n",
    "import numpy as np\n",
    "import requests\n",
    "import json\n",
    "pd.set_option('display.max_columns', None)"
   ]
  },
  {
   "cell_type": "code",
   "execution_count": 2,
   "id": "413ba7d1",
   "metadata": {
    "ExecuteTime": {
     "end_time": "2023-04-07T08:45:32.874474Z",
     "start_time": "2023-04-07T08:45:32.580211Z"
    }
   },
   "outputs": [
    {
     "data": {
      "text/html": [
       "<div>\n",
       "<style scoped>\n",
       "    .dataframe tbody tr th:only-of-type {\n",
       "        vertical-align: middle;\n",
       "    }\n",
       "\n",
       "    .dataframe tbody tr th {\n",
       "        vertical-align: top;\n",
       "    }\n",
       "\n",
       "    .dataframe thead th {\n",
       "        text-align: right;\n",
       "    }\n",
       "</style>\n",
       "<table border=\"1\" class=\"dataframe\">\n",
       "  <thead>\n",
       "    <tr style=\"text-align: right;\">\n",
       "      <th></th>\n",
       "      <th>id</th>\n",
       "      <th>overview</th>\n",
       "      <th>vote_average</th>\n",
       "      <th>vote_count</th>\n",
       "      <th>year</th>\n",
       "      <th>imdb_id</th>\n",
       "      <th>title</th>\n",
       "      <th>keywords</th>\n",
       "      <th>genre</th>\n",
       "      <th>director</th>\n",
       "      <th>writer</th>\n",
       "      <th>cast</th>\n",
       "      <th>backdrop_path</th>\n",
       "      <th>original_language</th>\n",
       "      <th>poster_path</th>\n",
       "    </tr>\n",
       "  </thead>\n",
       "  <tbody>\n",
       "    <tr>\n",
       "      <th>0</th>\n",
       "      <td>1022102</td>\n",
       "      <td>Purple colors the city of Los Angeles, as BTS ...</td>\n",
       "      <td>9.2</td>\n",
       "      <td>139</td>\n",
       "      <td>2022</td>\n",
       "      <td>tt22010428</td>\n",
       "      <td>BTS: Permission to Dance on Stage - LA</td>\n",
       "      <td>['concert', 'concert film', 'k-pop']</td>\n",
       "      <td>['Music', 'Documentary']</td>\n",
       "      <td>['Sam Wrench', 'Park Jun-soo']</td>\n",
       "      <td>[]</td>\n",
       "      <td>['Kim Nam-joon', 'Kim Seok-jin', 'Min Yoon-gi'...</td>\n",
       "      <td>/4IMn2EqCBb4n4r6FODOP7fJQIdi.jpg</td>\n",
       "      <td>ko</td>\n",
       "      <td>/9pNGRpOOQpZtqMLncEcQDv86OkW.jpg</td>\n",
       "    </tr>\n",
       "    <tr>\n",
       "      <th>1</th>\n",
       "      <td>953553</td>\n",
       "      <td>In the fifth installment of the Gabriel's Infe...</td>\n",
       "      <td>8.7</td>\n",
       "      <td>63</td>\n",
       "      <td>2022</td>\n",
       "      <td>tt19121744</td>\n",
       "      <td>Gabriel's Rapture: Part II</td>\n",
       "      <td>[]</td>\n",
       "      <td>['Romance']</td>\n",
       "      <td>['Tosca Musk']</td>\n",
       "      <td>[]</td>\n",
       "      <td>['Melanie Zanetti', 'Giulio Berruti', 'James A...</td>\n",
       "      <td>/gf93HbjBrmT9PE9yaW9Wl6JGIdT.jpg</td>\n",
       "      <td>en</td>\n",
       "      <td>/2DtnVEwBJKL5aUlLAyZASmQpWn8.jpg</td>\n",
       "    </tr>\n",
       "    <tr>\n",
       "      <th>2</th>\n",
       "      <td>1039026</td>\n",
       "      <td>Franco Escamilla takes the stage in California...</td>\n",
       "      <td>8.7</td>\n",
       "      <td>76</td>\n",
       "      <td>2022</td>\n",
       "      <td>tt22301428</td>\n",
       "      <td>Franco Escamilla: Eavesdropping</td>\n",
       "      <td>['stand-up comedy']</td>\n",
       "      <td>['Comedy']</td>\n",
       "      <td>['Claude Shires']</td>\n",
       "      <td>[]</td>\n",
       "      <td>['Franco Escamilla']</td>\n",
       "      <td>/4ig7xlM8r3rxLZadMHqGGntPkyq.jpg</td>\n",
       "      <td>es</td>\n",
       "      <td>/cLaTeAG7kq4x39MVqbrwGEvzLJ.jpg</td>\n",
       "    </tr>\n",
       "  </tbody>\n",
       "</table>\n",
       "</div>"
      ],
      "text/plain": [
       "        id                                           overview  vote_average  \\\n",
       "0  1022102  Purple colors the city of Los Angeles, as BTS ...           9.2   \n",
       "1   953553  In the fifth installment of the Gabriel's Infe...           8.7   \n",
       "2  1039026  Franco Escamilla takes the stage in California...           8.7   \n",
       "\n",
       "   vote_count  year     imdb_id                                   title  \\\n",
       "0         139  2022  tt22010428  BTS: Permission to Dance on Stage - LA   \n",
       "1          63  2022  tt19121744              Gabriel's Rapture: Part II   \n",
       "2          76  2022  tt22301428         Franco Escamilla: Eavesdropping   \n",
       "\n",
       "                               keywords                     genre  \\\n",
       "0  ['concert', 'concert film', 'k-pop']  ['Music', 'Documentary']   \n",
       "1                                    []               ['Romance']   \n",
       "2                   ['stand-up comedy']                ['Comedy']   \n",
       "\n",
       "                         director writer  \\\n",
       "0  ['Sam Wrench', 'Park Jun-soo']     []   \n",
       "1                  ['Tosca Musk']     []   \n",
       "2               ['Claude Shires']     []   \n",
       "\n",
       "                                                cast  \\\n",
       "0  ['Kim Nam-joon', 'Kim Seok-jin', 'Min Yoon-gi'...   \n",
       "1  ['Melanie Zanetti', 'Giulio Berruti', 'James A...   \n",
       "2                               ['Franco Escamilla']   \n",
       "\n",
       "                      backdrop_path original_language  \\\n",
       "0  /4IMn2EqCBb4n4r6FODOP7fJQIdi.jpg                ko   \n",
       "1  /gf93HbjBrmT9PE9yaW9Wl6JGIdT.jpg                en   \n",
       "2  /4ig7xlM8r3rxLZadMHqGGntPkyq.jpg                es   \n",
       "\n",
       "                        poster_path  \n",
       "0  /9pNGRpOOQpZtqMLncEcQDv86OkW.jpg  \n",
       "1  /2DtnVEwBJKL5aUlLAyZASmQpWn8.jpg  \n",
       "2   /cLaTeAG7kq4x39MVqbrwGEvzLJ.jpg  "
      ]
     },
     "execution_count": 2,
     "metadata": {},
     "output_type": "execute_result"
    }
   ],
   "source": [
    "data = pd.read_csv(\"checkpoint_data2.csv\")\n",
    "data.head(3)"
   ]
  },
  {
   "cell_type": "code",
   "execution_count": 3,
   "id": "6cb88a1a",
   "metadata": {
    "ExecuteTime": {
     "end_time": "2023-04-07T08:45:32.890003Z",
     "start_time": "2023-04-07T08:45:32.877471Z"
    }
   },
   "outputs": [
    {
     "data": {
      "text/plain": [
       "(28636, 15)"
      ]
     },
     "execution_count": 3,
     "metadata": {},
     "output_type": "execute_result"
    }
   ],
   "source": [
    "data.shape"
   ]
  },
  {
   "cell_type": "code",
   "execution_count": 4,
   "id": "6d61038b",
   "metadata": {
    "ExecuteTime": {
     "end_time": "2023-04-07T08:45:33.108317Z",
     "start_time": "2023-04-07T08:45:33.044583Z"
    }
   },
   "outputs": [
    {
     "name": "stdout",
     "output_type": "stream",
     "text": [
      "<class 'pandas.core.frame.DataFrame'>\n",
      "RangeIndex: 28636 entries, 0 to 28635\n",
      "Data columns (total 15 columns):\n",
      " #   Column             Non-Null Count  Dtype  \n",
      "---  ------             --------------  -----  \n",
      " 0   id                 28636 non-null  int64  \n",
      " 1   overview           28636 non-null  object \n",
      " 2   vote_average       28636 non-null  float64\n",
      " 3   vote_count         28636 non-null  int64  \n",
      " 4   year               28636 non-null  int64  \n",
      " 5   imdb_id            28611 non-null  object \n",
      " 6   title              28636 non-null  object \n",
      " 7   keywords           28636 non-null  object \n",
      " 8   genre              28636 non-null  object \n",
      " 9   director           28636 non-null  object \n",
      " 10  writer             28636 non-null  object \n",
      " 11  cast               28636 non-null  object \n",
      " 12  backdrop_path      27971 non-null  object \n",
      " 13  original_language  28636 non-null  object \n",
      " 14  poster_path        28636 non-null  object \n",
      "dtypes: float64(1), int64(3), object(11)\n",
      "memory usage: 3.3+ MB\n"
     ]
    }
   ],
   "source": [
    "data.info()"
   ]
  },
  {
   "cell_type": "code",
   "execution_count": 5,
   "id": "6d3b14e7",
   "metadata": {
    "ExecuteTime": {
     "end_time": "2023-04-07T08:45:33.279452Z",
     "start_time": "2023-04-07T08:45:33.267893Z"
    }
   },
   "outputs": [
    {
     "name": "stdout",
     "output_type": "stream",
     "text": [
      "<class 'numpy.int64'> id\n",
      "<class 'str'> overview\n",
      "<class 'numpy.float64'> vote_average\n",
      "<class 'numpy.int64'> vote_count\n",
      "<class 'numpy.int64'> year\n",
      "<class 'str'> imdb_id\n",
      "<class 'str'> title\n",
      "<class 'str'> keywords\n",
      "<class 'str'> genre\n",
      "<class 'str'> director\n",
      "<class 'str'> writer\n",
      "<class 'str'> cast\n",
      "<class 'str'> backdrop_path\n",
      "<class 'str'> original_language\n",
      "<class 'str'> poster_path\n"
     ]
    }
   ],
   "source": [
    "for i in data.columns:\n",
    "    print(type(data.loc[0,i]),i)"
   ]
  },
  {
   "cell_type": "code",
   "execution_count": 6,
   "id": "1ce88bb5",
   "metadata": {
    "ExecuteTime": {
     "end_time": "2023-04-07T08:45:33.482172Z",
     "start_time": "2023-04-07T08:45:33.467813Z"
    }
   },
   "outputs": [],
   "source": [
    "import ast\n",
    "import re"
   ]
  },
  {
   "cell_type": "code",
   "execution_count": 7,
   "id": "7a791cf6",
   "metadata": {
    "ExecuteTime": {
     "end_time": "2023-04-07T08:45:33.699976Z",
     "start_time": "2023-04-07T08:45:33.688211Z"
    }
   },
   "outputs": [],
   "source": [
    "def remove_special_chars(text):\n",
    "    pattern = r'[^\\w\\s]'\n",
    "    return re.sub(pattern, '', text)"
   ]
  },
  {
   "cell_type": "code",
   "execution_count": 8,
   "id": "7c6af0c6",
   "metadata": {
    "ExecuteTime": {
     "end_time": "2023-04-07T08:45:34.041811Z",
     "start_time": "2023-04-07T08:45:33.898652Z"
    }
   },
   "outputs": [],
   "source": [
    "data['overview']=data['overview'].apply(remove_special_chars)"
   ]
  },
  {
   "cell_type": "code",
   "execution_count": 9,
   "id": "50270bae",
   "metadata": {
    "ExecuteTime": {
     "end_time": "2023-04-07T08:45:34.244023Z",
     "start_time": "2023-04-07T08:45:34.092675Z"
    }
   },
   "outputs": [],
   "source": [
    "data['overview']=data['overview'].apply(lambda x : x.split())"
   ]
  },
  {
   "cell_type": "code",
   "execution_count": 10,
   "id": "da78ee62",
   "metadata": {
    "ExecuteTime": {
     "end_time": "2023-04-07T08:45:35.456519Z",
     "start_time": "2023-04-07T08:45:34.298018Z"
    }
   },
   "outputs": [],
   "source": [
    "data['genre'] = data['genre'].apply(ast.literal_eval)\n",
    "data['cast'] = data['cast'].apply(ast.literal_eval)\n",
    "data['keywords'] = data['keywords'].apply(ast.literal_eval)\n",
    "data['director'] = data['director'].apply(ast.literal_eval)\n",
    "data['writer'] = data['writer'].apply(ast.literal_eval)"
   ]
  },
  {
   "cell_type": "code",
   "execution_count": 11,
   "id": "6c8e5a81",
   "metadata": {
    "ExecuteTime": {
     "end_time": "2023-04-07T08:45:35.843312Z",
     "start_time": "2023-04-07T08:45:35.459257Z"
    }
   },
   "outputs": [],
   "source": [
    "data['genre'] = data['genre'].apply(lambda x : [i.replace(\" \",\"\") for i in x])\n",
    "data['cast'] = data['cast'].apply(lambda x : [i.replace(\" \",\"\") for i in x])\n",
    "data['keywords'] = data['keywords'].apply(lambda x : [i.replace(\" \",\"\") for i in x])\n",
    "data['director'] = data['director'].apply(lambda x : [i.replace(\" \",\"\") for i in x])\n",
    "data['writer'] = data['writer'].apply(lambda x : [i.replace(\" \",\"\") for i in x])"
   ]
  },
  {
   "cell_type": "code",
   "execution_count": 12,
   "id": "d2bce6fe",
   "metadata": {
    "ExecuteTime": {
     "end_time": "2023-04-07T08:45:35.874082Z",
     "start_time": "2023-04-07T08:45:35.849306Z"
    }
   },
   "outputs": [
    {
     "name": "stdout",
     "output_type": "stream",
     "text": [
      "<class 'numpy.int64'> id\n",
      "<class 'list'> overview\n",
      "<class 'numpy.float64'> vote_average\n",
      "<class 'numpy.int64'> vote_count\n",
      "<class 'numpy.int64'> year\n",
      "<class 'str'> imdb_id\n",
      "<class 'str'> title\n",
      "<class 'list'> keywords\n",
      "<class 'list'> genre\n",
      "<class 'list'> director\n",
      "<class 'list'> writer\n",
      "<class 'list'> cast\n",
      "<class 'str'> backdrop_path\n",
      "<class 'str'> original_language\n",
      "<class 'str'> poster_path\n"
     ]
    }
   ],
   "source": [
    "for i in data.columns:\n",
    "    print(type(data.loc[0,i]),i)"
   ]
  },
  {
   "cell_type": "code",
   "execution_count": 13,
   "id": "f916f042",
   "metadata": {
    "ExecuteTime": {
     "end_time": "2023-04-07T08:45:36.432024Z",
     "start_time": "2023-04-07T08:45:35.886643Z"
    }
   },
   "outputs": [],
   "source": [
    "data['tags'] =  data['genre'] + data['cast'] + data['keywords'] + data['director'] + data['writer'] + data['overview']"
   ]
  },
  {
   "cell_type": "code",
   "execution_count": 14,
   "id": "0cddf306",
   "metadata": {
    "ExecuteTime": {
     "end_time": "2023-04-07T08:45:36.508830Z",
     "start_time": "2023-04-07T08:45:36.435927Z"
    }
   },
   "outputs": [
    {
     "data": {
      "text/html": [
       "<div>\n",
       "<style scoped>\n",
       "    .dataframe tbody tr th:only-of-type {\n",
       "        vertical-align: middle;\n",
       "    }\n",
       "\n",
       "    .dataframe tbody tr th {\n",
       "        vertical-align: top;\n",
       "    }\n",
       "\n",
       "    .dataframe thead th {\n",
       "        text-align: right;\n",
       "    }\n",
       "</style>\n",
       "<table border=\"1\" class=\"dataframe\">\n",
       "  <thead>\n",
       "    <tr style=\"text-align: right;\">\n",
       "      <th></th>\n",
       "      <th>id</th>\n",
       "      <th>overview</th>\n",
       "      <th>vote_average</th>\n",
       "      <th>vote_count</th>\n",
       "      <th>year</th>\n",
       "      <th>imdb_id</th>\n",
       "      <th>title</th>\n",
       "      <th>keywords</th>\n",
       "      <th>genre</th>\n",
       "      <th>director</th>\n",
       "      <th>writer</th>\n",
       "      <th>cast</th>\n",
       "      <th>backdrop_path</th>\n",
       "      <th>original_language</th>\n",
       "      <th>poster_path</th>\n",
       "      <th>tags</th>\n",
       "    </tr>\n",
       "  </thead>\n",
       "  <tbody>\n",
       "    <tr>\n",
       "      <th>10730</th>\n",
       "      <td>134411</td>\n",
       "      <td>[Construction, company, owner, John, Matthews,...</td>\n",
       "      <td>6.1</td>\n",
       "      <td>2125</td>\n",
       "      <td>2013</td>\n",
       "      <td>tt0882977</td>\n",
       "      <td>Snitch</td>\n",
       "      <td>[prison, parentchildrelationship, undercover, ...</td>\n",
       "      <td>[Thriller, Drama, Action]</td>\n",
       "      <td>[RicRomanWaugh]</td>\n",
       "      <td>[]</td>\n",
       "      <td>[DwayneJohnson, BarryPepper, SusanSarandon, Be...</td>\n",
       "      <td>/80seex5P196f7pff3R8xqwd2Zo.jpg</td>\n",
       "      <td>en</td>\n",
       "      <td>/unjVtbWDWIQvVUeiPUTzyykQiVF.jpg</td>\n",
       "      <td>[Thriller, Drama, Action, DwayneJohnson, Barry...</td>\n",
       "    </tr>\n",
       "    <tr>\n",
       "      <th>21519</th>\n",
       "      <td>18220</td>\n",
       "      <td>[A, young, and, naive, college, art, student, ...</td>\n",
       "      <td>4.8</td>\n",
       "      <td>104</td>\n",
       "      <td>1996</td>\n",
       "      <td>tt0114151</td>\n",
       "      <td>Poison Ivy 2: Lily</td>\n",
       "      <td>[obsession, diary, sequel, murder, lust, art, ...</td>\n",
       "      <td>[Drama, Romance, Thriller]</td>\n",
       "      <td>[AnneGoursaud]</td>\n",
       "      <td>[]</td>\n",
       "      <td>[AlyssaMilano, JohnathonSchaech, XanderBerkele...</td>\n",
       "      <td>/4zjQuPXBz7XOl0QXzdmah5Bwj5U.jpg</td>\n",
       "      <td>en</td>\n",
       "      <td>/jXLuQYRwWNuwW8dkx3zo5bWon2r.jpg</td>\n",
       "      <td>[Drama, Romance, Thriller, AlyssaMilano, Johna...</td>\n",
       "    </tr>\n",
       "    <tr>\n",
       "      <th>27652</th>\n",
       "      <td>66043</td>\n",
       "      <td>[Two, hoodlums, terrorize, the, passengers, of...</td>\n",
       "      <td>7.4</td>\n",
       "      <td>57</td>\n",
       "      <td>1967</td>\n",
       "      <td>tt0061814</td>\n",
       "      <td>The Incident</td>\n",
       "      <td>[gi, prejudice, racism, humiliation, newyorksu...</td>\n",
       "      <td>[Thriller, Drama, Crime]</td>\n",
       "      <td>[LarryPeerce]</td>\n",
       "      <td>[]</td>\n",
       "      <td>[TonyMusante, MartinSheen, BeauBridges, BrockP...</td>\n",
       "      <td>/t78HhX62iZKSOXaTgXrAsiIwQf5.jpg</td>\n",
       "      <td>en</td>\n",
       "      <td>/ghXkcvpKPwOaViJ1V9SK8UyZ27g.jpg</td>\n",
       "      <td>[Thriller, Drama, Crime, TonyMusante, MartinSh...</td>\n",
       "    </tr>\n",
       "    <tr>\n",
       "      <th>6653</th>\n",
       "      <td>391262</td>\n",
       "      <td>[Clinging, to, a, smooth, curved, surface, hig...</td>\n",
       "      <td>7.4</td>\n",
       "      <td>33</td>\n",
       "      <td>2016</td>\n",
       "      <td>tt4975312</td>\n",
       "      <td>Curve</td>\n",
       "      <td>[shortfilm]</td>\n",
       "      <td>[Thriller, Horror]</td>\n",
       "      <td>[TimEgan]</td>\n",
       "      <td>[TimEgan]</td>\n",
       "      <td>[LauraJaneTurner]</td>\n",
       "      <td>/iqxJsJ3Xb2qWtY9FdwStyZI5epO.jpg</td>\n",
       "      <td>en</td>\n",
       "      <td>/ehQdA0835DFN6Jsv7uUWcDEJZMx.jpg</td>\n",
       "      <td>[Thriller, Horror, LauraJaneTurner, shortfilm,...</td>\n",
       "    </tr>\n",
       "    <tr>\n",
       "      <th>10502</th>\n",
       "      <td>198062</td>\n",
       "      <td>[Will, is, a, 30something, website, manager, w...</td>\n",
       "      <td>6.6</td>\n",
       "      <td>84</td>\n",
       "      <td>2013</td>\n",
       "      <td>tt2234025</td>\n",
       "      <td>Coffee Town</td>\n",
       "      <td>[robbery, roommate, plan, coffeeshop, slacker,...</td>\n",
       "      <td>[Comedy]</td>\n",
       "      <td>[BradCopeland]</td>\n",
       "      <td>[BradCopeland]</td>\n",
       "      <td>[GlennHowerton, SteveLittle, BenSchwartz, Adri...</td>\n",
       "      <td>/3zaABMNlqu8Mibo7W4RYGqKSyoE.jpg</td>\n",
       "      <td>en</td>\n",
       "      <td>/475PTJRhikorye5BnTan5BPm85j.jpg</td>\n",
       "      <td>[Comedy, GlennHowerton, SteveLittle, BenSchwar...</td>\n",
       "    </tr>\n",
       "    <tr>\n",
       "      <th>5576</th>\n",
       "      <td>300687</td>\n",
       "      <td>[International, art, dealer, Ron, Hall, must, ...</td>\n",
       "      <td>6.9</td>\n",
       "      <td>223</td>\n",
       "      <td>2017</td>\n",
       "      <td>tt1230168</td>\n",
       "      <td>Same Kind of Different as Me</td>\n",
       "      <td>[basedonnovelorbook, homelessperson, marriage,...</td>\n",
       "      <td>[Drama]</td>\n",
       "      <td>[MichaelCarney]</td>\n",
       "      <td>[]</td>\n",
       "      <td>[GregKinnear, DjimonHounsou, RenéeZellweger, J...</td>\n",
       "      <td>/nbGrRIF7zpbTP98nrEa7JbThyP.jpg</td>\n",
       "      <td>en</td>\n",
       "      <td>/bHh5W7YuMorc4orn8DQ6c8YEnBm.jpg</td>\n",
       "      <td>[Drama, GregKinnear, DjimonHounsou, RenéeZellw...</td>\n",
       "    </tr>\n",
       "  </tbody>\n",
       "</table>\n",
       "</div>"
      ],
      "text/plain": [
       "           id                                           overview  \\\n",
       "10730  134411  [Construction, company, owner, John, Matthews,...   \n",
       "21519   18220  [A, young, and, naive, college, art, student, ...   \n",
       "27652   66043  [Two, hoodlums, terrorize, the, passengers, of...   \n",
       "6653   391262  [Clinging, to, a, smooth, curved, surface, hig...   \n",
       "10502  198062  [Will, is, a, 30something, website, manager, w...   \n",
       "5576   300687  [International, art, dealer, Ron, Hall, must, ...   \n",
       "\n",
       "       vote_average  vote_count  year    imdb_id  \\\n",
       "10730           6.1        2125  2013  tt0882977   \n",
       "21519           4.8         104  1996  tt0114151   \n",
       "27652           7.4          57  1967  tt0061814   \n",
       "6653            7.4          33  2016  tt4975312   \n",
       "10502           6.6          84  2013  tt2234025   \n",
       "5576            6.9         223  2017  tt1230168   \n",
       "\n",
       "                              title  \\\n",
       "10730                        Snitch   \n",
       "21519            Poison Ivy 2: Lily   \n",
       "27652                  The Incident   \n",
       "6653                          Curve   \n",
       "10502                   Coffee Town   \n",
       "5576   Same Kind of Different as Me   \n",
       "\n",
       "                                                keywords  \\\n",
       "10730  [prison, parentchildrelationship, undercover, ...   \n",
       "21519  [obsession, diary, sequel, murder, lust, art, ...   \n",
       "27652  [gi, prejudice, racism, humiliation, newyorksu...   \n",
       "6653                                         [shortfilm]   \n",
       "10502  [robbery, roommate, plan, coffeeshop, slacker,...   \n",
       "5576   [basedonnovelorbook, homelessperson, marriage,...   \n",
       "\n",
       "                            genre         director          writer  \\\n",
       "10730   [Thriller, Drama, Action]  [RicRomanWaugh]              []   \n",
       "21519  [Drama, Romance, Thriller]   [AnneGoursaud]              []   \n",
       "27652    [Thriller, Drama, Crime]    [LarryPeerce]              []   \n",
       "6653           [Thriller, Horror]        [TimEgan]       [TimEgan]   \n",
       "10502                    [Comedy]   [BradCopeland]  [BradCopeland]   \n",
       "5576                      [Drama]  [MichaelCarney]              []   \n",
       "\n",
       "                                                    cast  \\\n",
       "10730  [DwayneJohnson, BarryPepper, SusanSarandon, Be...   \n",
       "21519  [AlyssaMilano, JohnathonSchaech, XanderBerkele...   \n",
       "27652  [TonyMusante, MartinSheen, BeauBridges, BrockP...   \n",
       "6653                                   [LauraJaneTurner]   \n",
       "10502  [GlennHowerton, SteveLittle, BenSchwartz, Adri...   \n",
       "5576   [GregKinnear, DjimonHounsou, RenéeZellweger, J...   \n",
       "\n",
       "                          backdrop_path original_language  \\\n",
       "10730   /80seex5P196f7pff3R8xqwd2Zo.jpg                en   \n",
       "21519  /4zjQuPXBz7XOl0QXzdmah5Bwj5U.jpg                en   \n",
       "27652  /t78HhX62iZKSOXaTgXrAsiIwQf5.jpg                en   \n",
       "6653   /iqxJsJ3Xb2qWtY9FdwStyZI5epO.jpg                en   \n",
       "10502  /3zaABMNlqu8Mibo7W4RYGqKSyoE.jpg                en   \n",
       "5576    /nbGrRIF7zpbTP98nrEa7JbThyP.jpg                en   \n",
       "\n",
       "                            poster_path  \\\n",
       "10730  /unjVtbWDWIQvVUeiPUTzyykQiVF.jpg   \n",
       "21519  /jXLuQYRwWNuwW8dkx3zo5bWon2r.jpg   \n",
       "27652  /ghXkcvpKPwOaViJ1V9SK8UyZ27g.jpg   \n",
       "6653   /ehQdA0835DFN6Jsv7uUWcDEJZMx.jpg   \n",
       "10502  /475PTJRhikorye5BnTan5BPm85j.jpg   \n",
       "5576   /bHh5W7YuMorc4orn8DQ6c8YEnBm.jpg   \n",
       "\n",
       "                                                    tags  \n",
       "10730  [Thriller, Drama, Action, DwayneJohnson, Barry...  \n",
       "21519  [Drama, Romance, Thriller, AlyssaMilano, Johna...  \n",
       "27652  [Thriller, Drama, Crime, TonyMusante, MartinSh...  \n",
       "6653   [Thriller, Horror, LauraJaneTurner, shortfilm,...  \n",
       "10502  [Comedy, GlennHowerton, SteveLittle, BenSchwar...  \n",
       "5576   [Drama, GregKinnear, DjimonHounsou, RenéeZellw...  "
      ]
     },
     "execution_count": 14,
     "metadata": {},
     "output_type": "execute_result"
    }
   ],
   "source": [
    "data.sample(6)"
   ]
  },
  {
   "cell_type": "code",
   "execution_count": 15,
   "id": "e3216888",
   "metadata": {
    "ExecuteTime": {
     "end_time": "2023-04-07T08:45:36.539874Z",
     "start_time": "2023-04-07T08:45:36.512374Z"
    }
   },
   "outputs": [
    {
     "data": {
      "text/plain": [
       "array([list(['Music', 'Documentary', 'KimNam-joon', 'KimSeok-jin', 'MinYoon-gi', 'JungHo-seok', 'ParkJi-min', 'concert', 'concertfilm', 'k-pop', 'SamWrench', 'ParkJun-soo', 'Purple', 'colors', 'the', 'city', 'of', 'Los', 'Angeles', 'as', 'BTS', 'brings', 'their', 'Permission', 'to', 'Dance', 'concert', 'to', 'SoFi', 'Stadium', 'for', 'the', 'first', 'time', 'in', 'two', 'years', 'In', 'a', 'stadium', 'radiating', 'anticipation', 'and', 'cheer', 'splendid', 'performances', 'from', 'On', 'to', 'Permission', 'to', 'Dance', 'glorify', 'the', 'stage', 'that', 'now', 'comes', 'to', 'life', 'on', 'screen', 'Be', 'united', 'once', 'again', 'by', 'the', 'power', 'of', 'music']),\n",
       "       list(['Romance', 'MelanieZanetti', 'GiulioBerruti', 'JamesAndrewFraser', 'MargauxBrooke', 'ToscaMusk', 'In', 'the', 'fifth', 'installment', 'of', 'the', 'Gabriels', 'Inferno', 'series', 'Gabriel', 'and', 'Julias', 'happiness', 'is', 'threatened', 'by', 'a', 'conspiring', 'student', 'and', 'academic', 'politics', 'When', 'Gabriel', 'is', 'confronted', 'by', 'the', 'university', 'administration', 'will', 'he', 'succumb', 'to', 'Dantes', 'fate', 'Or', 'will', 'he', 'fight', 'to', 'keep', 'Julia', 'his', 'Beatrice', 'forever']),\n",
       "       list(['Comedy', 'FrancoEscamilla', 'stand-upcomedy', 'ClaudeShires', 'Franco', 'Escamilla', 'takes', 'the', 'stage', 'in', 'California', 'for', 'a', 'comedy', 'special', 'filled', 'with', 'humorous', 'observations', 'on', 'gossiping', 'the', 'pandemic', 'and', 'airport', 'experiences']),\n",
       "       ...,\n",
       "       list(['Horror', 'Thriller', 'RichardCarlson', 'SusanGordon', 'LugeneSanders', 'JuliReding', 'JoeTurkel', 'beach', 'blackmail', 'island', 'lighthouse', 'haunting', 'disembodiedhead', 'pianist', 'ghost', 'disembodiedhand', 'BertI.Gordon', 'A', 'jazz', 'pianist', 'is', 'haunted', 'by', 'his', 'dead', 'exlovers', 'crawling', 'hand', 'and', 'floating', 'head']),\n",
       "       list(['ScienceFiction', 'OldřichLukeš', 'IgnacyMachowski', 'JuliusOngewe', 'MichailN.Postnikow', 'KurtRackelmann', 'spacecraft', 'space', 'alien', 'KurtMaetzig', 'WolfgangKohlhaase', 'GüntherRücker', 'KurtMaetzig', 'GünterReisch', 'JanFethke', 'AlexanderStenbock-Fermor', 'A', 'mysterious', 'magnetic', 'spool', 'found', 'during', 'a', 'construction', 'project', 'is', 'discovered', 'to', 'have', 'originated', 'from', 'Venus', 'A', 'rocket', 'expedition', 'to', 'Venus', 'is', 'launched', 'to', 'discover', 'the', 'origin', 'of', 'the', 'spool', 'and', 'the', 'race', 'that', 'created', 'it']),\n",
       "       list(['Mystery', 'Romance', 'ScienceFiction', 'Drama', 'BetsyJones-Moreland', 'AntonyCarbone', 'RobertTowne', 'island', 'disaster', 'marooned', 'RogerCorman', 'Harold', 'Gern', 'a', 'shady', 'businessman', 'from', 'New', 'York', 'is', 'spending', 'a', 'holiday', 'in', 'Puerto', 'Rico', 'with', 'his', 'attractive', 'wife', 'Evelyn', 'They', 'are', 'joined', 'by', 'Martin', 'Joyce', 'Harolds', 'lawyer', 'who', 'has', 'come', 'to', 'discuss', 'the', 'latest', 'indictment', 'Harold', 'invites', 'him', 'along', 'on', 'a', 'boat', 'trip', 'during', 'which', 'all', 'three', 'try', 'out', 'some', 'newly', 'bought', 'scuba', 'diving', 'equipment', 'When', 'they', 'resurface', 'they', 'find', 'out', 'that', 'the', 'world', 'has', 'changed', 'forever'])],\n",
       "      dtype=object)"
      ]
     },
     "execution_count": 15,
     "metadata": {},
     "output_type": "execute_result"
    }
   ],
   "source": [
    "data['tags'].values"
   ]
  },
  {
   "cell_type": "code",
   "execution_count": 16,
   "id": "3dfe8a02",
   "metadata": {
    "ExecuteTime": {
     "end_time": "2023-04-07T08:45:36.726595Z",
     "start_time": "2023-04-07T08:45:36.546432Z"
    }
   },
   "outputs": [],
   "source": [
    "data['tags'] = data['tags'].apply(lambda x : \" \".join(x))"
   ]
  },
  {
   "cell_type": "code",
   "execution_count": 17,
   "id": "fd6259a5",
   "metadata": {
    "ExecuteTime": {
     "end_time": "2023-04-07T08:45:36.850404Z",
     "start_time": "2023-04-07T08:45:36.732249Z"
    }
   },
   "outputs": [
    {
     "data": {
      "text/plain": [
       "id                     0\n",
       "overview               0\n",
       "vote_average           0\n",
       "vote_count             0\n",
       "year                   0\n",
       "imdb_id               25\n",
       "title                  0\n",
       "keywords               0\n",
       "genre                  0\n",
       "director               0\n",
       "writer                 0\n",
       "cast                   0\n",
       "backdrop_path        665\n",
       "original_language      0\n",
       "poster_path            0\n",
       "tags                   0\n",
       "dtype: int64"
      ]
     },
     "execution_count": 17,
     "metadata": {},
     "output_type": "execute_result"
    }
   ],
   "source": [
    "data.isnull().sum()"
   ]
  },
  {
   "cell_type": "code",
   "execution_count": 18,
   "id": "dc603f5c",
   "metadata": {
    "ExecuteTime": {
     "end_time": "2023-04-07T08:45:36.880658Z",
     "start_time": "2023-04-07T08:45:36.856966Z"
    }
   },
   "outputs": [
    {
     "data": {
      "text/plain": [
       "array(['Music Documentary KimNam-joon KimSeok-jin MinYoon-gi JungHo-seok ParkJi-min concert concertfilm k-pop SamWrench ParkJun-soo Purple colors the city of Los Angeles as BTS brings their Permission to Dance concert to SoFi Stadium for the first time in two years In a stadium radiating anticipation and cheer splendid performances from On to Permission to Dance glorify the stage that now comes to life on screen Be united once again by the power of music',\n",
       "       'Romance MelanieZanetti GiulioBerruti JamesAndrewFraser MargauxBrooke ToscaMusk In the fifth installment of the Gabriels Inferno series Gabriel and Julias happiness is threatened by a conspiring student and academic politics When Gabriel is confronted by the university administration will he succumb to Dantes fate Or will he fight to keep Julia his Beatrice forever',\n",
       "       'Comedy FrancoEscamilla stand-upcomedy ClaudeShires Franco Escamilla takes the stage in California for a comedy special filled with humorous observations on gossiping the pandemic and airport experiences',\n",
       "       ...,\n",
       "       'Horror Thriller RichardCarlson SusanGordon LugeneSanders JuliReding JoeTurkel beach blackmail island lighthouse haunting disembodiedhead pianist ghost disembodiedhand BertI.Gordon A jazz pianist is haunted by his dead exlovers crawling hand and floating head',\n",
       "       'ScienceFiction OldřichLukeš IgnacyMachowski JuliusOngewe MichailN.Postnikow KurtRackelmann spacecraft space alien KurtMaetzig WolfgangKohlhaase GüntherRücker KurtMaetzig GünterReisch JanFethke AlexanderStenbock-Fermor A mysterious magnetic spool found during a construction project is discovered to have originated from Venus A rocket expedition to Venus is launched to discover the origin of the spool and the race that created it',\n",
       "       'Mystery Romance ScienceFiction Drama BetsyJones-Moreland AntonyCarbone RobertTowne island disaster marooned RogerCorman Harold Gern a shady businessman from New York is spending a holiday in Puerto Rico with his attractive wife Evelyn They are joined by Martin Joyce Harolds lawyer who has come to discuss the latest indictment Harold invites him along on a boat trip during which all three try out some newly bought scuba diving equipment When they resurface they find out that the world has changed forever'],\n",
       "      dtype=object)"
      ]
     },
     "execution_count": 18,
     "metadata": {},
     "output_type": "execute_result"
    }
   ],
   "source": [
    "data['tags'].values"
   ]
  },
  {
   "cell_type": "markdown",
   "id": "39f6b43f",
   "metadata": {},
   "source": [
    "## Stemming using nltk"
   ]
  },
  {
   "cell_type": "code",
   "execution_count": 19,
   "id": "65abe074",
   "metadata": {
    "ExecuteTime": {
     "end_time": "2023-04-07T08:45:42.061750Z",
     "start_time": "2023-04-07T08:45:36.890234Z"
    }
   },
   "outputs": [],
   "source": [
    "import nltk"
   ]
  },
  {
   "cell_type": "code",
   "execution_count": 20,
   "id": "ef55e60b",
   "metadata": {
    "ExecuteTime": {
     "end_time": "2023-04-07T08:45:42.077797Z",
     "start_time": "2023-04-07T08:45:42.065046Z"
    }
   },
   "outputs": [],
   "source": [
    "from nltk.stem.porter import PorterStemmer\n",
    "ps = PorterStemmer()"
   ]
  },
  {
   "cell_type": "code",
   "execution_count": 21,
   "id": "6bbd7ddd",
   "metadata": {
    "ExecuteTime": {
     "end_time": "2023-04-07T08:45:42.108361Z",
     "start_time": "2023-04-07T08:45:42.084605Z"
    }
   },
   "outputs": [
    {
     "data": {
      "text/plain": [
       "('love', 'love')"
      ]
     },
     "execution_count": 21,
     "metadata": {},
     "output_type": "execute_result"
    }
   ],
   "source": [
    "l = ['loved','loving']\n",
    "ps.stem(l[0]),ps.stem(l[1])"
   ]
  },
  {
   "cell_type": "code",
   "execution_count": 22,
   "id": "f4232f0e",
   "metadata": {
    "ExecuteTime": {
     "end_time": "2023-04-07T08:45:42.140014Z",
     "start_time": "2023-04-07T08:45:42.116998Z"
    }
   },
   "outputs": [
    {
     "data": {
      "text/plain": [
       "('love', 'love')"
      ]
     },
     "execution_count": 22,
     "metadata": {},
     "output_type": "execute_result"
    }
   ],
   "source": [
    "import nltk\n",
    "\n",
    "from nltk.stem.porter import PorterStemmer\n",
    "ps = PorterStemmer()\n",
    "\n",
    "l = ['loved','loving']\n",
    "ps.stem(l[0]),ps.stem(l[1])"
   ]
  },
  {
   "cell_type": "code",
   "execution_count": 23,
   "id": "cbb3cc59",
   "metadata": {
    "ExecuteTime": {
     "end_time": "2023-04-07T08:45:42.156115Z",
     "start_time": "2023-04-07T08:45:42.145569Z"
    }
   },
   "outputs": [],
   "source": [
    "def stem(text):\n",
    "    y = []\n",
    "    \n",
    "    for i in text.split():\n",
    "        y.append(ps.stem(i))\n",
    "        \n",
    "    return \" \".join(y)"
   ]
  },
  {
   "cell_type": "code",
   "execution_count": 24,
   "id": "45fc667a",
   "metadata": {
    "ExecuteTime": {
     "end_time": "2023-04-07T08:46:07.812610Z",
     "start_time": "2023-04-07T08:45:42.160130Z"
    }
   },
   "outputs": [],
   "source": [
    "data['tags_stem'] = data['tags'].apply(stem)"
   ]
  },
  {
   "cell_type": "code",
   "execution_count": 25,
   "id": "7ae9394d",
   "metadata": {
    "ExecuteTime": {
     "end_time": "2023-04-07T08:46:07.860251Z",
     "start_time": "2023-04-07T08:46:07.814622Z"
    }
   },
   "outputs": [
    {
     "data": {
      "text/html": [
       "<div>\n",
       "<style scoped>\n",
       "    .dataframe tbody tr th:only-of-type {\n",
       "        vertical-align: middle;\n",
       "    }\n",
       "\n",
       "    .dataframe tbody tr th {\n",
       "        vertical-align: top;\n",
       "    }\n",
       "\n",
       "    .dataframe thead th {\n",
       "        text-align: right;\n",
       "    }\n",
       "</style>\n",
       "<table border=\"1\" class=\"dataframe\">\n",
       "  <thead>\n",
       "    <tr style=\"text-align: right;\">\n",
       "      <th></th>\n",
       "      <th>id</th>\n",
       "      <th>overview</th>\n",
       "      <th>vote_average</th>\n",
       "      <th>vote_count</th>\n",
       "      <th>year</th>\n",
       "      <th>imdb_id</th>\n",
       "      <th>title</th>\n",
       "      <th>keywords</th>\n",
       "      <th>genre</th>\n",
       "      <th>director</th>\n",
       "      <th>writer</th>\n",
       "      <th>cast</th>\n",
       "      <th>backdrop_path</th>\n",
       "      <th>original_language</th>\n",
       "      <th>poster_path</th>\n",
       "      <th>tags</th>\n",
       "      <th>tags_stem</th>\n",
       "    </tr>\n",
       "  </thead>\n",
       "  <tbody>\n",
       "    <tr>\n",
       "      <th>28396</th>\n",
       "      <td>58399</td>\n",
       "      <td>[Totokamen, is, an, entertainer, and, an, illu...</td>\n",
       "      <td>6.6</td>\n",
       "      <td>54</td>\n",
       "      <td>1962</td>\n",
       "      <td>tt0056602</td>\n",
       "      <td>Totò contro Maciste</td>\n",
       "      <td>[]</td>\n",
       "      <td>[Comedy]</td>\n",
       "      <td>[FernandoCerchio]</td>\n",
       "      <td>[]</td>\n",
       "      <td>[Totò, NinoTaranto, SamsonBurke, NadineSanders...</td>\n",
       "      <td>/13zSIu1pXEkCaDSjEbxFu1L1BHU.jpg</td>\n",
       "      <td>it</td>\n",
       "      <td>/xNCAX8o6H1N5FCZQscJJ4bqNIr2.jpg</td>\n",
       "      <td>Comedy Totò NinoTaranto SamsonBurke NadineSand...</td>\n",
       "      <td>comedi totò ninotaranto samsonburk nadinesand ...</td>\n",
       "    </tr>\n",
       "    <tr>\n",
       "      <th>12132</th>\n",
       "      <td>68200</td>\n",
       "      <td>[Most, people, think, they, know, the, McDonal...</td>\n",
       "      <td>7.3</td>\n",
       "      <td>52</td>\n",
       "      <td>2011</td>\n",
       "      <td>tt1445203</td>\n",
       "      <td>Hot Coffee</td>\n",
       "      <td>[coffee, truth, lawsuit, justice, womandirecto...</td>\n",
       "      <td>[Documentary]</td>\n",
       "      <td>[SusanSaladoff]</td>\n",
       "      <td>[]</td>\n",
       "      <td>[JoanClaybrook, OliverDiaz, JoanneDoroshow, Al...</td>\n",
       "      <td>/gSbViBD4ExIOukjUCBWgtAKm7xW.jpg</td>\n",
       "      <td>en</td>\n",
       "      <td>/o6xUakTHVZgTCc6lBza20r38iMv.jpg</td>\n",
       "      <td>Documentary JoanClaybrook OliverDiaz JoanneDor...</td>\n",
       "      <td>documentari joanclaybrook oliverdiaz joannedor...</td>\n",
       "    </tr>\n",
       "    <tr>\n",
       "      <th>444</th>\n",
       "      <td>766116</td>\n",
       "      <td>[A, flying, prodigy, Captain, Vikrant, Khannas...</td>\n",
       "      <td>6.5</td>\n",
       "      <td>32</td>\n",
       "      <td>2022</td>\n",
       "      <td>tt11460992</td>\n",
       "      <td>Runway 34</td>\n",
       "      <td>[fight, docudrama]</td>\n",
       "      <td>[Thriller, Drama]</td>\n",
       "      <td>[AjayDevgn]</td>\n",
       "      <td>[]</td>\n",
       "      <td>[AmitabhBachchan, AjayDevgn, RakulPreetSingh, ...</td>\n",
       "      <td>/7yoL7Us73bYKprDhZAeyv9lOtp9.jpg</td>\n",
       "      <td>hi</td>\n",
       "      <td>/8RlQEuxeRqHh7sWTRswdUC9kP3H.jpg</td>\n",
       "      <td>Thriller Drama AmitabhBachchan AjayDevgn Rakul...</td>\n",
       "      <td>thriller drama amitabhbachchan ajaydevgn rakul...</td>\n",
       "    </tr>\n",
       "    <tr>\n",
       "      <th>24709</th>\n",
       "      <td>23111</td>\n",
       "      <td>[A, Russian, circus, visits, the, US, A, clown...</td>\n",
       "      <td>6.2</td>\n",
       "      <td>154</td>\n",
       "      <td>1984</td>\n",
       "      <td>tt0087747</td>\n",
       "      <td>Moscow on the Hudson</td>\n",
       "      <td>[americandream, americanwayoflife, moscow,russia]</td>\n",
       "      <td>[Comedy, Drama, Romance]</td>\n",
       "      <td>[PaulMazursky]</td>\n",
       "      <td>[PaulMazursky, LeonCapetanos]</td>\n",
       "      <td>[RobinWilliams, MaríaConchitaAlonso, CleavantD...</td>\n",
       "      <td>/5fCfjRvqss5EKyWi5ObzelYgev8.jpg</td>\n",
       "      <td>en</td>\n",
       "      <td>/wPcKa5M9C0QKZuAfVe5cfv58Njb.jpg</td>\n",
       "      <td>Comedy Drama Romance RobinWilliams MaríaConchi...</td>\n",
       "      <td>comedi drama romanc robinwilliam maríaconchita...</td>\n",
       "    </tr>\n",
       "    <tr>\n",
       "      <th>28331</th>\n",
       "      <td>47796</td>\n",
       "      <td>[After, years, spent, working, as, a, prostitu...</td>\n",
       "      <td>7.9</td>\n",
       "      <td>345</td>\n",
       "      <td>1962</td>\n",
       "      <td>tt0056215</td>\n",
       "      <td>Mamma Roma</td>\n",
       "      <td>[prostitute, rome,italy, parentchildrelationsh...</td>\n",
       "      <td>[Drama]</td>\n",
       "      <td>[PierPaoloPasolini]</td>\n",
       "      <td>[]</td>\n",
       "      <td>[AnnaMagnani, EttoreGarofolo, FrancoCitti, Sil...</td>\n",
       "      <td>/vEtMkoZvDa7tNAQpP78ofxMIxIi.jpg</td>\n",
       "      <td>it</td>\n",
       "      <td>/gA4TiFDgmKMsorIMIaNwi1FRNOA.jpg</td>\n",
       "      <td>Drama AnnaMagnani EttoreGarofolo FrancoCitti S...</td>\n",
       "      <td>drama annamagnani ettoregarofolo francocitti s...</td>\n",
       "    </tr>\n",
       "    <tr>\n",
       "      <th>11498</th>\n",
       "      <td>103640</td>\n",
       "      <td>[While, fighting, for, the, political, suprema...</td>\n",
       "      <td>6.4</td>\n",
       "      <td>59</td>\n",
       "      <td>2012</td>\n",
       "      <td>tt2308773</td>\n",
       "      <td>Ishaqzaade</td>\n",
       "      <td>[]</td>\n",
       "      <td>[Drama, Action, Romance]</td>\n",
       "      <td>[HabibFaisal]</td>\n",
       "      <td>[]</td>\n",
       "      <td>[ArjunKapoor, ParineetiChopra, GauaharKhan, Sh...</td>\n",
       "      <td>/vppG2B9oWF6tUq1l70NnrekFZv1.jpg</td>\n",
       "      <td>hi</td>\n",
       "      <td>/vbjG5AwV0uBFxTNqiJbr2rh4ohV.jpg</td>\n",
       "      <td>Drama Action Romance ArjunKapoor ParineetiChop...</td>\n",
       "      <td>drama action romanc arjunkapoor parineetichopr...</td>\n",
       "    </tr>\n",
       "    <tr>\n",
       "      <th>14467</th>\n",
       "      <td>26864</td>\n",
       "      <td>[A, desperate, love, story, between, two, youn...</td>\n",
       "      <td>5.7</td>\n",
       "      <td>50</td>\n",
       "      <td>2009</td>\n",
       "      <td>tt1235842</td>\n",
       "      <td>The Fish Child</td>\n",
       "      <td>[judge, busride, scandal, legend, puppy, roadm...</td>\n",
       "      <td>[Drama, Thriller, Romance]</td>\n",
       "      <td>[LucíaPuenzo]</td>\n",
       "      <td>[]</td>\n",
       "      <td>[InésEfrón, MarielaVitale, PepMunné, DiegoVelá...</td>\n",
       "      <td>/c55tuVYLWqfERpj1gKl0dZDGCsj.jpg</td>\n",
       "      <td>es</td>\n",
       "      <td>/7BSSYgo7r9FZcKxSlGPSuikCZko.jpg</td>\n",
       "      <td>Drama Thriller Romance InésEfrón MarielaVitale...</td>\n",
       "      <td>drama thriller romanc inésefrón marielavital p...</td>\n",
       "    </tr>\n",
       "  </tbody>\n",
       "</table>\n",
       "</div>"
      ],
      "text/plain": [
       "           id                                           overview  \\\n",
       "28396   58399  [Totokamen, is, an, entertainer, and, an, illu...   \n",
       "12132   68200  [Most, people, think, they, know, the, McDonal...   \n",
       "444    766116  [A, flying, prodigy, Captain, Vikrant, Khannas...   \n",
       "24709   23111  [A, Russian, circus, visits, the, US, A, clown...   \n",
       "28331   47796  [After, years, spent, working, as, a, prostitu...   \n",
       "11498  103640  [While, fighting, for, the, political, suprema...   \n",
       "14467   26864  [A, desperate, love, story, between, two, youn...   \n",
       "\n",
       "       vote_average  vote_count  year     imdb_id                 title  \\\n",
       "28396           6.6          54  1962   tt0056602   Totò contro Maciste   \n",
       "12132           7.3          52  2011   tt1445203            Hot Coffee   \n",
       "444             6.5          32  2022  tt11460992             Runway 34   \n",
       "24709           6.2         154  1984   tt0087747  Moscow on the Hudson   \n",
       "28331           7.9         345  1962   tt0056215            Mamma Roma   \n",
       "11498           6.4          59  2012   tt2308773            Ishaqzaade   \n",
       "14467           5.7          50  2009   tt1235842        The Fish Child   \n",
       "\n",
       "                                                keywords  \\\n",
       "28396                                                 []   \n",
       "12132  [coffee, truth, lawsuit, justice, womandirecto...   \n",
       "444                                   [fight, docudrama]   \n",
       "24709  [americandream, americanwayoflife, moscow,russia]   \n",
       "28331  [prostitute, rome,italy, parentchildrelationsh...   \n",
       "11498                                                 []   \n",
       "14467  [judge, busride, scandal, legend, puppy, roadm...   \n",
       "\n",
       "                            genre             director  \\\n",
       "28396                    [Comedy]    [FernandoCerchio]   \n",
       "12132               [Documentary]      [SusanSaladoff]   \n",
       "444             [Thriller, Drama]          [AjayDevgn]   \n",
       "24709    [Comedy, Drama, Romance]       [PaulMazursky]   \n",
       "28331                     [Drama]  [PierPaoloPasolini]   \n",
       "11498    [Drama, Action, Romance]        [HabibFaisal]   \n",
       "14467  [Drama, Thriller, Romance]        [LucíaPuenzo]   \n",
       "\n",
       "                              writer  \\\n",
       "28396                             []   \n",
       "12132                             []   \n",
       "444                               []   \n",
       "24709  [PaulMazursky, LeonCapetanos]   \n",
       "28331                             []   \n",
       "11498                             []   \n",
       "14467                             []   \n",
       "\n",
       "                                                    cast  \\\n",
       "28396  [Totò, NinoTaranto, SamsonBurke, NadineSanders...   \n",
       "12132  [JoanClaybrook, OliverDiaz, JoanneDoroshow, Al...   \n",
       "444    [AmitabhBachchan, AjayDevgn, RakulPreetSingh, ...   \n",
       "24709  [RobinWilliams, MaríaConchitaAlonso, CleavantD...   \n",
       "28331  [AnnaMagnani, EttoreGarofolo, FrancoCitti, Sil...   \n",
       "11498  [ArjunKapoor, ParineetiChopra, GauaharKhan, Sh...   \n",
       "14467  [InésEfrón, MarielaVitale, PepMunné, DiegoVelá...   \n",
       "\n",
       "                          backdrop_path original_language  \\\n",
       "28396  /13zSIu1pXEkCaDSjEbxFu1L1BHU.jpg                it   \n",
       "12132  /gSbViBD4ExIOukjUCBWgtAKm7xW.jpg                en   \n",
       "444    /7yoL7Us73bYKprDhZAeyv9lOtp9.jpg                hi   \n",
       "24709  /5fCfjRvqss5EKyWi5ObzelYgev8.jpg                en   \n",
       "28331  /vEtMkoZvDa7tNAQpP78ofxMIxIi.jpg                it   \n",
       "11498  /vppG2B9oWF6tUq1l70NnrekFZv1.jpg                hi   \n",
       "14467  /c55tuVYLWqfERpj1gKl0dZDGCsj.jpg                es   \n",
       "\n",
       "                            poster_path  \\\n",
       "28396  /xNCAX8o6H1N5FCZQscJJ4bqNIr2.jpg   \n",
       "12132  /o6xUakTHVZgTCc6lBza20r38iMv.jpg   \n",
       "444    /8RlQEuxeRqHh7sWTRswdUC9kP3H.jpg   \n",
       "24709  /wPcKa5M9C0QKZuAfVe5cfv58Njb.jpg   \n",
       "28331  /gA4TiFDgmKMsorIMIaNwi1FRNOA.jpg   \n",
       "11498  /vbjG5AwV0uBFxTNqiJbr2rh4ohV.jpg   \n",
       "14467  /7BSSYgo7r9FZcKxSlGPSuikCZko.jpg   \n",
       "\n",
       "                                                    tags  \\\n",
       "28396  Comedy Totò NinoTaranto SamsonBurke NadineSand...   \n",
       "12132  Documentary JoanClaybrook OliverDiaz JoanneDor...   \n",
       "444    Thriller Drama AmitabhBachchan AjayDevgn Rakul...   \n",
       "24709  Comedy Drama Romance RobinWilliams MaríaConchi...   \n",
       "28331  Drama AnnaMagnani EttoreGarofolo FrancoCitti S...   \n",
       "11498  Drama Action Romance ArjunKapoor ParineetiChop...   \n",
       "14467  Drama Thriller Romance InésEfrón MarielaVitale...   \n",
       "\n",
       "                                               tags_stem  \n",
       "28396  comedi totò ninotaranto samsonburk nadinesand ...  \n",
       "12132  documentari joanclaybrook oliverdiaz joannedor...  \n",
       "444    thriller drama amitabhbachchan ajaydevgn rakul...  \n",
       "24709  comedi drama romanc robinwilliam maríaconchita...  \n",
       "28331  drama annamagnani ettoregarofolo francocitti s...  \n",
       "11498  drama action romanc arjunkapoor parineetichopr...  \n",
       "14467  drama thriller romanc inésefrón marielavital p...  "
      ]
     },
     "execution_count": 25,
     "metadata": {},
     "output_type": "execute_result"
    }
   ],
   "source": [
    "data.sample(7)"
   ]
  },
  {
   "cell_type": "code",
   "execution_count": 26,
   "id": "56140257",
   "metadata": {
    "ExecuteTime": {
     "end_time": "2023-04-07T08:46:07.875596Z",
     "start_time": "2023-04-07T08:46:07.862766Z"
    }
   },
   "outputs": [
    {
     "data": {
      "text/plain": [
       "(28636, 17)"
      ]
     },
     "execution_count": 26,
     "metadata": {},
     "output_type": "execute_result"
    }
   ],
   "source": [
    "data.shape\n"
   ]
  },
  {
   "cell_type": "markdown",
   "id": "a026d29d",
   "metadata": {},
   "source": [
    "## Vectorisation"
   ]
  },
  {
   "cell_type": "raw",
   "id": "054bd557",
   "metadata": {
    "ExecuteTime": {
     "end_time": "2023-04-06T16:41:01.155630Z",
     "start_time": "2023-04-06T16:41:01.131427Z"
    }
   },
   "source": [
    "from sklearn.feature_extraction.text import CountVectorizer"
   ]
  },
  {
   "cell_type": "raw",
   "id": "cc6c2145",
   "metadata": {
    "ExecuteTime": {
     "end_time": "2023-04-06T16:41:01.510258Z",
     "start_time": "2023-04-06T16:41:01.499510Z"
    }
   },
   "source": [
    "cv = CountVectorizer(max_features=10000,stop_words='english')"
   ]
  },
  {
   "cell_type": "raw",
   "id": "50620d39",
   "metadata": {
    "ExecuteTime": {
     "start_time": "2023-04-06T13:17:24.428Z"
    }
   },
   "source": [
    "vectors = cv.fit_transform(data['tags_stem']).toarray()"
   ]
  },
  {
   "cell_type": "raw",
   "id": "e771668a",
   "metadata": {
    "ExecuteTime": {
     "end_time": "2023-04-06T16:41:21.779527Z",
     "start_time": "2023-04-06T16:41:21.748261Z"
    }
   },
   "source": [
    "vectors.shape"
   ]
  },
  {
   "cell_type": "raw",
   "id": "4a75865d",
   "metadata": {
    "ExecuteTime": {
     "end_time": "2023-04-06T16:41:23.073600Z",
     "start_time": "2023-04-06T16:41:23.034608Z"
    }
   },
   "source": [
    "cv.get_feature_names_out()"
   ]
  },
  {
   "cell_type": "raw",
   "id": "92e823ac",
   "metadata": {
    "ExecuteTime": {
     "end_time": "2023-04-06T16:41:23.696890Z",
     "start_time": "2023-04-06T16:41:23.640164Z"
    }
   },
   "source": [
    "cv.get_feature_names()"
   ]
  },
  {
   "cell_type": "raw",
   "id": "bf4d6500",
   "metadata": {
    "ExecuteTime": {
     "end_time": "2023-04-06T16:41:24.356020Z",
     "start_time": "2023-04-06T16:41:24.323081Z"
    }
   },
   "source": [
    "len(cv.get_feature_names_out())"
   ]
  },
  {
   "cell_type": "markdown",
   "id": "1b99ff8f",
   "metadata": {},
   "source": [
    "## calculating distance using cosine distance"
   ]
  },
  {
   "cell_type": "raw",
   "id": "7d5250c7",
   "metadata": {
    "ExecuteTime": {
     "end_time": "2023-04-06T16:41:26.124069Z",
     "start_time": "2023-04-06T16:41:26.116047Z"
    }
   },
   "source": [
    "from sklearn.metrics.pairwise import cosine_similarity"
   ]
  },
  {
   "cell_type": "raw",
   "id": "8ac14b35",
   "metadata": {
    "ExecuteTime": {
     "end_time": "2023-04-06T16:42:19.138113Z",
     "start_time": "2023-04-06T16:41:26.531691Z"
    }
   },
   "source": [
    "similarity_cosine = cosine_similarity(vectors)"
   ]
  },
  {
   "cell_type": "raw",
   "id": "6bbe87d8",
   "metadata": {
    "ExecuteTime": {
     "end_time": "2023-04-06T16:42:19.311095Z",
     "start_time": "2023-04-06T16:42:19.173954Z"
    }
   },
   "source": [
    "similarity_cosine"
   ]
  },
  {
   "cell_type": "raw",
   "id": "8afb53e0",
   "metadata": {
    "ExecuteTime": {
     "end_time": "2023-04-06T16:42:19.336034Z",
     "start_time": "2023-04-06T16:42:19.319429Z"
    }
   },
   "source": [
    "similarity_cosine.shape"
   ]
  },
  {
   "cell_type": "raw",
   "id": "5c5338a5",
   "metadata": {
    "ExecuteTime": {
     "end_time": "2023-04-06T16:42:19.368262Z",
     "start_time": "2023-04-06T16:42:19.344063Z"
    }
   },
   "source": [
    "similarity_cosine[0]"
   ]
  },
  {
   "cell_type": "raw",
   "id": "c4f6aab9",
   "metadata": {
    "ExecuteTime": {
     "end_time": "2023-04-06T12:55:20.818194Z",
     "start_time": "2023-04-06T12:55:20.777505Z"
    }
   },
   "source": [
    "data.shape"
   ]
  },
  {
   "cell_type": "raw",
   "id": "fc0b077f",
   "metadata": {
    "ExecuteTime": {
     "end_time": "2023-04-06T12:55:21.096598Z",
     "start_time": "2023-04-06T12:55:20.823194Z"
    }
   },
   "source": [
    "data.tail()"
   ]
  },
  {
   "cell_type": "raw",
   "id": "df93bfd9",
   "metadata": {
    "ExecuteTime": {
     "end_time": "2023-04-07T07:57:10.378234Z",
     "start_time": "2023-04-07T07:57:10.378234Z"
    }
   },
   "source": [
    "data[data['title']=='RRR']"
   ]
  },
  {
   "cell_type": "raw",
   "id": "c6615cf1",
   "metadata": {
    "ExecuteTime": {
     "end_time": "2023-04-07T07:57:10.380237Z",
     "start_time": "2023-04-07T07:57:10.380237Z"
    }
   },
   "source": [
    "data[data['title']=='The Chaperone']"
   ]
  },
  {
   "cell_type": "raw",
   "id": "be44b0df",
   "metadata": {
    "ExecuteTime": {
     "end_time": "2023-04-07T07:57:10.381241Z",
     "start_time": "2023-04-07T07:57:10.381241Z"
    }
   },
   "source": [
    "def recommend(movie):\n",
    "    movie_index = data[data['title']== movie].index[0]\n",
    "    distances = similarity_cosine[movie_index]\n",
    "    movies_list = sorted(list(enumerate(distances)),reverse=True,key = lambda x:x[1])[1:6]\n",
    "    \n",
    "    for i in movies_list:\n",
    "        print(data.iloc[i[0]].title)"
   ]
  },
  {
   "cell_type": "raw",
   "id": "55cd0bc1",
   "metadata": {
    "ExecuteTime": {
     "end_time": "2023-04-06T16:42:25.050290Z",
     "start_time": "2023-04-06T16:42:25.029829Z"
    }
   },
   "source": [
    "def recommend(movie):\n",
    "    movie_index = df[df['title']== movie].index[0]\n",
    "    distances = similarity_cosine[movie_index]\n",
    "    movies_list = sorted(list(enumerate(distances)),reverse=True,key = lambda x:x[1])[1:6]\n",
    "    \n",
    "    for i in movies_list:\n",
    "        print(df.iloc[i[0]].title,df.iloc[i[0]].vote_average)"
   ]
  },
  {
   "cell_type": "raw",
   "id": "9d21ca13",
   "metadata": {
    "ExecuteTime": {
     "end_time": "2023-04-07T07:57:10.383233Z",
     "start_time": "2023-04-07T07:57:10.383233Z"
    }
   },
   "source": [
    "recommend('Beyond the Time Barrier')"
   ]
  },
  {
   "cell_type": "raw",
   "id": "be999807",
   "metadata": {
    "ExecuteTime": {
     "end_time": "2023-04-07T07:57:10.384775Z",
     "start_time": "2023-04-07T07:57:10.384775Z"
    }
   },
   "source": [
    "recommend('Interstellar')"
   ]
  },
  {
   "cell_type": "raw",
   "id": "c60cb401",
   "metadata": {
    "ExecuteTime": {
     "end_time": "2023-04-07T07:57:10.386793Z",
     "start_time": "2023-04-07T07:57:10.386793Z"
    }
   },
   "source": [
    "recommend('Harry Potter and the Half-Blood Prince')"
   ]
  },
  {
   "cell_type": "raw",
   "id": "c25f345f",
   "metadata": {
    "ExecuteTime": {
     "end_time": "2023-04-07T07:57:10.389791Z",
     "start_time": "2023-04-07T07:57:10.389791Z"
    }
   },
   "source": [
    "recommend('Harry Potter and the Half-Blood Prince')"
   ]
  },
  {
   "cell_type": "raw",
   "id": "c6e1323d",
   "metadata": {
    "ExecuteTime": {
     "end_time": "2023-04-07T07:57:10.390791Z",
     "start_time": "2023-04-07T07:57:10.390791Z"
    },
    "scrolled": true
   },
   "source": [
    "recommend('Chandni Chowk to China')"
   ]
  },
  {
   "cell_type": "raw",
   "id": "d4351a6b",
   "metadata": {
    "ExecuteTime": {
     "end_time": "2023-04-07T07:57:10.391794Z",
     "start_time": "2023-04-07T07:57:10.391794Z"
    }
   },
   "source": [
    "recommend('Chandni Chowk to China')"
   ]
  },
  {
   "cell_type": "raw",
   "id": "a8c35eb5",
   "metadata": {
    "ExecuteTime": {
     "end_time": "2023-04-07T07:57:10.394341Z",
     "start_time": "2023-04-07T07:57:10.394341Z"
    }
   },
   "source": [
    "recommend('RRR')"
   ]
  },
  {
   "cell_type": "raw",
   "id": "b186ac6e",
   "metadata": {
    "ExecuteTime": {
     "end_time": "2023-04-07T07:57:10.396333Z",
     "start_time": "2023-04-07T07:57:10.396333Z"
    }
   },
   "source": [
    "recommend('RRR')"
   ]
  },
  {
   "cell_type": "raw",
   "id": "bb91dcee",
   "metadata": {
    "ExecuteTime": {
     "end_time": "2023-04-07T07:57:10.397333Z",
     "start_time": "2023-04-07T07:57:10.397333Z"
    }
   },
   "source": [
    "data[data['title']=='I-4: Loufa kai apallagi']"
   ]
  },
  {
   "cell_type": "code",
   "execution_count": null,
   "id": "e7bd215d",
   "metadata": {},
   "outputs": [],
   "source": []
  },
  {
   "cell_type": "markdown",
   "id": "fe527a32",
   "metadata": {},
   "source": [
    "## using TfidVectorizer"
   ]
  },
  {
   "cell_type": "code",
   "execution_count": 64,
   "id": "27f4205a",
   "metadata": {
    "ExecuteTime": {
     "end_time": "2023-04-07T08:59:13.629900Z",
     "start_time": "2023-04-07T08:59:13.568432Z"
    }
   },
   "outputs": [
    {
     "name": "stderr",
     "output_type": "stream",
     "text": [
      "C:\\Users\\Asus\\AppData\\Local\\Temp\\ipykernel_13072\\1935927671.py:2: SettingWithCopyWarning: \n",
      "A value is trying to be set on a copy of a slice from a DataFrame\n",
      "\n",
      "See the caveats in the documentation: https://pandas.pydata.org/pandas-docs/stable/user_guide/indexing.html#returning-a-view-versus-a-copy\n",
      "  df.sort_values('vote_count',ascending=False,inplace=True)\n"
     ]
    },
    {
     "data": {
      "text/html": [
       "<div>\n",
       "<style scoped>\n",
       "    .dataframe tbody tr th:only-of-type {\n",
       "        vertical-align: middle;\n",
       "    }\n",
       "\n",
       "    .dataframe tbody tr th {\n",
       "        vertical-align: top;\n",
       "    }\n",
       "\n",
       "    .dataframe thead th {\n",
       "        text-align: right;\n",
       "    }\n",
       "</style>\n",
       "<table border=\"1\" class=\"dataframe\">\n",
       "  <thead>\n",
       "    <tr style=\"text-align: right;\">\n",
       "      <th></th>\n",
       "      <th>id</th>\n",
       "      <th>overview</th>\n",
       "      <th>vote_average</th>\n",
       "      <th>vote_count</th>\n",
       "      <th>year</th>\n",
       "      <th>imdb_id</th>\n",
       "      <th>title</th>\n",
       "      <th>keywords</th>\n",
       "      <th>genre</th>\n",
       "      <th>director</th>\n",
       "      <th>writer</th>\n",
       "      <th>cast</th>\n",
       "      <th>backdrop_path</th>\n",
       "      <th>original_language</th>\n",
       "      <th>poster_path</th>\n",
       "      <th>tags</th>\n",
       "      <th>tags_stem</th>\n",
       "    </tr>\n",
       "  </thead>\n",
       "  <tbody>\n",
       "    <tr>\n",
       "      <th>0</th>\n",
       "      <td>27205</td>\n",
       "      <td>[Cobb, a, skilled, thief, who, commits, corpor...</td>\n",
       "      <td>8.4</td>\n",
       "      <td>33406</td>\n",
       "      <td>2010</td>\n",
       "      <td>tt1375666</td>\n",
       "      <td>Inception</td>\n",
       "      <td>[paris,france, spy, philosophy, allegory, drea...</td>\n",
       "      <td>[Action, ScienceFiction, Adventure]</td>\n",
       "      <td>[ChristopherNolan]</td>\n",
       "      <td>[ChristopherNolan]</td>\n",
       "      <td>[LeonardoDiCaprio, JosephGordon-Levitt, KenWat...</td>\n",
       "      <td>/8ZTVqvKDQ8emSGUEMjsS4yHAwrp.jpg</td>\n",
       "      <td>en</td>\n",
       "      <td>/edv5CZvWj09upOsy2Y6IwDhK8bt.jpg</td>\n",
       "      <td>Action ScienceFiction Adventure LeonardoDiCapr...</td>\n",
       "      <td>action sciencefict adventur leonardodicaprio j...</td>\n",
       "    </tr>\n",
       "    <tr>\n",
       "      <th>1</th>\n",
       "      <td>157336</td>\n",
       "      <td>[The, adventures, of, a, group, of, explorers,...</td>\n",
       "      <td>8.4</td>\n",
       "      <td>30901</td>\n",
       "      <td>2014</td>\n",
       "      <td>tt0816692</td>\n",
       "      <td>Interstellar</td>\n",
       "      <td>[artificialintelligence, nasa, timewarp, space...</td>\n",
       "      <td>[Adventure, Drama, ScienceFiction]</td>\n",
       "      <td>[ChristopherNolan]</td>\n",
       "      <td>[ChristopherNolan, JonathanNolan]</td>\n",
       "      <td>[MatthewMcConaughey, AnneHathaway, JessicaChas...</td>\n",
       "      <td>/rAiYTfKGqDCRIIqo664sY9XZIvQ.jpg</td>\n",
       "      <td>en</td>\n",
       "      <td>/gEU2QniE6E77NI6lCU6MxlNBvIx.jpg</td>\n",
       "      <td>Adventure Drama ScienceFiction MatthewMcConaug...</td>\n",
       "      <td>adventur drama sciencefict matthewmcconaughey ...</td>\n",
       "    </tr>\n",
       "    <tr>\n",
       "      <th>2</th>\n",
       "      <td>155</td>\n",
       "      <td>[Batman, raises, the, stakes, in, his, war, on...</td>\n",
       "      <td>8.5</td>\n",
       "      <td>29407</td>\n",
       "      <td>2008</td>\n",
       "      <td>tt0468569</td>\n",
       "      <td>The Dark Knight</td>\n",
       "      <td>[crimefighter, secretidentity, antihero, scare...</td>\n",
       "      <td>[Drama, Action, Crime, Thriller]</td>\n",
       "      <td>[ChristopherNolan]</td>\n",
       "      <td>[]</td>\n",
       "      <td>[ChristianBale, HeathLedger, MichaelCaine, Gar...</td>\n",
       "      <td>/pbEkjhdfP7yuDcMB78YEZwgD4IN.jpg</td>\n",
       "      <td>en</td>\n",
       "      <td>/qJ2tW6WMUDux911r6m7haRef0WH.jpg</td>\n",
       "      <td>Drama Action Crime Thriller ChristianBale Heat...</td>\n",
       "      <td>drama action crime thriller christianbal heath...</td>\n",
       "    </tr>\n",
       "    <tr>\n",
       "      <th>3</th>\n",
       "      <td>19995</td>\n",
       "      <td>[In, the, 22nd, century, a, paraplegic, Marine...</td>\n",
       "      <td>7.6</td>\n",
       "      <td>28717</td>\n",
       "      <td>2009</td>\n",
       "      <td>tt0499549</td>\n",
       "      <td>Avatar</td>\n",
       "      <td>[cultureclash, future, spacewar, spacecolony, ...</td>\n",
       "      <td>[Action, Adventure, Fantasy, ScienceFiction]</td>\n",
       "      <td>[JamesCameron]</td>\n",
       "      <td>[JamesCameron]</td>\n",
       "      <td>[SamWorthington, ZoeSaldaña, SigourneyWeaver, ...</td>\n",
       "      <td>/vL5LR6WdxWPjLPFRLe133jXWsh5.jpg</td>\n",
       "      <td>en</td>\n",
       "      <td>/jRXYjXNq0Cs2TcJjLkki24MLp7u.jpg</td>\n",
       "      <td>Action Adventure Fantasy ScienceFiction SamWor...</td>\n",
       "      <td>action adventur fantasi sciencefict samworthin...</td>\n",
       "    </tr>\n",
       "    <tr>\n",
       "      <th>4</th>\n",
       "      <td>24428</td>\n",
       "      <td>[When, an, unexpected, enemy, emerges, and, th...</td>\n",
       "      <td>7.7</td>\n",
       "      <td>28364</td>\n",
       "      <td>2012</td>\n",
       "      <td>tt0848228</td>\n",
       "      <td>The Avengers</td>\n",
       "      <td>[newyorkcity, shield, superhero, basedoncomic,...</td>\n",
       "      <td>[ScienceFiction, Action, Adventure]</td>\n",
       "      <td>[JossWhedon]</td>\n",
       "      <td>[]</td>\n",
       "      <td>[RobertDowneyJr., ChrisEvans, MarkRuffalo, Chr...</td>\n",
       "      <td>/9BBTo63ANSmhC4e6r62OJFuK2GL.jpg</td>\n",
       "      <td>en</td>\n",
       "      <td>/RYMX2wcKCBAr24UyPD7xwmjaTn.jpg</td>\n",
       "      <td>ScienceFiction Action Adventure RobertDowneyJr...</td>\n",
       "      <td>sciencefict action adventur robertdowneyjr. ch...</td>\n",
       "    </tr>\n",
       "  </tbody>\n",
       "</table>\n",
       "</div>"
      ],
      "text/plain": [
       "       id                                           overview  vote_average  \\\n",
       "0   27205  [Cobb, a, skilled, thief, who, commits, corpor...           8.4   \n",
       "1  157336  [The, adventures, of, a, group, of, explorers,...           8.4   \n",
       "2     155  [Batman, raises, the, stakes, in, his, war, on...           8.5   \n",
       "3   19995  [In, the, 22nd, century, a, paraplegic, Marine...           7.6   \n",
       "4   24428  [When, an, unexpected, enemy, emerges, and, th...           7.7   \n",
       "\n",
       "   vote_count  year    imdb_id            title  \\\n",
       "0       33406  2010  tt1375666        Inception   \n",
       "1       30901  2014  tt0816692     Interstellar   \n",
       "2       29407  2008  tt0468569  The Dark Knight   \n",
       "3       28717  2009  tt0499549           Avatar   \n",
       "4       28364  2012  tt0848228     The Avengers   \n",
       "\n",
       "                                            keywords  \\\n",
       "0  [paris,france, spy, philosophy, allegory, drea...   \n",
       "1  [artificialintelligence, nasa, timewarp, space...   \n",
       "2  [crimefighter, secretidentity, antihero, scare...   \n",
       "3  [cultureclash, future, spacewar, spacecolony, ...   \n",
       "4  [newyorkcity, shield, superhero, basedoncomic,...   \n",
       "\n",
       "                                          genre            director  \\\n",
       "0           [Action, ScienceFiction, Adventure]  [ChristopherNolan]   \n",
       "1            [Adventure, Drama, ScienceFiction]  [ChristopherNolan]   \n",
       "2              [Drama, Action, Crime, Thriller]  [ChristopherNolan]   \n",
       "3  [Action, Adventure, Fantasy, ScienceFiction]      [JamesCameron]   \n",
       "4           [ScienceFiction, Action, Adventure]        [JossWhedon]   \n",
       "\n",
       "                              writer  \\\n",
       "0                 [ChristopherNolan]   \n",
       "1  [ChristopherNolan, JonathanNolan]   \n",
       "2                                 []   \n",
       "3                     [JamesCameron]   \n",
       "4                                 []   \n",
       "\n",
       "                                                cast  \\\n",
       "0  [LeonardoDiCaprio, JosephGordon-Levitt, KenWat...   \n",
       "1  [MatthewMcConaughey, AnneHathaway, JessicaChas...   \n",
       "2  [ChristianBale, HeathLedger, MichaelCaine, Gar...   \n",
       "3  [SamWorthington, ZoeSaldaña, SigourneyWeaver, ...   \n",
       "4  [RobertDowneyJr., ChrisEvans, MarkRuffalo, Chr...   \n",
       "\n",
       "                      backdrop_path original_language  \\\n",
       "0  /8ZTVqvKDQ8emSGUEMjsS4yHAwrp.jpg                en   \n",
       "1  /rAiYTfKGqDCRIIqo664sY9XZIvQ.jpg                en   \n",
       "2  /pbEkjhdfP7yuDcMB78YEZwgD4IN.jpg                en   \n",
       "3  /vL5LR6WdxWPjLPFRLe133jXWsh5.jpg                en   \n",
       "4  /9BBTo63ANSmhC4e6r62OJFuK2GL.jpg                en   \n",
       "\n",
       "                        poster_path  \\\n",
       "0  /edv5CZvWj09upOsy2Y6IwDhK8bt.jpg   \n",
       "1  /gEU2QniE6E77NI6lCU6MxlNBvIx.jpg   \n",
       "2  /qJ2tW6WMUDux911r6m7haRef0WH.jpg   \n",
       "3  /jRXYjXNq0Cs2TcJjLkki24MLp7u.jpg   \n",
       "4   /RYMX2wcKCBAr24UyPD7xwmjaTn.jpg   \n",
       "\n",
       "                                                tags  \\\n",
       "0  Action ScienceFiction Adventure LeonardoDiCapr...   \n",
       "1  Adventure Drama ScienceFiction MatthewMcConaug...   \n",
       "2  Drama Action Crime Thriller ChristianBale Heat...   \n",
       "3  Action Adventure Fantasy ScienceFiction SamWor...   \n",
       "4  ScienceFiction Action Adventure RobertDowneyJr...   \n",
       "\n",
       "                                           tags_stem  \n",
       "0  action sciencefict adventur leonardodicaprio j...  \n",
       "1  adventur drama sciencefict matthewmcconaughey ...  \n",
       "2  drama action crime thriller christianbal heath...  \n",
       "3  action adventur fantasi sciencefict samworthin...  \n",
       "4  sciencefict action adventur robertdowneyjr. ch...  "
      ]
     },
     "execution_count": 64,
     "metadata": {},
     "output_type": "execute_result"
    }
   ],
   "source": [
    "df = data[data['vote_count']>50]\n",
    "df.sort_values('vote_count',ascending=False,inplace=True)\n",
    "df.reset_index(drop=True,inplace=True)\n",
    "df.head()"
   ]
  },
  {
   "cell_type": "code",
   "execution_count": 65,
   "id": "7336058b",
   "metadata": {
    "ExecuteTime": {
     "end_time": "2023-04-07T08:59:15.653864Z",
     "start_time": "2023-04-07T08:59:15.639931Z"
    }
   },
   "outputs": [
    {
     "data": {
      "text/plain": [
       "(21662, 17)"
      ]
     },
     "execution_count": 65,
     "metadata": {},
     "output_type": "execute_result"
    }
   ],
   "source": [
    "df.shape"
   ]
  },
  {
   "cell_type": "code",
   "execution_count": 66,
   "id": "874e8c31",
   "metadata": {
    "ExecuteTime": {
     "end_time": "2023-04-07T08:59:18.821592Z",
     "start_time": "2023-04-07T08:59:18.790749Z"
    }
   },
   "outputs": [
    {
     "data": {
      "text/html": [
       "<div>\n",
       "<style scoped>\n",
       "    .dataframe tbody tr th:only-of-type {\n",
       "        vertical-align: middle;\n",
       "    }\n",
       "\n",
       "    .dataframe tbody tr th {\n",
       "        vertical-align: top;\n",
       "    }\n",
       "\n",
       "    .dataframe thead th {\n",
       "        text-align: right;\n",
       "    }\n",
       "</style>\n",
       "<table border=\"1\" class=\"dataframe\">\n",
       "  <thead>\n",
       "    <tr style=\"text-align: right;\">\n",
       "      <th></th>\n",
       "      <th>id</th>\n",
       "      <th>overview</th>\n",
       "      <th>vote_average</th>\n",
       "      <th>vote_count</th>\n",
       "      <th>year</th>\n",
       "      <th>imdb_id</th>\n",
       "      <th>title</th>\n",
       "      <th>keywords</th>\n",
       "      <th>genre</th>\n",
       "      <th>director</th>\n",
       "      <th>writer</th>\n",
       "      <th>cast</th>\n",
       "      <th>backdrop_path</th>\n",
       "      <th>original_language</th>\n",
       "      <th>poster_path</th>\n",
       "      <th>tags</th>\n",
       "      <th>tags_stem</th>\n",
       "    </tr>\n",
       "  </thead>\n",
       "  <tbody>\n",
       "    <tr>\n",
       "      <th>0</th>\n",
       "      <td>27205</td>\n",
       "      <td>[Cobb, a, skilled, thief, who, commits, corpor...</td>\n",
       "      <td>8.4</td>\n",
       "      <td>33406</td>\n",
       "      <td>2010</td>\n",
       "      <td>tt1375666</td>\n",
       "      <td>Inception</td>\n",
       "      <td>[paris,france, spy, philosophy, allegory, drea...</td>\n",
       "      <td>[Action, ScienceFiction, Adventure]</td>\n",
       "      <td>[ChristopherNolan]</td>\n",
       "      <td>[ChristopherNolan]</td>\n",
       "      <td>[LeonardoDiCaprio, JosephGordon-Levitt, KenWat...</td>\n",
       "      <td>/8ZTVqvKDQ8emSGUEMjsS4yHAwrp.jpg</td>\n",
       "      <td>en</td>\n",
       "      <td>/edv5CZvWj09upOsy2Y6IwDhK8bt.jpg</td>\n",
       "      <td>Action ScienceFiction Adventure LeonardoDiCapr...</td>\n",
       "      <td>action sciencefict adventur leonardodicaprio j...</td>\n",
       "    </tr>\n",
       "    <tr>\n",
       "      <th>1</th>\n",
       "      <td>157336</td>\n",
       "      <td>[The, adventures, of, a, group, of, explorers,...</td>\n",
       "      <td>8.4</td>\n",
       "      <td>30901</td>\n",
       "      <td>2014</td>\n",
       "      <td>tt0816692</td>\n",
       "      <td>Interstellar</td>\n",
       "      <td>[artificialintelligence, nasa, timewarp, space...</td>\n",
       "      <td>[Adventure, Drama, ScienceFiction]</td>\n",
       "      <td>[ChristopherNolan]</td>\n",
       "      <td>[ChristopherNolan, JonathanNolan]</td>\n",
       "      <td>[MatthewMcConaughey, AnneHathaway, JessicaChas...</td>\n",
       "      <td>/rAiYTfKGqDCRIIqo664sY9XZIvQ.jpg</td>\n",
       "      <td>en</td>\n",
       "      <td>/gEU2QniE6E77NI6lCU6MxlNBvIx.jpg</td>\n",
       "      <td>Adventure Drama ScienceFiction MatthewMcConaug...</td>\n",
       "      <td>adventur drama sciencefict matthewmcconaughey ...</td>\n",
       "    </tr>\n",
       "    <tr>\n",
       "      <th>2</th>\n",
       "      <td>155</td>\n",
       "      <td>[Batman, raises, the, stakes, in, his, war, on...</td>\n",
       "      <td>8.5</td>\n",
       "      <td>29407</td>\n",
       "      <td>2008</td>\n",
       "      <td>tt0468569</td>\n",
       "      <td>The Dark Knight</td>\n",
       "      <td>[crimefighter, secretidentity, antihero, scare...</td>\n",
       "      <td>[Drama, Action, Crime, Thriller]</td>\n",
       "      <td>[ChristopherNolan]</td>\n",
       "      <td>[]</td>\n",
       "      <td>[ChristianBale, HeathLedger, MichaelCaine, Gar...</td>\n",
       "      <td>/pbEkjhdfP7yuDcMB78YEZwgD4IN.jpg</td>\n",
       "      <td>en</td>\n",
       "      <td>/qJ2tW6WMUDux911r6m7haRef0WH.jpg</td>\n",
       "      <td>Drama Action Crime Thriller ChristianBale Heat...</td>\n",
       "      <td>drama action crime thriller christianbal heath...</td>\n",
       "    </tr>\n",
       "    <tr>\n",
       "      <th>3</th>\n",
       "      <td>19995</td>\n",
       "      <td>[In, the, 22nd, century, a, paraplegic, Marine...</td>\n",
       "      <td>7.6</td>\n",
       "      <td>28717</td>\n",
       "      <td>2009</td>\n",
       "      <td>tt0499549</td>\n",
       "      <td>Avatar</td>\n",
       "      <td>[cultureclash, future, spacewar, spacecolony, ...</td>\n",
       "      <td>[Action, Adventure, Fantasy, ScienceFiction]</td>\n",
       "      <td>[JamesCameron]</td>\n",
       "      <td>[JamesCameron]</td>\n",
       "      <td>[SamWorthington, ZoeSaldaña, SigourneyWeaver, ...</td>\n",
       "      <td>/vL5LR6WdxWPjLPFRLe133jXWsh5.jpg</td>\n",
       "      <td>en</td>\n",
       "      <td>/jRXYjXNq0Cs2TcJjLkki24MLp7u.jpg</td>\n",
       "      <td>Action Adventure Fantasy ScienceFiction SamWor...</td>\n",
       "      <td>action adventur fantasi sciencefict samworthin...</td>\n",
       "    </tr>\n",
       "    <tr>\n",
       "      <th>4</th>\n",
       "      <td>24428</td>\n",
       "      <td>[When, an, unexpected, enemy, emerges, and, th...</td>\n",
       "      <td>7.7</td>\n",
       "      <td>28364</td>\n",
       "      <td>2012</td>\n",
       "      <td>tt0848228</td>\n",
       "      <td>The Avengers</td>\n",
       "      <td>[newyorkcity, shield, superhero, basedoncomic,...</td>\n",
       "      <td>[ScienceFiction, Action, Adventure]</td>\n",
       "      <td>[JossWhedon]</td>\n",
       "      <td>[]</td>\n",
       "      <td>[RobertDowneyJr., ChrisEvans, MarkRuffalo, Chr...</td>\n",
       "      <td>/9BBTo63ANSmhC4e6r62OJFuK2GL.jpg</td>\n",
       "      <td>en</td>\n",
       "      <td>/RYMX2wcKCBAr24UyPD7xwmjaTn.jpg</td>\n",
       "      <td>ScienceFiction Action Adventure RobertDowneyJr...</td>\n",
       "      <td>sciencefict action adventur robertdowneyjr. ch...</td>\n",
       "    </tr>\n",
       "    <tr>\n",
       "      <th>...</th>\n",
       "      <td>...</td>\n",
       "      <td>...</td>\n",
       "      <td>...</td>\n",
       "      <td>...</td>\n",
       "      <td>...</td>\n",
       "      <td>...</td>\n",
       "      <td>...</td>\n",
       "      <td>...</td>\n",
       "      <td>...</td>\n",
       "      <td>...</td>\n",
       "      <td>...</td>\n",
       "      <td>...</td>\n",
       "      <td>...</td>\n",
       "      <td>...</td>\n",
       "      <td>...</td>\n",
       "      <td>...</td>\n",
       "      <td>...</td>\n",
       "    </tr>\n",
       "    <tr>\n",
       "      <th>21657</th>\n",
       "      <td>38932</td>\n",
       "      <td>[The, village, of, Kilcoulins, Leap, was, once...</td>\n",
       "      <td>6.0</td>\n",
       "      <td>51</td>\n",
       "      <td>2009</td>\n",
       "      <td>tt1292652</td>\n",
       "      <td>Holy Water</td>\n",
       "      <td>[]</td>\n",
       "      <td>[Comedy]</td>\n",
       "      <td>[TomReeve]</td>\n",
       "      <td>[MichaelO'Mahony]</td>\n",
       "      <td>[AdamAstill, AngelineBall, JohnLynch, Corneliu...</td>\n",
       "      <td>/2kYxIWN7XxFKxQtu3wBRfPvH0At.jpg</td>\n",
       "      <td>en</td>\n",
       "      <td>/hKw9XwlvXiVjAZVDIjHyeVevpgz.jpg</td>\n",
       "      <td>Comedy AdamAstill AngelineBall JohnLynch Corne...</td>\n",
       "      <td>comedi adamastil angelinebal johnlynch corneli...</td>\n",
       "    </tr>\n",
       "    <tr>\n",
       "      <th>21658</th>\n",
       "      <td>244839</td>\n",
       "      <td>[After, the, events, of, Pitch, Black, a, cont...</td>\n",
       "      <td>5.9</td>\n",
       "      <td>51</td>\n",
       "      <td>2000</td>\n",
       "      <td>tt0366620</td>\n",
       "      <td>The Chronicles of Riddick: Into Pitch Black</td>\n",
       "      <td>[prison, bountyhunter, prisoner, outlaw, alien...</td>\n",
       "      <td>[Action, ScienceFiction, Crime, TVMovie]</td>\n",
       "      <td>[M.DavidMelvin]</td>\n",
       "      <td>[]</td>\n",
       "      <td>[VinDiesel, LisaSaum, BrianGant, WilliamRobert...</td>\n",
       "      <td>/ytBo0IU4Q9eDqdq2jdtzm3m6Qqc.jpg</td>\n",
       "      <td>en</td>\n",
       "      <td>/daB2WDVkOXzaWohtuxvOArpRF4X.jpg</td>\n",
       "      <td>Action ScienceFiction Crime TVMovie VinDiesel ...</td>\n",
       "      <td>action sciencefict crime tvmovi vindiesel lisa...</td>\n",
       "    </tr>\n",
       "    <tr>\n",
       "      <th>21659</th>\n",
       "      <td>485098</td>\n",
       "      <td>[Revolves, around, the, relationship, between,...</td>\n",
       "      <td>6.0</td>\n",
       "      <td>51</td>\n",
       "      <td>2018</td>\n",
       "      <td>tt7888070</td>\n",
       "      <td>Treat Me Like Fire</td>\n",
       "      <td>[gambling, womandirector]</td>\n",
       "      <td>[Drama]</td>\n",
       "      <td>[MarieMonge]</td>\n",
       "      <td>[]</td>\n",
       "      <td>[TaharRahim, StacyMartin, BrunoWolkowitch, Kar...</td>\n",
       "      <td>/4wv7kfNEEcyuTcj9LjAUcM6iVhJ.jpg</td>\n",
       "      <td>fr</td>\n",
       "      <td>/fMfr5wO7Of5YdPvITWZBG0Nq2ZF.jpg</td>\n",
       "      <td>Drama TaharRahim StacyMartin BrunoWolkowitch K...</td>\n",
       "      <td>drama taharrahim stacymartin brunowolkowitch k...</td>\n",
       "    </tr>\n",
       "    <tr>\n",
       "      <th>21660</th>\n",
       "      <td>619090</td>\n",
       "      <td>[Three, friends, who, have, been, fired, from,...</td>\n",
       "      <td>6.0</td>\n",
       "      <td>51</td>\n",
       "      <td>2018</td>\n",
       "      <td>tt9733094</td>\n",
       "      <td>The Plan</td>\n",
       "      <td>[robbery, violenceagainstwomen, lowmen]</td>\n",
       "      <td>[Comedy, Drama]</td>\n",
       "      <td>[PoloMenárguez]</td>\n",
       "      <td>[]</td>\n",
       "      <td>[RaúlArévalo, AntoniodelaTorre, ChemadelBarco]</td>\n",
       "      <td>/bBaIsCSIeo3seP9aURZtQlzfiex.jpg</td>\n",
       "      <td>es</td>\n",
       "      <td>/jDNz5RG6n6mIsXVOf5TgQsvmIxN.jpg</td>\n",
       "      <td>Comedy Drama RaúlArévalo AntoniodelaTorre Chem...</td>\n",
       "      <td>comedi drama raúlarévalo antoniodelatorr chema...</td>\n",
       "    </tr>\n",
       "    <tr>\n",
       "      <th>21661</th>\n",
       "      <td>315134</td>\n",
       "      <td>[The, story, of, a, young, businesswoman, who,...</td>\n",
       "      <td>6.4</td>\n",
       "      <td>51</td>\n",
       "      <td>2015</td>\n",
       "      <td>tt4016588</td>\n",
       "      <td>Surprised by Love</td>\n",
       "      <td>[]</td>\n",
       "      <td>[Romance, TVMovie]</td>\n",
       "      <td>[RobertIscove]</td>\n",
       "      <td>[NealH.Dobrofsky, TippiDobrofsky]</td>\n",
       "      <td>[HilarieBurton, PaulCampbell, TimConway, Aaron...</td>\n",
       "      <td>/j7HnXSnxPnROgxsUCVy79cv6Jvn.jpg</td>\n",
       "      <td>en</td>\n",
       "      <td>/9ozs4hUFvbnh24XG86JMWKrQz7P.jpg</td>\n",
       "      <td>Romance TVMovie HilarieBurton PaulCampbell Tim...</td>\n",
       "      <td>romanc tvmovi hilarieburton paulcampbel timcon...</td>\n",
       "    </tr>\n",
       "  </tbody>\n",
       "</table>\n",
       "<p>21662 rows × 17 columns</p>\n",
       "</div>"
      ],
      "text/plain": [
       "           id                                           overview  \\\n",
       "0       27205  [Cobb, a, skilled, thief, who, commits, corpor...   \n",
       "1      157336  [The, adventures, of, a, group, of, explorers,...   \n",
       "2         155  [Batman, raises, the, stakes, in, his, war, on...   \n",
       "3       19995  [In, the, 22nd, century, a, paraplegic, Marine...   \n",
       "4       24428  [When, an, unexpected, enemy, emerges, and, th...   \n",
       "...       ...                                                ...   \n",
       "21657   38932  [The, village, of, Kilcoulins, Leap, was, once...   \n",
       "21658  244839  [After, the, events, of, Pitch, Black, a, cont...   \n",
       "21659  485098  [Revolves, around, the, relationship, between,...   \n",
       "21660  619090  [Three, friends, who, have, been, fired, from,...   \n",
       "21661  315134  [The, story, of, a, young, businesswoman, who,...   \n",
       "\n",
       "       vote_average  vote_count  year    imdb_id  \\\n",
       "0               8.4       33406  2010  tt1375666   \n",
       "1               8.4       30901  2014  tt0816692   \n",
       "2               8.5       29407  2008  tt0468569   \n",
       "3               7.6       28717  2009  tt0499549   \n",
       "4               7.7       28364  2012  tt0848228   \n",
       "...             ...         ...   ...        ...   \n",
       "21657           6.0          51  2009  tt1292652   \n",
       "21658           5.9          51  2000  tt0366620   \n",
       "21659           6.0          51  2018  tt7888070   \n",
       "21660           6.0          51  2018  tt9733094   \n",
       "21661           6.4          51  2015  tt4016588   \n",
       "\n",
       "                                             title  \\\n",
       "0                                        Inception   \n",
       "1                                     Interstellar   \n",
       "2                                  The Dark Knight   \n",
       "3                                           Avatar   \n",
       "4                                     The Avengers   \n",
       "...                                            ...   \n",
       "21657                                   Holy Water   \n",
       "21658  The Chronicles of Riddick: Into Pitch Black   \n",
       "21659                           Treat Me Like Fire   \n",
       "21660                                     The Plan   \n",
       "21661                            Surprised by Love   \n",
       "\n",
       "                                                keywords  \\\n",
       "0      [paris,france, spy, philosophy, allegory, drea...   \n",
       "1      [artificialintelligence, nasa, timewarp, space...   \n",
       "2      [crimefighter, secretidentity, antihero, scare...   \n",
       "3      [cultureclash, future, spacewar, spacecolony, ...   \n",
       "4      [newyorkcity, shield, superhero, basedoncomic,...   \n",
       "...                                                  ...   \n",
       "21657                                                 []   \n",
       "21658  [prison, bountyhunter, prisoner, outlaw, alien...   \n",
       "21659                          [gambling, womandirector]   \n",
       "21660            [robbery, violenceagainstwomen, lowmen]   \n",
       "21661                                                 []   \n",
       "\n",
       "                                              genre            director  \\\n",
       "0               [Action, ScienceFiction, Adventure]  [ChristopherNolan]   \n",
       "1                [Adventure, Drama, ScienceFiction]  [ChristopherNolan]   \n",
       "2                  [Drama, Action, Crime, Thriller]  [ChristopherNolan]   \n",
       "3      [Action, Adventure, Fantasy, ScienceFiction]      [JamesCameron]   \n",
       "4               [ScienceFiction, Action, Adventure]        [JossWhedon]   \n",
       "...                                             ...                 ...   \n",
       "21657                                      [Comedy]          [TomReeve]   \n",
       "21658      [Action, ScienceFiction, Crime, TVMovie]     [M.DavidMelvin]   \n",
       "21659                                       [Drama]        [MarieMonge]   \n",
       "21660                               [Comedy, Drama]     [PoloMenárguez]   \n",
       "21661                            [Romance, TVMovie]      [RobertIscove]   \n",
       "\n",
       "                                  writer  \\\n",
       "0                     [ChristopherNolan]   \n",
       "1      [ChristopherNolan, JonathanNolan]   \n",
       "2                                     []   \n",
       "3                         [JamesCameron]   \n",
       "4                                     []   \n",
       "...                                  ...   \n",
       "21657                  [MichaelO'Mahony]   \n",
       "21658                                 []   \n",
       "21659                                 []   \n",
       "21660                                 []   \n",
       "21661  [NealH.Dobrofsky, TippiDobrofsky]   \n",
       "\n",
       "                                                    cast  \\\n",
       "0      [LeonardoDiCaprio, JosephGordon-Levitt, KenWat...   \n",
       "1      [MatthewMcConaughey, AnneHathaway, JessicaChas...   \n",
       "2      [ChristianBale, HeathLedger, MichaelCaine, Gar...   \n",
       "3      [SamWorthington, ZoeSaldaña, SigourneyWeaver, ...   \n",
       "4      [RobertDowneyJr., ChrisEvans, MarkRuffalo, Chr...   \n",
       "...                                                  ...   \n",
       "21657  [AdamAstill, AngelineBall, JohnLynch, Corneliu...   \n",
       "21658  [VinDiesel, LisaSaum, BrianGant, WilliamRobert...   \n",
       "21659  [TaharRahim, StacyMartin, BrunoWolkowitch, Kar...   \n",
       "21660     [RaúlArévalo, AntoniodelaTorre, ChemadelBarco]   \n",
       "21661  [HilarieBurton, PaulCampbell, TimConway, Aaron...   \n",
       "\n",
       "                          backdrop_path original_language  \\\n",
       "0      /8ZTVqvKDQ8emSGUEMjsS4yHAwrp.jpg                en   \n",
       "1      /rAiYTfKGqDCRIIqo664sY9XZIvQ.jpg                en   \n",
       "2      /pbEkjhdfP7yuDcMB78YEZwgD4IN.jpg                en   \n",
       "3      /vL5LR6WdxWPjLPFRLe133jXWsh5.jpg                en   \n",
       "4      /9BBTo63ANSmhC4e6r62OJFuK2GL.jpg                en   \n",
       "...                                 ...               ...   \n",
       "21657  /2kYxIWN7XxFKxQtu3wBRfPvH0At.jpg                en   \n",
       "21658  /ytBo0IU4Q9eDqdq2jdtzm3m6Qqc.jpg                en   \n",
       "21659  /4wv7kfNEEcyuTcj9LjAUcM6iVhJ.jpg                fr   \n",
       "21660  /bBaIsCSIeo3seP9aURZtQlzfiex.jpg                es   \n",
       "21661  /j7HnXSnxPnROgxsUCVy79cv6Jvn.jpg                en   \n",
       "\n",
       "                            poster_path  \\\n",
       "0      /edv5CZvWj09upOsy2Y6IwDhK8bt.jpg   \n",
       "1      /gEU2QniE6E77NI6lCU6MxlNBvIx.jpg   \n",
       "2      /qJ2tW6WMUDux911r6m7haRef0WH.jpg   \n",
       "3      /jRXYjXNq0Cs2TcJjLkki24MLp7u.jpg   \n",
       "4       /RYMX2wcKCBAr24UyPD7xwmjaTn.jpg   \n",
       "...                                 ...   \n",
       "21657  /hKw9XwlvXiVjAZVDIjHyeVevpgz.jpg   \n",
       "21658  /daB2WDVkOXzaWohtuxvOArpRF4X.jpg   \n",
       "21659  /fMfr5wO7Of5YdPvITWZBG0Nq2ZF.jpg   \n",
       "21660  /jDNz5RG6n6mIsXVOf5TgQsvmIxN.jpg   \n",
       "21661  /9ozs4hUFvbnh24XG86JMWKrQz7P.jpg   \n",
       "\n",
       "                                                    tags  \\\n",
       "0      Action ScienceFiction Adventure LeonardoDiCapr...   \n",
       "1      Adventure Drama ScienceFiction MatthewMcConaug...   \n",
       "2      Drama Action Crime Thriller ChristianBale Heat...   \n",
       "3      Action Adventure Fantasy ScienceFiction SamWor...   \n",
       "4      ScienceFiction Action Adventure RobertDowneyJr...   \n",
       "...                                                  ...   \n",
       "21657  Comedy AdamAstill AngelineBall JohnLynch Corne...   \n",
       "21658  Action ScienceFiction Crime TVMovie VinDiesel ...   \n",
       "21659  Drama TaharRahim StacyMartin BrunoWolkowitch K...   \n",
       "21660  Comedy Drama RaúlArévalo AntoniodelaTorre Chem...   \n",
       "21661  Romance TVMovie HilarieBurton PaulCampbell Tim...   \n",
       "\n",
       "                                               tags_stem  \n",
       "0      action sciencefict adventur leonardodicaprio j...  \n",
       "1      adventur drama sciencefict matthewmcconaughey ...  \n",
       "2      drama action crime thriller christianbal heath...  \n",
       "3      action adventur fantasi sciencefict samworthin...  \n",
       "4      sciencefict action adventur robertdowneyjr. ch...  \n",
       "...                                                  ...  \n",
       "21657  comedi adamastil angelinebal johnlynch corneli...  \n",
       "21658  action sciencefict crime tvmovi vindiesel lisa...  \n",
       "21659  drama taharrahim stacymartin brunowolkowitch k...  \n",
       "21660  comedi drama raúlarévalo antoniodelatorr chema...  \n",
       "21661  romanc tvmovi hilarieburton paulcampbel timcon...  \n",
       "\n",
       "[21662 rows x 17 columns]"
      ]
     },
     "execution_count": 66,
     "metadata": {},
     "output_type": "execute_result"
    }
   ],
   "source": [
    "df"
   ]
  },
  {
   "cell_type": "code",
   "execution_count": 67,
   "id": "af639999",
   "metadata": {
    "ExecuteTime": {
     "end_time": "2023-04-07T08:59:23.832619Z",
     "start_time": "2023-04-07T08:59:22.739611Z"
    }
   },
   "outputs": [],
   "source": [
    "df.to_csv('final_data.csv',index=False)"
   ]
  },
  {
   "cell_type": "code",
   "execution_count": 68,
   "id": "ee879113",
   "metadata": {
    "ExecuteTime": {
     "end_time": "2023-04-07T08:59:24.534671Z",
     "start_time": "2023-04-07T08:59:24.525003Z"
    }
   },
   "outputs": [],
   "source": [
    "from sklearn.feature_extraction.text import TfidfVectorizer"
   ]
  },
  {
   "cell_type": "code",
   "execution_count": 69,
   "id": "a79c88c6",
   "metadata": {
    "ExecuteTime": {
     "end_time": "2023-04-07T08:59:24.970216Z",
     "start_time": "2023-04-07T08:59:24.954228Z"
    }
   },
   "outputs": [],
   "source": [
    "tfid_vec = TfidfVectorizer()"
   ]
  },
  {
   "cell_type": "code",
   "execution_count": 70,
   "id": "8b196c3c",
   "metadata": {
    "ExecuteTime": {
     "end_time": "2023-04-07T08:59:27.061272Z",
     "start_time": "2023-04-07T08:59:25.350053Z"
    }
   },
   "outputs": [],
   "source": [
    "feature_vectors = tfid_vec.fit_transform(df['tags_stem'])"
   ]
  },
  {
   "cell_type": "code",
   "execution_count": 71,
   "id": "6e086622",
   "metadata": {
    "ExecuteTime": {
     "end_time": "2023-04-07T08:59:27.091870Z",
     "start_time": "2023-04-07T08:59:27.063807Z"
    }
   },
   "outputs": [
    {
     "name": "stdout",
     "output_type": "stream",
     "text": [
      "  (0, 42948)\t0.0549106327648839\n",
      "  (0, 41845)\t0.10581449229890658\n",
      "  (0, 73909)\t0.08522184111575465\n",
      "  (0, 6271)\t0.08556491301847437\n",
      "  (0, 42222)\t0.14872709648313745\n",
      "  (0, 42324)\t0.17904892805581646\n",
      "  (0, 42239)\t0.11430680269948479\n",
      "  (0, 9698)\t0.05369027215531016\n",
      "  (0, 19971)\t0.11869052521517812\n",
      "  (0, 92730)\t0.10529244881872486\n",
      "  (0, 32762)\t0.039985942294643965\n",
      "  (0, 73447)\t0.15248820429827586\n",
      "  (0, 7633)\t0.04543340485294128\n",
      "  (0, 55974)\t0.05369027215531016\n",
      "  (0, 70610)\t0.07430130184426657\n",
      "  (0, 78637)\t0.12148275744545102\n",
      "  (0, 94722)\t0.04692287524762325\n",
      "  (0, 16245)\t0.08988607240257772\n",
      "  (0, 70448)\t0.09767560281922223\n",
      "  (0, 43228)\t0.033681442486743346\n",
      "  (0, 92686)\t0.2018482450515823\n",
      "  (0, 39955)\t0.06801248727766128\n",
      "  (0, 70431)\t0.04951147486760729\n",
      "  (0, 93634)\t0.04281327017465873\n",
      "  (0, 42545)\t0.11847615993241199\n",
      "  :\t:\n",
      "  (21661, 21319)\t0.18330846929638572\n",
      "  (21661, 12379)\t0.1455421889488926\n",
      "  (21661, 32388)\t0.194622230993342\n",
      "  (21661, 20121)\t0.14435076432549743\n",
      "  (21661, 39897)\t0.13092993511309525\n",
      "  (21661, 1261)\t0.1567167602644778\n",
      "  (21661, 42772)\t0.1595302261220506\n",
      "  (21661, 40044)\t0.12191657745931839\n",
      "  (21661, 96147)\t0.10213207557814347\n",
      "  (21661, 31051)\t0.1107493058016194\n",
      "  (21661, 102413)\t0.08294593366444432\n",
      "  (21661, 39781)\t0.13301144456287103\n",
      "  (21661, 72328)\t0.1261471319205182\n",
      "  (21661, 84210)\t0.10840091477524061\n",
      "  (21661, 90454)\t0.09888462968855762\n",
      "  (21661, 81349)\t0.07699669384238736\n",
      "  (21661, 32141)\t0.0800591767971318\n",
      "  (21661, 4753)\t0.05983916725678042\n",
      "  (21661, 4927)\t0.03658745499358262\n",
      "  (21661, 32762)\t0.06058332280741299\n",
      "  (21661, 70610)\t0.11257505754078946\n",
      "  (21661, 94722)\t0.07109357776869266\n",
      "  (21661, 70431)\t0.03750780264814659\n",
      "  (21661, 93634)\t0.03243352561657359\n",
      "  (21661, 100573)\t0.06641123155211606\n"
     ]
    }
   ],
   "source": [
    "print(feature_vectors)"
   ]
  },
  {
   "cell_type": "code",
   "execution_count": 72,
   "id": "113021a7",
   "metadata": {
    "ExecuteTime": {
     "end_time": "2023-04-07T08:59:27.730078Z",
     "start_time": "2023-04-07T08:59:27.713858Z"
    }
   },
   "outputs": [],
   "source": [
    "from sklearn.metrics.pairwise import cosine_similarity"
   ]
  },
  {
   "cell_type": "code",
   "execution_count": 73,
   "id": "657e0a4a",
   "metadata": {
    "ExecuteTime": {
     "end_time": "2023-04-07T09:00:17.366204Z",
     "start_time": "2023-04-07T08:59:28.654865Z"
    }
   },
   "outputs": [],
   "source": [
    "similarity_cosine = cosine_similarity(feature_vectors)"
   ]
  },
  {
   "cell_type": "code",
   "execution_count": 74,
   "id": "b79c648e",
   "metadata": {
    "ExecuteTime": {
     "end_time": "2023-04-07T09:00:19.118683Z",
     "start_time": "2023-04-07T09:00:18.875783Z"
    }
   },
   "outputs": [],
   "source": [
    "def recommend(movie):\n",
    "    movie_index = df[df['title']== movie].index[0]\n",
    "    distances = similarity_cosine[movie_index]\n",
    "    movies_list = sorted(list(enumerate(distances)),reverse=True,key = lambda x:x[1])[1:6]\n",
    "    \n",
    "    for i in movies_list:\n",
    "        print(df.iloc[i[0]].title)"
   ]
  },
  {
   "cell_type": "code",
   "execution_count": 75,
   "id": "93b6619d",
   "metadata": {
    "ExecuteTime": {
     "end_time": "2023-04-07T09:00:20.725597Z",
     "start_time": "2023-04-07T09:00:19.856605Z"
    }
   },
   "outputs": [
    {
     "name": "stdout",
     "output_type": "stream",
     "text": [
      "The Beyond\n",
      "Doodlebug\n",
      "Journey to the Far Side of the Sun\n",
      "Star Wreck: In the Pirkinning\n",
      "The Colony\n"
     ]
    }
   ],
   "source": [
    "recommend('Interstellar')"
   ]
  },
  {
   "cell_type": "code",
   "execution_count": 38,
   "id": "36d9a8e1",
   "metadata": {
    "ExecuteTime": {
     "end_time": "2023-04-07T08:46:31.362592Z",
     "start_time": "2023-04-07T08:46:31.274797Z"
    }
   },
   "outputs": [
    {
     "name": "stdout",
     "output_type": "stream",
     "text": [
      "Meat Love\n",
      "Hindi Medium\n",
      "Singh Is Kinng\n",
      "Return to the 36th Chamber\n",
      "Desi Boyz\n"
     ]
    }
   ],
   "source": [
    "recommend('Chandni Chowk to China')"
   ]
  },
  {
   "cell_type": "code",
   "execution_count": 51,
   "id": "5060bedd",
   "metadata": {
    "ExecuteTime": {
     "end_time": "2023-04-07T08:47:22.037380Z",
     "start_time": "2023-04-07T08:47:22.004725Z"
    }
   },
   "outputs": [
    {
     "name": "stdout",
     "output_type": "stream",
     "text": [
      "Harry Potter and the Deathly Hallows: Part 1\n",
      "Harry Potter and the Deathly Hallows: Part 2\n",
      "Harry Potter and the Order of the Phoenix\n",
      "Harry Potter and the Chamber of Secrets\n",
      "Harry Potter and the Prisoner of Azkaban\n"
     ]
    }
   ],
   "source": [
    "recommend('Harry Potter and the Half-Blood Prince')"
   ]
  },
  {
   "cell_type": "code",
   "execution_count": 76,
   "id": "d6147da4",
   "metadata": {
    "ExecuteTime": {
     "end_time": "2023-04-07T09:00:35.502416Z",
     "start_time": "2023-04-07T09:00:35.395551Z"
    }
   },
   "outputs": [
    {
     "name": "stdout",
     "output_type": "stream",
     "text": [
      "Go Goa Gone\n",
      "Singh Is Bliing\n",
      "Ajab Prem Ki Ghazab Kahani\n",
      "Don\n",
      "Salaam Namaste\n"
     ]
    }
   ],
   "source": [
    "recommend('Dhamaal')"
   ]
  },
  {
   "cell_type": "code",
   "execution_count": 77,
   "id": "3fe747d5",
   "metadata": {
    "ExecuteTime": {
     "end_time": "2023-04-07T09:00:36.121022Z",
     "start_time": "2023-04-07T09:00:36.036644Z"
    }
   },
   "outputs": [
    {
     "name": "stdout",
     "output_type": "stream",
     "text": [
      "Go Goa Gone\n",
      "Singh Is Bliing\n",
      "Ajab Prem Ki Ghazab Kahani\n",
      "Don\n",
      "Salaam Namaste\n"
     ]
    }
   ],
   "source": [
    "recommend('Dhamaal')"
   ]
  },
  {
   "cell_type": "code",
   "execution_count": 78,
   "id": "ac8a2792",
   "metadata": {
    "ExecuteTime": {
     "end_time": "2023-04-07T09:00:36.697677Z",
     "start_time": "2023-04-07T09:00:36.268339Z"
    }
   },
   "outputs": [
    {
     "ename": "IndexError",
     "evalue": "index 0 is out of bounds for axis 0 with size 0",
     "output_type": "error",
     "traceback": [
      "\u001b[1;31m---------------------------------------------------------------------------\u001b[0m",
      "\u001b[1;31mIndexError\u001b[0m                                Traceback (most recent call last)",
      "Cell \u001b[1;32mIn[78], line 1\u001b[0m\n\u001b[1;32m----> 1\u001b[0m \u001b[43mrecommend\u001b[49m\u001b[43m(\u001b[49m\u001b[38;5;124;43m'\u001b[39;49m\u001b[38;5;124;43mDouble Dhamaal\u001b[39;49m\u001b[38;5;124;43m'\u001b[39;49m\u001b[43m)\u001b[49m\n",
      "Cell \u001b[1;32mIn[74], line 2\u001b[0m, in \u001b[0;36mrecommend\u001b[1;34m(movie)\u001b[0m\n\u001b[0;32m      1\u001b[0m \u001b[38;5;28;01mdef\u001b[39;00m \u001b[38;5;21mrecommend\u001b[39m(movie):\n\u001b[1;32m----> 2\u001b[0m     movie_index \u001b[38;5;241m=\u001b[39m \u001b[43mdf\u001b[49m\u001b[43m[\u001b[49m\u001b[43mdf\u001b[49m\u001b[43m[\u001b[49m\u001b[38;5;124;43m'\u001b[39;49m\u001b[38;5;124;43mtitle\u001b[39;49m\u001b[38;5;124;43m'\u001b[39;49m\u001b[43m]\u001b[49m\u001b[38;5;241;43m==\u001b[39;49m\u001b[43m \u001b[49m\u001b[43mmovie\u001b[49m\u001b[43m]\u001b[49m\u001b[38;5;241;43m.\u001b[39;49m\u001b[43mindex\u001b[49m\u001b[43m[\u001b[49m\u001b[38;5;241;43m0\u001b[39;49m\u001b[43m]\u001b[49m\n\u001b[0;32m      3\u001b[0m     distances \u001b[38;5;241m=\u001b[39m similarity_cosine[movie_index]\n\u001b[0;32m      4\u001b[0m     movies_list \u001b[38;5;241m=\u001b[39m \u001b[38;5;28msorted\u001b[39m(\u001b[38;5;28mlist\u001b[39m(\u001b[38;5;28menumerate\u001b[39m(distances)),reverse\u001b[38;5;241m=\u001b[39m\u001b[38;5;28;01mTrue\u001b[39;00m,key \u001b[38;5;241m=\u001b[39m \u001b[38;5;28;01mlambda\u001b[39;00m x:x[\u001b[38;5;241m1\u001b[39m])[\u001b[38;5;241m1\u001b[39m:\u001b[38;5;241m6\u001b[39m]\n",
      "File \u001b[1;32mC:\\ProgramData\\Anaconda3\\lib\\site-packages\\pandas\\core\\indexes\\base.py:5053\u001b[0m, in \u001b[0;36mIndex.__getitem__\u001b[1;34m(self, key)\u001b[0m\n\u001b[0;32m   5050\u001b[0m \u001b[38;5;28;01mif\u001b[39;00m is_integer(key) \u001b[38;5;129;01mor\u001b[39;00m is_float(key):\n\u001b[0;32m   5051\u001b[0m     \u001b[38;5;66;03m# GH#44051 exclude bool, which would return a 2d ndarray\u001b[39;00m\n\u001b[0;32m   5052\u001b[0m     key \u001b[38;5;241m=\u001b[39m com\u001b[38;5;241m.\u001b[39mcast_scalar_indexer(key, warn_float\u001b[38;5;241m=\u001b[39m\u001b[38;5;28;01mTrue\u001b[39;00m)\n\u001b[1;32m-> 5053\u001b[0m     \u001b[38;5;28;01mreturn\u001b[39;00m \u001b[43mgetitem\u001b[49m\u001b[43m(\u001b[49m\u001b[43mkey\u001b[49m\u001b[43m)\u001b[49m\n\u001b[0;32m   5055\u001b[0m \u001b[38;5;28;01mif\u001b[39;00m \u001b[38;5;28misinstance\u001b[39m(key, \u001b[38;5;28mslice\u001b[39m):\n\u001b[0;32m   5056\u001b[0m     \u001b[38;5;66;03m# This case is separated from the conditional above to avoid\u001b[39;00m\n\u001b[0;32m   5057\u001b[0m     \u001b[38;5;66;03m# pessimization com.is_bool_indexer and ndim checks.\u001b[39;00m\n\u001b[0;32m   5058\u001b[0m     result \u001b[38;5;241m=\u001b[39m getitem(key)\n",
      "\u001b[1;31mIndexError\u001b[0m: index 0 is out of bounds for axis 0 with size 0"
     ]
    }
   ],
   "source": [
    "recommend('Double Dhamaal')"
   ]
  },
  {
   "cell_type": "code",
   "execution_count": null,
   "id": "179c56ae",
   "metadata": {
    "ExecuteTime": {
     "end_time": "2023-04-07T09:00:36.705078Z",
     "start_time": "2023-04-07T09:00:36.705078Z"
    }
   },
   "outputs": [],
   "source": [
    "df.shape"
   ]
  },
  {
   "cell_type": "code",
   "execution_count": 79,
   "id": "d5732ce5",
   "metadata": {
    "ExecuteTime": {
     "end_time": "2023-04-07T09:00:36.929150Z",
     "start_time": "2023-04-07T09:00:36.717747Z"
    }
   },
   "outputs": [
    {
     "data": {
      "text/html": [
       "<div>\n",
       "<style scoped>\n",
       "    .dataframe tbody tr th:only-of-type {\n",
       "        vertical-align: middle;\n",
       "    }\n",
       "\n",
       "    .dataframe tbody tr th {\n",
       "        vertical-align: top;\n",
       "    }\n",
       "\n",
       "    .dataframe thead th {\n",
       "        text-align: right;\n",
       "    }\n",
       "</style>\n",
       "<table border=\"1\" class=\"dataframe\">\n",
       "  <thead>\n",
       "    <tr style=\"text-align: right;\">\n",
       "      <th></th>\n",
       "      <th>id</th>\n",
       "      <th>overview</th>\n",
       "      <th>vote_average</th>\n",
       "      <th>vote_count</th>\n",
       "      <th>year</th>\n",
       "      <th>imdb_id</th>\n",
       "      <th>title</th>\n",
       "      <th>keywords</th>\n",
       "      <th>genre</th>\n",
       "      <th>director</th>\n",
       "      <th>writer</th>\n",
       "      <th>cast</th>\n",
       "      <th>backdrop_path</th>\n",
       "      <th>original_language</th>\n",
       "      <th>poster_path</th>\n",
       "      <th>tags</th>\n",
       "      <th>tags_stem</th>\n",
       "    </tr>\n",
       "  </thead>\n",
       "  <tbody>\n",
       "    <tr>\n",
       "      <th>0</th>\n",
       "      <td>27205</td>\n",
       "      <td>[Cobb, a, skilled, thief, who, commits, corpor...</td>\n",
       "      <td>8.4</td>\n",
       "      <td>33406</td>\n",
       "      <td>2010</td>\n",
       "      <td>tt1375666</td>\n",
       "      <td>Inception</td>\n",
       "      <td>[paris,france, spy, philosophy, allegory, drea...</td>\n",
       "      <td>[Action, ScienceFiction, Adventure]</td>\n",
       "      <td>[ChristopherNolan]</td>\n",
       "      <td>[ChristopherNolan]</td>\n",
       "      <td>[LeonardoDiCaprio, JosephGordon-Levitt, KenWat...</td>\n",
       "      <td>/8ZTVqvKDQ8emSGUEMjsS4yHAwrp.jpg</td>\n",
       "      <td>en</td>\n",
       "      <td>/edv5CZvWj09upOsy2Y6IwDhK8bt.jpg</td>\n",
       "      <td>Action ScienceFiction Adventure LeonardoDiCapr...</td>\n",
       "      <td>action sciencefict adventur leonardodicaprio j...</td>\n",
       "    </tr>\n",
       "    <tr>\n",
       "      <th>1</th>\n",
       "      <td>157336</td>\n",
       "      <td>[The, adventures, of, a, group, of, explorers,...</td>\n",
       "      <td>8.4</td>\n",
       "      <td>30901</td>\n",
       "      <td>2014</td>\n",
       "      <td>tt0816692</td>\n",
       "      <td>Interstellar</td>\n",
       "      <td>[artificialintelligence, nasa, timewarp, space...</td>\n",
       "      <td>[Adventure, Drama, ScienceFiction]</td>\n",
       "      <td>[ChristopherNolan]</td>\n",
       "      <td>[ChristopherNolan, JonathanNolan]</td>\n",
       "      <td>[MatthewMcConaughey, AnneHathaway, JessicaChas...</td>\n",
       "      <td>/rAiYTfKGqDCRIIqo664sY9XZIvQ.jpg</td>\n",
       "      <td>en</td>\n",
       "      <td>/gEU2QniE6E77NI6lCU6MxlNBvIx.jpg</td>\n",
       "      <td>Adventure Drama ScienceFiction MatthewMcConaug...</td>\n",
       "      <td>adventur drama sciencefict matthewmcconaughey ...</td>\n",
       "    </tr>\n",
       "    <tr>\n",
       "      <th>2</th>\n",
       "      <td>155</td>\n",
       "      <td>[Batman, raises, the, stakes, in, his, war, on...</td>\n",
       "      <td>8.5</td>\n",
       "      <td>29407</td>\n",
       "      <td>2008</td>\n",
       "      <td>tt0468569</td>\n",
       "      <td>The Dark Knight</td>\n",
       "      <td>[crimefighter, secretidentity, antihero, scare...</td>\n",
       "      <td>[Drama, Action, Crime, Thriller]</td>\n",
       "      <td>[ChristopherNolan]</td>\n",
       "      <td>[]</td>\n",
       "      <td>[ChristianBale, HeathLedger, MichaelCaine, Gar...</td>\n",
       "      <td>/pbEkjhdfP7yuDcMB78YEZwgD4IN.jpg</td>\n",
       "      <td>en</td>\n",
       "      <td>/qJ2tW6WMUDux911r6m7haRef0WH.jpg</td>\n",
       "      <td>Drama Action Crime Thriller ChristianBale Heat...</td>\n",
       "      <td>drama action crime thriller christianbal heath...</td>\n",
       "    </tr>\n",
       "    <tr>\n",
       "      <th>3</th>\n",
       "      <td>19995</td>\n",
       "      <td>[In, the, 22nd, century, a, paraplegic, Marine...</td>\n",
       "      <td>7.6</td>\n",
       "      <td>28717</td>\n",
       "      <td>2009</td>\n",
       "      <td>tt0499549</td>\n",
       "      <td>Avatar</td>\n",
       "      <td>[cultureclash, future, spacewar, spacecolony, ...</td>\n",
       "      <td>[Action, Adventure, Fantasy, ScienceFiction]</td>\n",
       "      <td>[JamesCameron]</td>\n",
       "      <td>[JamesCameron]</td>\n",
       "      <td>[SamWorthington, ZoeSaldaña, SigourneyWeaver, ...</td>\n",
       "      <td>/vL5LR6WdxWPjLPFRLe133jXWsh5.jpg</td>\n",
       "      <td>en</td>\n",
       "      <td>/jRXYjXNq0Cs2TcJjLkki24MLp7u.jpg</td>\n",
       "      <td>Action Adventure Fantasy ScienceFiction SamWor...</td>\n",
       "      <td>action adventur fantasi sciencefict samworthin...</td>\n",
       "    </tr>\n",
       "    <tr>\n",
       "      <th>4</th>\n",
       "      <td>24428</td>\n",
       "      <td>[When, an, unexpected, enemy, emerges, and, th...</td>\n",
       "      <td>7.7</td>\n",
       "      <td>28364</td>\n",
       "      <td>2012</td>\n",
       "      <td>tt0848228</td>\n",
       "      <td>The Avengers</td>\n",
       "      <td>[newyorkcity, shield, superhero, basedoncomic,...</td>\n",
       "      <td>[ScienceFiction, Action, Adventure]</td>\n",
       "      <td>[JossWhedon]</td>\n",
       "      <td>[]</td>\n",
       "      <td>[RobertDowneyJr., ChrisEvans, MarkRuffalo, Chr...</td>\n",
       "      <td>/9BBTo63ANSmhC4e6r62OJFuK2GL.jpg</td>\n",
       "      <td>en</td>\n",
       "      <td>/RYMX2wcKCBAr24UyPD7xwmjaTn.jpg</td>\n",
       "      <td>ScienceFiction Action Adventure RobertDowneyJr...</td>\n",
       "      <td>sciencefict action adventur robertdowneyjr. ch...</td>\n",
       "    </tr>\n",
       "  </tbody>\n",
       "</table>\n",
       "</div>"
      ],
      "text/plain": [
       "       id                                           overview  vote_average  \\\n",
       "0   27205  [Cobb, a, skilled, thief, who, commits, corpor...           8.4   \n",
       "1  157336  [The, adventures, of, a, group, of, explorers,...           8.4   \n",
       "2     155  [Batman, raises, the, stakes, in, his, war, on...           8.5   \n",
       "3   19995  [In, the, 22nd, century, a, paraplegic, Marine...           7.6   \n",
       "4   24428  [When, an, unexpected, enemy, emerges, and, th...           7.7   \n",
       "\n",
       "   vote_count  year    imdb_id            title  \\\n",
       "0       33406  2010  tt1375666        Inception   \n",
       "1       30901  2014  tt0816692     Interstellar   \n",
       "2       29407  2008  tt0468569  The Dark Knight   \n",
       "3       28717  2009  tt0499549           Avatar   \n",
       "4       28364  2012  tt0848228     The Avengers   \n",
       "\n",
       "                                            keywords  \\\n",
       "0  [paris,france, spy, philosophy, allegory, drea...   \n",
       "1  [artificialintelligence, nasa, timewarp, space...   \n",
       "2  [crimefighter, secretidentity, antihero, scare...   \n",
       "3  [cultureclash, future, spacewar, spacecolony, ...   \n",
       "4  [newyorkcity, shield, superhero, basedoncomic,...   \n",
       "\n",
       "                                          genre            director  \\\n",
       "0           [Action, ScienceFiction, Adventure]  [ChristopherNolan]   \n",
       "1            [Adventure, Drama, ScienceFiction]  [ChristopherNolan]   \n",
       "2              [Drama, Action, Crime, Thriller]  [ChristopherNolan]   \n",
       "3  [Action, Adventure, Fantasy, ScienceFiction]      [JamesCameron]   \n",
       "4           [ScienceFiction, Action, Adventure]        [JossWhedon]   \n",
       "\n",
       "                              writer  \\\n",
       "0                 [ChristopherNolan]   \n",
       "1  [ChristopherNolan, JonathanNolan]   \n",
       "2                                 []   \n",
       "3                     [JamesCameron]   \n",
       "4                                 []   \n",
       "\n",
       "                                                cast  \\\n",
       "0  [LeonardoDiCaprio, JosephGordon-Levitt, KenWat...   \n",
       "1  [MatthewMcConaughey, AnneHathaway, JessicaChas...   \n",
       "2  [ChristianBale, HeathLedger, MichaelCaine, Gar...   \n",
       "3  [SamWorthington, ZoeSaldaña, SigourneyWeaver, ...   \n",
       "4  [RobertDowneyJr., ChrisEvans, MarkRuffalo, Chr...   \n",
       "\n",
       "                      backdrop_path original_language  \\\n",
       "0  /8ZTVqvKDQ8emSGUEMjsS4yHAwrp.jpg                en   \n",
       "1  /rAiYTfKGqDCRIIqo664sY9XZIvQ.jpg                en   \n",
       "2  /pbEkjhdfP7yuDcMB78YEZwgD4IN.jpg                en   \n",
       "3  /vL5LR6WdxWPjLPFRLe133jXWsh5.jpg                en   \n",
       "4  /9BBTo63ANSmhC4e6r62OJFuK2GL.jpg                en   \n",
       "\n",
       "                        poster_path  \\\n",
       "0  /edv5CZvWj09upOsy2Y6IwDhK8bt.jpg   \n",
       "1  /gEU2QniE6E77NI6lCU6MxlNBvIx.jpg   \n",
       "2  /qJ2tW6WMUDux911r6m7haRef0WH.jpg   \n",
       "3  /jRXYjXNq0Cs2TcJjLkki24MLp7u.jpg   \n",
       "4   /RYMX2wcKCBAr24UyPD7xwmjaTn.jpg   \n",
       "\n",
       "                                                tags  \\\n",
       "0  Action ScienceFiction Adventure LeonardoDiCapr...   \n",
       "1  Adventure Drama ScienceFiction MatthewMcConaug...   \n",
       "2  Drama Action Crime Thriller ChristianBale Heat...   \n",
       "3  Action Adventure Fantasy ScienceFiction SamWor...   \n",
       "4  ScienceFiction Action Adventure RobertDowneyJr...   \n",
       "\n",
       "                                           tags_stem  \n",
       "0  action sciencefict adventur leonardodicaprio j...  \n",
       "1  adventur drama sciencefict matthewmcconaughey ...  \n",
       "2  drama action crime thriller christianbal heath...  \n",
       "3  action adventur fantasi sciencefict samworthin...  \n",
       "4  sciencefict action adventur robertdowneyjr. ch...  "
      ]
     },
     "execution_count": 79,
     "metadata": {},
     "output_type": "execute_result"
    }
   ],
   "source": [
    "df.head()"
   ]
  },
  {
   "cell_type": "code",
   "execution_count": 89,
   "id": "4542850d",
   "metadata": {
    "ExecuteTime": {
     "end_time": "2023-04-07T09:59:11.115231Z",
     "start_time": "2023-04-07T09:59:11.095441Z"
    }
   },
   "outputs": [
    {
     "data": {
      "text/plain": [
       "'http://image.tmdb.org/t/p/w185/edv5CZvWj09upOsy2Y6IwDhK8bt.jpg'"
      ]
     },
     "execution_count": 89,
     "metadata": {},
     "output_type": "execute_result"
    }
   ],
   "source": [
    "'http://image.tmdb.org/t/p/w185' + df.loc[0,'poster_path']"
   ]
  },
  {
   "cell_type": "code",
   "execution_count": 80,
   "id": "6493a5ae",
   "metadata": {
    "ExecuteTime": {
     "end_time": "2023-04-07T09:00:36.991316Z",
     "start_time": "2023-04-07T09:00:36.977693Z"
    }
   },
   "outputs": [],
   "source": [
    "import pickle"
   ]
  },
  {
   "cell_type": "code",
   "execution_count": 81,
   "id": "cd4a711a",
   "metadata": {
    "ExecuteTime": {
     "end_time": "2023-04-07T09:00:42.322312Z",
     "start_time": "2023-04-07T09:00:40.386340Z"
    }
   },
   "outputs": [],
   "source": [
    "pickle.dump(df,open('movies.pkl','wb'))"
   ]
  },
  {
   "cell_type": "code",
   "execution_count": 82,
   "id": "d5d102cf",
   "metadata": {
    "ExecuteTime": {
     "end_time": "2023-04-07T09:00:43.119330Z",
     "start_time": "2023-04-07T09:00:42.324828Z"
    }
   },
   "outputs": [],
   "source": [
    "pickle.dump(df.to_dict(),open('movies_dict.pkl','wb'))"
   ]
  },
  {
   "cell_type": "code",
   "execution_count": 83,
   "id": "ea0f7885",
   "metadata": {
    "ExecuteTime": {
     "end_time": "2023-04-07T09:01:11.972634Z",
     "start_time": "2023-04-07T09:00:43.121189Z"
    }
   },
   "outputs": [],
   "source": [
    "pickle.dump(similarity_cosine,open('similarity.pkl','wb'))"
   ]
  },
  {
   "cell_type": "code",
   "execution_count": 84,
   "id": "92365923",
   "metadata": {
    "ExecuteTime": {
     "end_time": "2023-04-07T09:01:12.034727Z",
     "start_time": "2023-04-07T09:01:11.977644Z"
    }
   },
   "outputs": [
    {
     "data": {
      "text/plain": [
       "0                                          Inception\n",
       "1                                       Interstellar\n",
       "2                                    The Dark Knight\n",
       "3                                             Avatar\n",
       "4                                       The Avengers\n",
       "                            ...                     \n",
       "21657                                     Holy Water\n",
       "21658    The Chronicles of Riddick: Into Pitch Black\n",
       "21659                             Treat Me Like Fire\n",
       "21660                                       The Plan\n",
       "21661                              Surprised by Love\n",
       "Name: title, Length: 21662, dtype: object"
      ]
     },
     "execution_count": 84,
     "metadata": {},
     "output_type": "execute_result"
    }
   ],
   "source": [
    "df['title']"
   ]
  },
  {
   "cell_type": "markdown",
   "id": "7b9ac463",
   "metadata": {},
   "source": [
    "-----\n",
    "------\n",
    "-------"
   ]
  },
  {
   "cell_type": "code",
   "execution_count": null,
   "id": "16acb53b",
   "metadata": {},
   "outputs": [],
   "source": []
  },
  {
   "cell_type": "code",
   "execution_count": null,
   "id": "3fb16c9f",
   "metadata": {},
   "outputs": [],
   "source": []
  }
 ],
 "metadata": {
  "kernelspec": {
   "display_name": "Python 3 (ipykernel)",
   "language": "python",
   "name": "python3"
  },
  "language_info": {
   "codemirror_mode": {
    "name": "ipython",
    "version": 3
   },
   "file_extension": ".py",
   "mimetype": "text/x-python",
   "name": "python",
   "nbconvert_exporter": "python",
   "pygments_lexer": "ipython3",
   "version": "3.9.13"
  }
 },
 "nbformat": 4,
 "nbformat_minor": 5
}
