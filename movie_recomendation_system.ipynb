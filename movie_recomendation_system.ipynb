{
 "cells": [
  {
   "cell_type": "code",
   "execution_count": 1,
   "id": "558e812c",
   "metadata": {
    "ExecuteTime": {
     "end_time": "2023-04-07T08:15:54.815932Z",
     "start_time": "2023-04-07T08:15:53.046159Z"
    }
   },
   "outputs": [],
   "source": [
    "import pandas as pd\n",
    "import numpy as np\n",
    "import requests\n",
    "import json\n",
    "pd.set_option('display.max_columns', None)"
   ]
  },
  {
   "cell_type": "code",
   "execution_count": 6,
   "id": "413ba7d1",
   "metadata": {
    "ExecuteTime": {
     "end_time": "2023-04-07T08:16:41.106626Z",
     "start_time": "2023-04-07T08:16:40.500463Z"
    }
   },
   "outputs": [
    {
     "data": {
      "text/html": [
       "<div>\n",
       "<style scoped>\n",
       "    .dataframe tbody tr th:only-of-type {\n",
       "        vertical-align: middle;\n",
       "    }\n",
       "\n",
       "    .dataframe tbody tr th {\n",
       "        vertical-align: top;\n",
       "    }\n",
       "\n",
       "    .dataframe thead th {\n",
       "        text-align: right;\n",
       "    }\n",
       "</style>\n",
       "<table border=\"1\" class=\"dataframe\">\n",
       "  <thead>\n",
       "    <tr style=\"text-align: right;\">\n",
       "      <th></th>\n",
       "      <th>id</th>\n",
       "      <th>overview</th>\n",
       "      <th>vote_average</th>\n",
       "      <th>vote_count</th>\n",
       "      <th>year</th>\n",
       "      <th>imdb_id</th>\n",
       "      <th>title</th>\n",
       "      <th>keywords</th>\n",
       "      <th>genre</th>\n",
       "      <th>director</th>\n",
       "      <th>writer</th>\n",
       "      <th>cast</th>\n",
       "      <th>backdrop_path</th>\n",
       "      <th>original_language</th>\n",
       "      <th>poster_path</th>\n",
       "    </tr>\n",
       "  </thead>\n",
       "  <tbody>\n",
       "    <tr>\n",
       "      <th>0</th>\n",
       "      <td>1022102</td>\n",
       "      <td>Purple colors the city of Los Angeles, as BTS ...</td>\n",
       "      <td>9.2</td>\n",
       "      <td>139</td>\n",
       "      <td>2022</td>\n",
       "      <td>tt22010428</td>\n",
       "      <td>BTS: Permission to Dance on Stage - LA</td>\n",
       "      <td>['concert', 'concert film', 'k-pop']</td>\n",
       "      <td>['Music', 'Documentary']</td>\n",
       "      <td>['Sam Wrench', 'Park Jun-soo']</td>\n",
       "      <td>[]</td>\n",
       "      <td>['Kim Nam-joon', 'Kim Seok-jin', 'Min Yoon-gi'...</td>\n",
       "      <td>/4IMn2EqCBb4n4r6FODOP7fJQIdi.jpg</td>\n",
       "      <td>ko</td>\n",
       "      <td>/9pNGRpOOQpZtqMLncEcQDv86OkW.jpg</td>\n",
       "    </tr>\n",
       "    <tr>\n",
       "      <th>1</th>\n",
       "      <td>953553</td>\n",
       "      <td>In the fifth installment of the Gabriel's Infe...</td>\n",
       "      <td>8.7</td>\n",
       "      <td>63</td>\n",
       "      <td>2022</td>\n",
       "      <td>tt19121744</td>\n",
       "      <td>Gabriel's Rapture: Part II</td>\n",
       "      <td>[]</td>\n",
       "      <td>['Romance']</td>\n",
       "      <td>['Tosca Musk']</td>\n",
       "      <td>[]</td>\n",
       "      <td>['Melanie Zanetti', 'Giulio Berruti', 'James A...</td>\n",
       "      <td>/gf93HbjBrmT9PE9yaW9Wl6JGIdT.jpg</td>\n",
       "      <td>en</td>\n",
       "      <td>/2DtnVEwBJKL5aUlLAyZASmQpWn8.jpg</td>\n",
       "    </tr>\n",
       "    <tr>\n",
       "      <th>2</th>\n",
       "      <td>1039026</td>\n",
       "      <td>Franco Escamilla takes the stage in California...</td>\n",
       "      <td>8.7</td>\n",
       "      <td>76</td>\n",
       "      <td>2022</td>\n",
       "      <td>tt22301428</td>\n",
       "      <td>Franco Escamilla: Eavesdropping</td>\n",
       "      <td>['stand-up comedy']</td>\n",
       "      <td>['Comedy']</td>\n",
       "      <td>['Claude Shires']</td>\n",
       "      <td>[]</td>\n",
       "      <td>['Franco Escamilla']</td>\n",
       "      <td>/4ig7xlM8r3rxLZadMHqGGntPkyq.jpg</td>\n",
       "      <td>es</td>\n",
       "      <td>/cLaTeAG7kq4x39MVqbrwGEvzLJ.jpg</td>\n",
       "    </tr>\n",
       "  </tbody>\n",
       "</table>\n",
       "</div>"
      ],
      "text/plain": [
       "        id                                           overview  vote_average  \\\n",
       "0  1022102  Purple colors the city of Los Angeles, as BTS ...           9.2   \n",
       "1   953553  In the fifth installment of the Gabriel's Infe...           8.7   \n",
       "2  1039026  Franco Escamilla takes the stage in California...           8.7   \n",
       "\n",
       "   vote_count  year     imdb_id                                   title  \\\n",
       "0         139  2022  tt22010428  BTS: Permission to Dance on Stage - LA   \n",
       "1          63  2022  tt19121744              Gabriel's Rapture: Part II   \n",
       "2          76  2022  tt22301428         Franco Escamilla: Eavesdropping   \n",
       "\n",
       "                               keywords                     genre  \\\n",
       "0  ['concert', 'concert film', 'k-pop']  ['Music', 'Documentary']   \n",
       "1                                    []               ['Romance']   \n",
       "2                   ['stand-up comedy']                ['Comedy']   \n",
       "\n",
       "                         director writer  \\\n",
       "0  ['Sam Wrench', 'Park Jun-soo']     []   \n",
       "1                  ['Tosca Musk']     []   \n",
       "2               ['Claude Shires']     []   \n",
       "\n",
       "                                                cast  \\\n",
       "0  ['Kim Nam-joon', 'Kim Seok-jin', 'Min Yoon-gi'...   \n",
       "1  ['Melanie Zanetti', 'Giulio Berruti', 'James A...   \n",
       "2                               ['Franco Escamilla']   \n",
       "\n",
       "                      backdrop_path original_language  \\\n",
       "0  /4IMn2EqCBb4n4r6FODOP7fJQIdi.jpg                ko   \n",
       "1  /gf93HbjBrmT9PE9yaW9Wl6JGIdT.jpg                en   \n",
       "2  /4ig7xlM8r3rxLZadMHqGGntPkyq.jpg                es   \n",
       "\n",
       "                        poster_path  \n",
       "0  /9pNGRpOOQpZtqMLncEcQDv86OkW.jpg  \n",
       "1  /2DtnVEwBJKL5aUlLAyZASmQpWn8.jpg  \n",
       "2   /cLaTeAG7kq4x39MVqbrwGEvzLJ.jpg  "
      ]
     },
     "execution_count": 6,
     "metadata": {},
     "output_type": "execute_result"
    }
   ],
   "source": [
    "data = pd.read_csv(\"checkpoint_data2.csv\")\n",
    "data.head(3)"
   ]
  },
  {
   "cell_type": "code",
   "execution_count": 7,
   "id": "6cb88a1a",
   "metadata": {
    "ExecuteTime": {
     "end_time": "2023-04-07T08:16:45.477889Z",
     "start_time": "2023-04-07T08:16:45.470151Z"
    }
   },
   "outputs": [
    {
     "data": {
      "text/plain": [
       "(28636, 15)"
      ]
     },
     "execution_count": 7,
     "metadata": {},
     "output_type": "execute_result"
    }
   ],
   "source": [
    "data.shape"
   ]
  },
  {
   "cell_type": "code",
   "execution_count": 8,
   "id": "6d61038b",
   "metadata": {
    "ExecuteTime": {
     "end_time": "2023-04-07T08:16:50.428925Z",
     "start_time": "2023-04-07T08:16:50.324191Z"
    }
   },
   "outputs": [
    {
     "name": "stdout",
     "output_type": "stream",
     "text": [
      "<class 'pandas.core.frame.DataFrame'>\n",
      "RangeIndex: 28636 entries, 0 to 28635\n",
      "Data columns (total 15 columns):\n",
      " #   Column             Non-Null Count  Dtype  \n",
      "---  ------             --------------  -----  \n",
      " 0   id                 28636 non-null  int64  \n",
      " 1   overview           28636 non-null  object \n",
      " 2   vote_average       28636 non-null  float64\n",
      " 3   vote_count         28636 non-null  int64  \n",
      " 4   year               28636 non-null  int64  \n",
      " 5   imdb_id            28611 non-null  object \n",
      " 6   title              28636 non-null  object \n",
      " 7   keywords           28636 non-null  object \n",
      " 8   genre              28636 non-null  object \n",
      " 9   director           28636 non-null  object \n",
      " 10  writer             28636 non-null  object \n",
      " 11  cast               28636 non-null  object \n",
      " 12  backdrop_path      27971 non-null  object \n",
      " 13  original_language  28636 non-null  object \n",
      " 14  poster_path        28636 non-null  object \n",
      "dtypes: float64(1), int64(3), object(11)\n",
      "memory usage: 3.3+ MB\n"
     ]
    }
   ],
   "source": [
    "data.info()"
   ]
  },
  {
   "cell_type": "code",
   "execution_count": 9,
   "id": "6d3b14e7",
   "metadata": {
    "ExecuteTime": {
     "end_time": "2023-04-07T08:16:51.259732Z",
     "start_time": "2023-04-07T08:16:51.245220Z"
    }
   },
   "outputs": [
    {
     "name": "stdout",
     "output_type": "stream",
     "text": [
      "<class 'numpy.int64'> id\n",
      "<class 'str'> overview\n",
      "<class 'numpy.float64'> vote_average\n",
      "<class 'numpy.int64'> vote_count\n",
      "<class 'numpy.int64'> year\n",
      "<class 'str'> imdb_id\n",
      "<class 'str'> title\n",
      "<class 'str'> keywords\n",
      "<class 'str'> genre\n",
      "<class 'str'> director\n",
      "<class 'str'> writer\n",
      "<class 'str'> cast\n",
      "<class 'str'> backdrop_path\n",
      "<class 'str'> original_language\n",
      "<class 'str'> poster_path\n"
     ]
    }
   ],
   "source": [
    "for i in data.columns:\n",
    "    print(type(data.loc[0,i]),i)"
   ]
  },
  {
   "cell_type": "code",
   "execution_count": 10,
   "id": "1ce88bb5",
   "metadata": {
    "ExecuteTime": {
     "end_time": "2023-04-07T08:18:11.327444Z",
     "start_time": "2023-04-07T08:18:11.321418Z"
    }
   },
   "outputs": [],
   "source": [
    "import ast\n",
    "import re"
   ]
  },
  {
   "cell_type": "code",
   "execution_count": 11,
   "id": "7a791cf6",
   "metadata": {
    "ExecuteTime": {
     "end_time": "2023-04-07T08:18:12.513499Z",
     "start_time": "2023-04-07T08:18:12.497293Z"
    }
   },
   "outputs": [],
   "source": [
    "def remove_special_chars(text):\n",
    "    pattern = r'[^\\w\\s]'\n",
    "    return re.sub(pattern, '', text)"
   ]
  },
  {
   "cell_type": "code",
   "execution_count": 12,
   "id": "7c6af0c6",
   "metadata": {
    "ExecuteTime": {
     "end_time": "2023-04-07T08:18:13.603662Z",
     "start_time": "2023-04-07T08:18:13.427566Z"
    }
   },
   "outputs": [],
   "source": [
    "data['overview']=data['overview'].apply(remove_special_chars)"
   ]
  },
  {
   "cell_type": "code",
   "execution_count": 13,
   "id": "50270bae",
   "metadata": {
    "ExecuteTime": {
     "end_time": "2023-04-07T08:18:14.572414Z",
     "start_time": "2023-04-07T08:18:14.408156Z"
    }
   },
   "outputs": [],
   "source": [
    "data['overview']=data['overview'].apply(lambda x : x.split())"
   ]
  },
  {
   "cell_type": "code",
   "execution_count": 14,
   "id": "da78ee62",
   "metadata": {
    "ExecuteTime": {
     "end_time": "2023-04-07T08:18:17.597337Z",
     "start_time": "2023-04-07T08:18:15.966163Z"
    }
   },
   "outputs": [],
   "source": [
    "data['genre'] = data['genre'].apply(ast.literal_eval)\n",
    "data['cast'] = data['cast'].apply(ast.literal_eval)\n",
    "data['keywords'] = data['keywords'].apply(ast.literal_eval)\n",
    "data['director'] = data['director'].apply(ast.literal_eval)\n",
    "data['writer'] = data['writer'].apply(ast.literal_eval)"
   ]
  },
  {
   "cell_type": "code",
   "execution_count": 15,
   "id": "6c8e5a81",
   "metadata": {
    "ExecuteTime": {
     "end_time": "2023-04-07T08:18:19.322842Z",
     "start_time": "2023-04-07T08:18:18.991793Z"
    }
   },
   "outputs": [],
   "source": [
    "data['genre'] = data['genre'].apply(lambda x : [i.replace(\" \",\"\") for i in x])\n",
    "data['cast'] = data['cast'].apply(lambda x : [i.replace(\" \",\"\") for i in x])\n",
    "data['keywords'] = data['keywords'].apply(lambda x : [i.replace(\" \",\"\") for i in x])\n",
    "data['director'] = data['director'].apply(lambda x : [i.replace(\" \",\"\") for i in x])\n",
    "data['writer'] = data['writer'].apply(lambda x : [i.replace(\" \",\"\") for i in x])"
   ]
  },
  {
   "cell_type": "code",
   "execution_count": 16,
   "id": "d2bce6fe",
   "metadata": {
    "ExecuteTime": {
     "end_time": "2023-04-07T08:18:21.007569Z",
     "start_time": "2023-04-07T08:18:20.994640Z"
    }
   },
   "outputs": [
    {
     "name": "stdout",
     "output_type": "stream",
     "text": [
      "<class 'numpy.int64'> id\n",
      "<class 'list'> overview\n",
      "<class 'numpy.float64'> vote_average\n",
      "<class 'numpy.int64'> vote_count\n",
      "<class 'numpy.int64'> year\n",
      "<class 'str'> imdb_id\n",
      "<class 'str'> title\n",
      "<class 'list'> keywords\n",
      "<class 'list'> genre\n",
      "<class 'list'> director\n",
      "<class 'list'> writer\n",
      "<class 'list'> cast\n",
      "<class 'str'> backdrop_path\n",
      "<class 'str'> original_language\n",
      "<class 'str'> poster_path\n"
     ]
    }
   ],
   "source": [
    "for i in data.columns:\n",
    "    print(type(data.loc[0,i]),i)"
   ]
  },
  {
   "cell_type": "code",
   "execution_count": 17,
   "id": "f916f042",
   "metadata": {
    "ExecuteTime": {
     "end_time": "2023-04-07T08:18:24.891359Z",
     "start_time": "2023-04-07T08:18:24.650095Z"
    }
   },
   "outputs": [],
   "source": [
    "data['tags'] =  data['genre'] + data['cast'] + data['keywords'] + data['director'] + data['writer'] + data['overview']"
   ]
  },
  {
   "cell_type": "code",
   "execution_count": 18,
   "id": "0cddf306",
   "metadata": {
    "ExecuteTime": {
     "end_time": "2023-04-07T08:18:25.717388Z",
     "start_time": "2023-04-07T08:18:25.673388Z"
    }
   },
   "outputs": [
    {
     "data": {
      "text/html": [
       "<div>\n",
       "<style scoped>\n",
       "    .dataframe tbody tr th:only-of-type {\n",
       "        vertical-align: middle;\n",
       "    }\n",
       "\n",
       "    .dataframe tbody tr th {\n",
       "        vertical-align: top;\n",
       "    }\n",
       "\n",
       "    .dataframe thead th {\n",
       "        text-align: right;\n",
       "    }\n",
       "</style>\n",
       "<table border=\"1\" class=\"dataframe\">\n",
       "  <thead>\n",
       "    <tr style=\"text-align: right;\">\n",
       "      <th></th>\n",
       "      <th>id</th>\n",
       "      <th>overview</th>\n",
       "      <th>vote_average</th>\n",
       "      <th>vote_count</th>\n",
       "      <th>year</th>\n",
       "      <th>imdb_id</th>\n",
       "      <th>title</th>\n",
       "      <th>keywords</th>\n",
       "      <th>genre</th>\n",
       "      <th>director</th>\n",
       "      <th>writer</th>\n",
       "      <th>cast</th>\n",
       "      <th>backdrop_path</th>\n",
       "      <th>original_language</th>\n",
       "      <th>poster_path</th>\n",
       "      <th>tags</th>\n",
       "    </tr>\n",
       "  </thead>\n",
       "  <tbody>\n",
       "    <tr>\n",
       "      <th>26617</th>\n",
       "      <td>27085</td>\n",
       "      <td>[During, World, War, I, a, German, Uboat, sink...</td>\n",
       "      <td>5.7</td>\n",
       "      <td>136</td>\n",
       "      <td>1974</td>\n",
       "      <td>tt0073260</td>\n",
       "      <td>The Land That Time Forgot</td>\n",
       "      <td>[submarine, basedonnovelorbook, island, dinosa...</td>\n",
       "      <td>[Adventure, Fantasy, ScienceFiction]</td>\n",
       "      <td>[KevinConnor]</td>\n",
       "      <td>[]</td>\n",
       "      <td>[DougMcClure, JohnMcEnery, SusanPenhaligon, Ke...</td>\n",
       "      <td>/wkwh2hbvZe6T6tKx1BLL67JTqbK.jpg</td>\n",
       "      <td>en</td>\n",
       "      <td>/2Jtm4aP4kj4vHimFfnLqjnm8LqF.jpg</td>\n",
       "      <td>[Adventure, Fantasy, ScienceFiction, DougMcClu...</td>\n",
       "    </tr>\n",
       "    <tr>\n",
       "      <th>19126</th>\n",
       "      <td>14245</td>\n",
       "      <td>[Sergeant, Thomas, Beckett, is, back, and, thi...</td>\n",
       "      <td>5.4</td>\n",
       "      <td>113</td>\n",
       "      <td>2002</td>\n",
       "      <td>tt0338450</td>\n",
       "      <td>Sniper 2</td>\n",
       "      <td>[lossoflovedone, gun, sniper, bloodsplatter, s...</td>\n",
       "      <td>[Action]</td>\n",
       "      <td>[CraigR.Baxley]</td>\n",
       "      <td>[]</td>\n",
       "      <td>[TomBerenger, BokeemWoodbine, ErikaMarozsán, T...</td>\n",
       "      <td>/fjuKo5qtOaMbD24p5qGZ5XZFKzU.jpg</td>\n",
       "      <td>en</td>\n",
       "      <td>/dmHfc2h9bpCFOloUj54jntM0c9L.jpg</td>\n",
       "      <td>[Action, TomBerenger, BokeemWoodbine, ErikaMar...</td>\n",
       "    </tr>\n",
       "    <tr>\n",
       "      <th>22193</th>\n",
       "      <td>14534</td>\n",
       "      <td>[Rudy, grew, up, in, a, steel, mill, town, whe...</td>\n",
       "      <td>7.4</td>\n",
       "      <td>559</td>\n",
       "      <td>1993</td>\n",
       "      <td>tt0108002</td>\n",
       "      <td>Rudy</td>\n",
       "      <td>[americanfootball, biography, sports, familyre...</td>\n",
       "      <td>[Drama, History]</td>\n",
       "      <td>[DavidAnspaugh]</td>\n",
       "      <td>[AngeloPizzo]</td>\n",
       "      <td>[SeanAstin, JonFavreau, NedBeatty, LiliTaylor,...</td>\n",
       "      <td>/drFnj14MtSpWtyEMYigdFwmhwFR.jpg</td>\n",
       "      <td>en</td>\n",
       "      <td>/fAbfTCRpjHe2rprXBly55KL1dL9.jpg</td>\n",
       "      <td>[Drama, History, SeanAstin, JonFavreau, NedBea...</td>\n",
       "    </tr>\n",
       "    <tr>\n",
       "      <th>17481</th>\n",
       "      <td>11968</td>\n",
       "      <td>[When, they, take, some, friends, on, an, extr...</td>\n",
       "      <td>5.9</td>\n",
       "      <td>1316</td>\n",
       "      <td>2005</td>\n",
       "      <td>tt0378109</td>\n",
       "      <td>Into the Blue</td>\n",
       "      <td>[diving, treasure, cocaine, shipwreck, sharkat...</td>\n",
       "      <td>[Action, Thriller, Adventure, Crime]</td>\n",
       "      <td>[JohnStockwell]</td>\n",
       "      <td>[]</td>\n",
       "      <td>[PaulWalker, JessicaAlba, ScottCaan, AshleySco...</td>\n",
       "      <td>/bgYcrIYjoaoZAJY9rvdwGpyIvrM.jpg</td>\n",
       "      <td>en</td>\n",
       "      <td>/h5oXcjRu0EOiAxSxYuGq58897tu.jpg</td>\n",
       "      <td>[Action, Thriller, Adventure, Crime, PaulWalke...</td>\n",
       "    </tr>\n",
       "    <tr>\n",
       "      <th>26145</th>\n",
       "      <td>11586</td>\n",
       "      <td>[Bizarre, nightmares, plague, Regan, MacNeil, ...</td>\n",
       "      <td>4.5</td>\n",
       "      <td>574</td>\n",
       "      <td>1977</td>\n",
       "      <td>tt0076009</td>\n",
       "      <td>Exorcist II: The Heretic</td>\n",
       "      <td>[exorcism, religionandsupernatural, examinatio...</td>\n",
       "      <td>[Drama, Horror, Thriller]</td>\n",
       "      <td>[JohnBoorman, RospoPallenberg]</td>\n",
       "      <td>[RospoPallenberg, WilliamGoodhart]</td>\n",
       "      <td>[LindaBlair, LouiseFletcher, MaxvonSydow, Kitt...</td>\n",
       "      <td>/wyRJPq5lUy7V5ETiiwihff9wl3G.jpg</td>\n",
       "      <td>en</td>\n",
       "      <td>/g9i3LTMYLRHvCYSKimZEfd1Vqy7.jpg</td>\n",
       "      <td>[Drama, Horror, Thriller, LindaBlair, LouiseFl...</td>\n",
       "    </tr>\n",
       "    <tr>\n",
       "      <th>19859</th>\n",
       "      <td>35650</td>\n",
       "      <td>[Bibiane, 25, is, successful, but, finds, her,...</td>\n",
       "      <td>6.4</td>\n",
       "      <td>129</td>\n",
       "      <td>2000</td>\n",
       "      <td>tt0220627</td>\n",
       "      <td>Maelstrom</td>\n",
       "      <td>[abortion]</td>\n",
       "      <td>[Drama, Comedy]</td>\n",
       "      <td>[DenisVilleneuve]</td>\n",
       "      <td>[DenisVilleneuve]</td>\n",
       "      <td>[Marie-JoséeCroze, Jean-NicolasVerreault, Step...</td>\n",
       "      <td>/3fiM4D9Ekd88Nd5ifWTfvjupSoW.jpg</td>\n",
       "      <td>fr</td>\n",
       "      <td>/knhWhSDOEPcWed5ljKcJVnXbH7.jpg</td>\n",
       "      <td>[Drama, Comedy, Marie-JoséeCroze, Jean-Nicolas...</td>\n",
       "    </tr>\n",
       "  </tbody>\n",
       "</table>\n",
       "</div>"
      ],
      "text/plain": [
       "          id                                           overview  vote_average  \\\n",
       "26617  27085  [During, World, War, I, a, German, Uboat, sink...           5.7   \n",
       "19126  14245  [Sergeant, Thomas, Beckett, is, back, and, thi...           5.4   \n",
       "22193  14534  [Rudy, grew, up, in, a, steel, mill, town, whe...           7.4   \n",
       "17481  11968  [When, they, take, some, friends, on, an, extr...           5.9   \n",
       "26145  11586  [Bizarre, nightmares, plague, Regan, MacNeil, ...           4.5   \n",
       "19859  35650  [Bibiane, 25, is, successful, but, finds, her,...           6.4   \n",
       "\n",
       "       vote_count  year    imdb_id                      title  \\\n",
       "26617         136  1974  tt0073260  The Land That Time Forgot   \n",
       "19126         113  2002  tt0338450                   Sniper 2   \n",
       "22193         559  1993  tt0108002                       Rudy   \n",
       "17481        1316  2005  tt0378109              Into the Blue   \n",
       "26145         574  1977  tt0076009   Exorcist II: The Heretic   \n",
       "19859         129  2000  tt0220627                  Maelstrom   \n",
       "\n",
       "                                                keywords  \\\n",
       "26617  [submarine, basedonnovelorbook, island, dinosa...   \n",
       "19126  [lossoflovedone, gun, sniper, bloodsplatter, s...   \n",
       "22193  [americanfootball, biography, sports, familyre...   \n",
       "17481  [diving, treasure, cocaine, shipwreck, sharkat...   \n",
       "26145  [exorcism, religionandsupernatural, examinatio...   \n",
       "19859                                         [abortion]   \n",
       "\n",
       "                                      genre                        director  \\\n",
       "26617  [Adventure, Fantasy, ScienceFiction]                   [KevinConnor]   \n",
       "19126                              [Action]                 [CraigR.Baxley]   \n",
       "22193                      [Drama, History]                 [DavidAnspaugh]   \n",
       "17481  [Action, Thriller, Adventure, Crime]                 [JohnStockwell]   \n",
       "26145             [Drama, Horror, Thriller]  [JohnBoorman, RospoPallenberg]   \n",
       "19859                       [Drama, Comedy]               [DenisVilleneuve]   \n",
       "\n",
       "                                   writer  \\\n",
       "26617                                  []   \n",
       "19126                                  []   \n",
       "22193                       [AngeloPizzo]   \n",
       "17481                                  []   \n",
       "26145  [RospoPallenberg, WilliamGoodhart]   \n",
       "19859                   [DenisVilleneuve]   \n",
       "\n",
       "                                                    cast  \\\n",
       "26617  [DougMcClure, JohnMcEnery, SusanPenhaligon, Ke...   \n",
       "19126  [TomBerenger, BokeemWoodbine, ErikaMarozsán, T...   \n",
       "22193  [SeanAstin, JonFavreau, NedBeatty, LiliTaylor,...   \n",
       "17481  [PaulWalker, JessicaAlba, ScottCaan, AshleySco...   \n",
       "26145  [LindaBlair, LouiseFletcher, MaxvonSydow, Kitt...   \n",
       "19859  [Marie-JoséeCroze, Jean-NicolasVerreault, Step...   \n",
       "\n",
       "                          backdrop_path original_language  \\\n",
       "26617  /wkwh2hbvZe6T6tKx1BLL67JTqbK.jpg                en   \n",
       "19126  /fjuKo5qtOaMbD24p5qGZ5XZFKzU.jpg                en   \n",
       "22193  /drFnj14MtSpWtyEMYigdFwmhwFR.jpg                en   \n",
       "17481  /bgYcrIYjoaoZAJY9rvdwGpyIvrM.jpg                en   \n",
       "26145  /wyRJPq5lUy7V5ETiiwihff9wl3G.jpg                en   \n",
       "19859  /3fiM4D9Ekd88Nd5ifWTfvjupSoW.jpg                fr   \n",
       "\n",
       "                            poster_path  \\\n",
       "26617  /2Jtm4aP4kj4vHimFfnLqjnm8LqF.jpg   \n",
       "19126  /dmHfc2h9bpCFOloUj54jntM0c9L.jpg   \n",
       "22193  /fAbfTCRpjHe2rprXBly55KL1dL9.jpg   \n",
       "17481  /h5oXcjRu0EOiAxSxYuGq58897tu.jpg   \n",
       "26145  /g9i3LTMYLRHvCYSKimZEfd1Vqy7.jpg   \n",
       "19859   /knhWhSDOEPcWed5ljKcJVnXbH7.jpg   \n",
       "\n",
       "                                                    tags  \n",
       "26617  [Adventure, Fantasy, ScienceFiction, DougMcClu...  \n",
       "19126  [Action, TomBerenger, BokeemWoodbine, ErikaMar...  \n",
       "22193  [Drama, History, SeanAstin, JonFavreau, NedBea...  \n",
       "17481  [Action, Thriller, Adventure, Crime, PaulWalke...  \n",
       "26145  [Drama, Horror, Thriller, LindaBlair, LouiseFl...  \n",
       "19859  [Drama, Comedy, Marie-JoséeCroze, Jean-Nicolas...  "
      ]
     },
     "execution_count": 18,
     "metadata": {},
     "output_type": "execute_result"
    }
   ],
   "source": [
    "data.sample(6)"
   ]
  },
  {
   "cell_type": "code",
   "execution_count": 19,
   "id": "e3216888",
   "metadata": {
    "ExecuteTime": {
     "end_time": "2023-04-07T08:18:41.982947Z",
     "start_time": "2023-04-07T08:18:41.975254Z"
    }
   },
   "outputs": [
    {
     "data": {
      "text/plain": [
       "array([list(['Music', 'Documentary', 'KimNam-joon', 'KimSeok-jin', 'MinYoon-gi', 'JungHo-seok', 'ParkJi-min', 'concert', 'concertfilm', 'k-pop', 'SamWrench', 'ParkJun-soo', 'Purple', 'colors', 'the', 'city', 'of', 'Los', 'Angeles', 'as', 'BTS', 'brings', 'their', 'Permission', 'to', 'Dance', 'concert', 'to', 'SoFi', 'Stadium', 'for', 'the', 'first', 'time', 'in', 'two', 'years', 'In', 'a', 'stadium', 'radiating', 'anticipation', 'and', 'cheer', 'splendid', 'performances', 'from', 'On', 'to', 'Permission', 'to', 'Dance', 'glorify', 'the', 'stage', 'that', 'now', 'comes', 'to', 'life', 'on', 'screen', 'Be', 'united', 'once', 'again', 'by', 'the', 'power', 'of', 'music']),\n",
       "       list(['Romance', 'MelanieZanetti', 'GiulioBerruti', 'JamesAndrewFraser', 'MargauxBrooke', 'ToscaMusk', 'In', 'the', 'fifth', 'installment', 'of', 'the', 'Gabriels', 'Inferno', 'series', 'Gabriel', 'and', 'Julias', 'happiness', 'is', 'threatened', 'by', 'a', 'conspiring', 'student', 'and', 'academic', 'politics', 'When', 'Gabriel', 'is', 'confronted', 'by', 'the', 'university', 'administration', 'will', 'he', 'succumb', 'to', 'Dantes', 'fate', 'Or', 'will', 'he', 'fight', 'to', 'keep', 'Julia', 'his', 'Beatrice', 'forever']),\n",
       "       list(['Comedy', 'FrancoEscamilla', 'stand-upcomedy', 'ClaudeShires', 'Franco', 'Escamilla', 'takes', 'the', 'stage', 'in', 'California', 'for', 'a', 'comedy', 'special', 'filled', 'with', 'humorous', 'observations', 'on', 'gossiping', 'the', 'pandemic', 'and', 'airport', 'experiences']),\n",
       "       ...,\n",
       "       list(['Horror', 'Thriller', 'RichardCarlson', 'SusanGordon', 'LugeneSanders', 'JuliReding', 'JoeTurkel', 'beach', 'blackmail', 'island', 'lighthouse', 'haunting', 'disembodiedhead', 'pianist', 'ghost', 'disembodiedhand', 'BertI.Gordon', 'A', 'jazz', 'pianist', 'is', 'haunted', 'by', 'his', 'dead', 'exlovers', 'crawling', 'hand', 'and', 'floating', 'head']),\n",
       "       list(['ScienceFiction', 'OldřichLukeš', 'IgnacyMachowski', 'JuliusOngewe', 'MichailN.Postnikow', 'KurtRackelmann', 'spacecraft', 'space', 'alien', 'KurtMaetzig', 'WolfgangKohlhaase', 'GüntherRücker', 'KurtMaetzig', 'GünterReisch', 'JanFethke', 'AlexanderStenbock-Fermor', 'A', 'mysterious', 'magnetic', 'spool', 'found', 'during', 'a', 'construction', 'project', 'is', 'discovered', 'to', 'have', 'originated', 'from', 'Venus', 'A', 'rocket', 'expedition', 'to', 'Venus', 'is', 'launched', 'to', 'discover', 'the', 'origin', 'of', 'the', 'spool', 'and', 'the', 'race', 'that', 'created', 'it']),\n",
       "       list(['Mystery', 'Romance', 'ScienceFiction', 'Drama', 'BetsyJones-Moreland', 'AntonyCarbone', 'RobertTowne', 'island', 'disaster', 'marooned', 'RogerCorman', 'Harold', 'Gern', 'a', 'shady', 'businessman', 'from', 'New', 'York', 'is', 'spending', 'a', 'holiday', 'in', 'Puerto', 'Rico', 'with', 'his', 'attractive', 'wife', 'Evelyn', 'They', 'are', 'joined', 'by', 'Martin', 'Joyce', 'Harolds', 'lawyer', 'who', 'has', 'come', 'to', 'discuss', 'the', 'latest', 'indictment', 'Harold', 'invites', 'him', 'along', 'on', 'a', 'boat', 'trip', 'during', 'which', 'all', 'three', 'try', 'out', 'some', 'newly', 'bought', 'scuba', 'diving', 'equipment', 'When', 'they', 'resurface', 'they', 'find', 'out', 'that', 'the', 'world', 'has', 'changed', 'forever'])],\n",
       "      dtype=object)"
      ]
     },
     "execution_count": 19,
     "metadata": {},
     "output_type": "execute_result"
    }
   ],
   "source": [
    "data['tags'].values"
   ]
  },
  {
   "cell_type": "code",
   "execution_count": 20,
   "id": "3dfe8a02",
   "metadata": {
    "ExecuteTime": {
     "end_time": "2023-04-07T08:18:45.344238Z",
     "start_time": "2023-04-07T08:18:45.262307Z"
    }
   },
   "outputs": [],
   "source": [
    "data['tags'] = data['tags'].apply(lambda x : \" \".join(x))"
   ]
  },
  {
   "cell_type": "code",
   "execution_count": 21,
   "id": "fd6259a5",
   "metadata": {
    "ExecuteTime": {
     "end_time": "2023-04-07T08:18:50.120694Z",
     "start_time": "2023-04-07T08:18:50.059007Z"
    }
   },
   "outputs": [
    {
     "data": {
      "text/plain": [
       "id                     0\n",
       "overview               0\n",
       "vote_average           0\n",
       "vote_count             0\n",
       "year                   0\n",
       "imdb_id               25\n",
       "title                  0\n",
       "keywords               0\n",
       "genre                  0\n",
       "director               0\n",
       "writer                 0\n",
       "cast                   0\n",
       "backdrop_path        665\n",
       "original_language      0\n",
       "poster_path            0\n",
       "tags                   0\n",
       "dtype: int64"
      ]
     },
     "execution_count": 21,
     "metadata": {},
     "output_type": "execute_result"
    }
   ],
   "source": [
    "data.isnull().sum()"
   ]
  },
  {
   "cell_type": "code",
   "execution_count": 22,
   "id": "dc603f5c",
   "metadata": {
    "ExecuteTime": {
     "end_time": "2023-04-07T08:18:53.365476Z",
     "start_time": "2023-04-07T08:18:53.354699Z"
    }
   },
   "outputs": [
    {
     "data": {
      "text/plain": [
       "array(['Music Documentary KimNam-joon KimSeok-jin MinYoon-gi JungHo-seok ParkJi-min concert concertfilm k-pop SamWrench ParkJun-soo Purple colors the city of Los Angeles as BTS brings their Permission to Dance concert to SoFi Stadium for the first time in two years In a stadium radiating anticipation and cheer splendid performances from On to Permission to Dance glorify the stage that now comes to life on screen Be united once again by the power of music',\n",
       "       'Romance MelanieZanetti GiulioBerruti JamesAndrewFraser MargauxBrooke ToscaMusk In the fifth installment of the Gabriels Inferno series Gabriel and Julias happiness is threatened by a conspiring student and academic politics When Gabriel is confronted by the university administration will he succumb to Dantes fate Or will he fight to keep Julia his Beatrice forever',\n",
       "       'Comedy FrancoEscamilla stand-upcomedy ClaudeShires Franco Escamilla takes the stage in California for a comedy special filled with humorous observations on gossiping the pandemic and airport experiences',\n",
       "       ...,\n",
       "       'Horror Thriller RichardCarlson SusanGordon LugeneSanders JuliReding JoeTurkel beach blackmail island lighthouse haunting disembodiedhead pianist ghost disembodiedhand BertI.Gordon A jazz pianist is haunted by his dead exlovers crawling hand and floating head',\n",
       "       'ScienceFiction OldřichLukeš IgnacyMachowski JuliusOngewe MichailN.Postnikow KurtRackelmann spacecraft space alien KurtMaetzig WolfgangKohlhaase GüntherRücker KurtMaetzig GünterReisch JanFethke AlexanderStenbock-Fermor A mysterious magnetic spool found during a construction project is discovered to have originated from Venus A rocket expedition to Venus is launched to discover the origin of the spool and the race that created it',\n",
       "       'Mystery Romance ScienceFiction Drama BetsyJones-Moreland AntonyCarbone RobertTowne island disaster marooned RogerCorman Harold Gern a shady businessman from New York is spending a holiday in Puerto Rico with his attractive wife Evelyn They are joined by Martin Joyce Harolds lawyer who has come to discuss the latest indictment Harold invites him along on a boat trip during which all three try out some newly bought scuba diving equipment When they resurface they find out that the world has changed forever'],\n",
       "      dtype=object)"
      ]
     },
     "execution_count": 22,
     "metadata": {},
     "output_type": "execute_result"
    }
   ],
   "source": [
    "data['tags'].values"
   ]
  },
  {
   "cell_type": "markdown",
   "id": "39f6b43f",
   "metadata": {},
   "source": [
    "## Stemming using nltk"
   ]
  },
  {
   "cell_type": "code",
   "execution_count": 23,
   "id": "65abe074",
   "metadata": {
    "ExecuteTime": {
     "end_time": "2023-04-07T08:18:58.459210Z",
     "start_time": "2023-04-07T08:18:55.543451Z"
    }
   },
   "outputs": [],
   "source": [
    "import nltk"
   ]
  },
  {
   "cell_type": "code",
   "execution_count": 24,
   "id": "ef55e60b",
   "metadata": {
    "ExecuteTime": {
     "end_time": "2023-04-07T08:18:58.475337Z",
     "start_time": "2023-04-07T08:18:58.461164Z"
    }
   },
   "outputs": [],
   "source": [
    "from nltk.stem.porter import PorterStemmer\n",
    "ps = PorterStemmer()"
   ]
  },
  {
   "cell_type": "code",
   "execution_count": 25,
   "id": "6bbd7ddd",
   "metadata": {
    "ExecuteTime": {
     "end_time": "2023-04-07T08:18:58.490785Z",
     "start_time": "2023-04-07T08:18:58.479261Z"
    }
   },
   "outputs": [
    {
     "data": {
      "text/plain": [
       "('love', 'love')"
      ]
     },
     "execution_count": 25,
     "metadata": {},
     "output_type": "execute_result"
    }
   ],
   "source": [
    "l = ['loved','loving']\n",
    "ps.stem(l[0]),ps.stem(l[1])"
   ]
  },
  {
   "cell_type": "code",
   "execution_count": 26,
   "id": "f4232f0e",
   "metadata": {
    "ExecuteTime": {
     "end_time": "2023-04-07T08:18:58.506938Z",
     "start_time": "2023-04-07T08:18:58.492966Z"
    }
   },
   "outputs": [
    {
     "data": {
      "text/plain": [
       "('love', 'love')"
      ]
     },
     "execution_count": 26,
     "metadata": {},
     "output_type": "execute_result"
    }
   ],
   "source": [
    "import nltk\n",
    "\n",
    "from nltk.stem.porter import PorterStemmer\n",
    "ps = PorterStemmer()\n",
    "\n",
    "l = ['loved','loving']\n",
    "ps.stem(l[0]),ps.stem(l[1])"
   ]
  },
  {
   "cell_type": "code",
   "execution_count": 27,
   "id": "cbb3cc59",
   "metadata": {
    "ExecuteTime": {
     "end_time": "2023-04-07T08:18:58.521612Z",
     "start_time": "2023-04-07T08:18:58.514457Z"
    }
   },
   "outputs": [],
   "source": [
    "def stem(text):\n",
    "    y = []\n",
    "    \n",
    "    for i in text.split():\n",
    "        y.append(ps.stem(i))\n",
    "        \n",
    "    return \" \".join(y)"
   ]
  },
  {
   "cell_type": "code",
   "execution_count": 28,
   "id": "45fc667a",
   "metadata": {
    "ExecuteTime": {
     "end_time": "2023-04-07T08:19:23.583780Z",
     "start_time": "2023-04-07T08:18:59.310407Z"
    }
   },
   "outputs": [],
   "source": [
    "data['tags_stem'] = data['tags'].apply(stem)"
   ]
  },
  {
   "cell_type": "code",
   "execution_count": 29,
   "id": "7ae9394d",
   "metadata": {
    "ExecuteTime": {
     "end_time": "2023-04-07T08:19:23.646284Z",
     "start_time": "2023-04-07T08:19:23.585620Z"
    }
   },
   "outputs": [
    {
     "data": {
      "text/html": [
       "<div>\n",
       "<style scoped>\n",
       "    .dataframe tbody tr th:only-of-type {\n",
       "        vertical-align: middle;\n",
       "    }\n",
       "\n",
       "    .dataframe tbody tr th {\n",
       "        vertical-align: top;\n",
       "    }\n",
       "\n",
       "    .dataframe thead th {\n",
       "        text-align: right;\n",
       "    }\n",
       "</style>\n",
       "<table border=\"1\" class=\"dataframe\">\n",
       "  <thead>\n",
       "    <tr style=\"text-align: right;\">\n",
       "      <th></th>\n",
       "      <th>id</th>\n",
       "      <th>overview</th>\n",
       "      <th>vote_average</th>\n",
       "      <th>vote_count</th>\n",
       "      <th>year</th>\n",
       "      <th>imdb_id</th>\n",
       "      <th>title</th>\n",
       "      <th>keywords</th>\n",
       "      <th>genre</th>\n",
       "      <th>director</th>\n",
       "      <th>writer</th>\n",
       "      <th>cast</th>\n",
       "      <th>backdrop_path</th>\n",
       "      <th>original_language</th>\n",
       "      <th>poster_path</th>\n",
       "      <th>tags</th>\n",
       "      <th>tags_stem</th>\n",
       "    </tr>\n",
       "  </thead>\n",
       "  <tbody>\n",
       "    <tr>\n",
       "      <th>19665</th>\n",
       "      <td>23160</td>\n",
       "      <td>[This, story, takes, place, in, a, small, town...</td>\n",
       "      <td>7.8</td>\n",
       "      <td>260</td>\n",
       "      <td>2000</td>\n",
       "      <td>tt0249241</td>\n",
       "      <td>Werckmeister Harmonies</td>\n",
       "      <td>[circus, philosophy, dancer, basedonnovelorboo...</td>\n",
       "      <td>[Drama]</td>\n",
       "      <td>[BélaTarr]</td>\n",
       "      <td>[LászlóKrasznahorkai]</td>\n",
       "      <td>[LarsRudolph, PeterFitz, HannaSchygulla, Alfré...</td>\n",
       "      <td>/sawBCffZJ53ua34faVhrc9AuQb5.jpg</td>\n",
       "      <td>hu</td>\n",
       "      <td>/nxWEG9JzmJx3eLE8y7CUHmaj3CE.jpg</td>\n",
       "      <td>Drama LarsRudolph PeterFitz HannaSchygulla Alf...</td>\n",
       "      <td>drama larsrudolph peterfitz hannaschygulla alf...</td>\n",
       "    </tr>\n",
       "    <tr>\n",
       "      <th>5509</th>\n",
       "      <td>464458</td>\n",
       "      <td>[Police, officer, Dev, investigates, a, double...</td>\n",
       "      <td>7.0</td>\n",
       "      <td>81</td>\n",
       "      <td>2017</td>\n",
       "      <td>tt6692354</td>\n",
       "      <td>Ittefaq</td>\n",
       "      <td>[police, doublemurder, murder, whodunit, murde...</td>\n",
       "      <td>[Crime, Thriller, Mystery]</td>\n",
       "      <td>[AbhayChopra]</td>\n",
       "      <td>[]</td>\n",
       "      <td>[AkshayeKhanna, SidharthMalhotra, SonakshiSinh...</td>\n",
       "      <td>/hB6ROJ36qUKARCRl1mHyMcHWtsh.jpg</td>\n",
       "      <td>hi</td>\n",
       "      <td>/riEnSoGJ1WubamfrNpj4N0wVdoW.jpg</td>\n",
       "      <td>Crime Thriller Mystery AkshayeKhanna SidharthM...</td>\n",
       "      <td>crime thriller mysteri akshayekhanna sidharthm...</td>\n",
       "    </tr>\n",
       "    <tr>\n",
       "      <th>21274</th>\n",
       "      <td>16355</td>\n",
       "      <td>[Sonics, arch, nemesis, Dr, Robotnik, has, bee...</td>\n",
       "      <td>6.8</td>\n",
       "      <td>46</td>\n",
       "      <td>1996</td>\n",
       "      <td>tt0237765</td>\n",
       "      <td>Sonic the Hedgehog: The Movie</td>\n",
       "      <td>[darkness, basedonvideogame, eggman, tails, kn...</td>\n",
       "      <td>[Action, Adventure, Animation, Comedy, Family,...</td>\n",
       "      <td>[KazunoriIkegami]</td>\n",
       "      <td>[MasashiKubota]</td>\n",
       "      <td>[MasamiKikuchi, HekiruShiina, JunpeiTakiguchi,...</td>\n",
       "      <td>/7rzWeyOxnQmsydb04XUAohyGd7J.jpg</td>\n",
       "      <td>ja</td>\n",
       "      <td>/uaB1frT3ZT6Wduk8toAiXtz75OZ.jpg</td>\n",
       "      <td>Action Adventure Animation Comedy Family Scien...</td>\n",
       "      <td>action adventur anim comedi famili sciencefict...</td>\n",
       "    </tr>\n",
       "    <tr>\n",
       "      <th>14834</th>\n",
       "      <td>18381</td>\n",
       "      <td>[During, the, summer, of, 1968, Leon, a, 10yea...</td>\n",
       "      <td>7.2</td>\n",
       "      <td>42</td>\n",
       "      <td>2008</td>\n",
       "      <td>tt1163752</td>\n",
       "      <td>It's Not Me, I Swear!</td>\n",
       "      <td>[]</td>\n",
       "      <td>[Comedy, Drama]</td>\n",
       "      <td>[PhilippeFalardeau]</td>\n",
       "      <td>[PhilippeFalardeau]</td>\n",
       "      <td>[AntoineL'Écuyer, SuzanneClément, DanielBrière...</td>\n",
       "      <td>/5rpFN8gimVdaknp5TjRHYsK7u7g.jpg</td>\n",
       "      <td>fr</td>\n",
       "      <td>/e2DhjSlCxh9mtV3WmAH3lhwnHCO.jpg</td>\n",
       "      <td>Comedy Drama AntoineL'Écuyer SuzanneClément Da...</td>\n",
       "      <td>comedi drama antoinel'écuy suzanneclé danielbr...</td>\n",
       "    </tr>\n",
       "    <tr>\n",
       "      <th>9746</th>\n",
       "      <td>299584</td>\n",
       "      <td>[When, a, driven, doctor, doesnt, get, the, pr...</td>\n",
       "      <td>5.9</td>\n",
       "      <td>174</td>\n",
       "      <td>2014</td>\n",
       "      <td>tt4180032</td>\n",
       "      <td>Christmas Under Wraps</td>\n",
       "      <td>[careerwoman, career, manwomanrelationship, lo...</td>\n",
       "      <td>[TVMovie, Romance]</td>\n",
       "      <td>[PeterSullivan]</td>\n",
       "      <td>[JenniferNotasShapiro]</td>\n",
       "      <td>[CandaceCameronBure, DavidO'Donnell, BrianDoyl...</td>\n",
       "      <td>/1o9hhza17nZ5Lu05MFKtat99JBK.jpg</td>\n",
       "      <td>en</td>\n",
       "      <td>/uBPISDQB1FRhJHQMID7H9DlRon6.jpg</td>\n",
       "      <td>TVMovie Romance CandaceCameronBure DavidO'Donn...</td>\n",
       "      <td>tvmovi romanc candacecameronbur davido'donnel ...</td>\n",
       "    </tr>\n",
       "    <tr>\n",
       "      <th>819</th>\n",
       "      <td>501929</td>\n",
       "      <td>[A, quirky, dysfunctional, familys, road, trip...</td>\n",
       "      <td>8.0</td>\n",
       "      <td>2347</td>\n",
       "      <td>2021</td>\n",
       "      <td>tt7979580</td>\n",
       "      <td>The Mitchells vs. the Machines</td>\n",
       "      <td>[manvsmachine, technology, dysfunctionalfamily...</td>\n",
       "      <td>[Animation, Adventure, Comedy]</td>\n",
       "      <td>[MichaelRianda]</td>\n",
       "      <td>[JeffRowe, MichaelRianda]</td>\n",
       "      <td>[AbbiJacobson, DannyMcBride, MayaRudolph, Mich...</td>\n",
       "      <td>/6ydGnzbo8s4yRNqQWPAvVSiNU8N.jpg</td>\n",
       "      <td>en</td>\n",
       "      <td>/mI2Di7HmskQQ34kz0iau6J1vr70.jpg</td>\n",
       "      <td>Animation Adventure Comedy AbbiJacobson DannyM...</td>\n",
       "      <td>anim adventur comedi abbijacobson dannymcbrid ...</td>\n",
       "    </tr>\n",
       "    <tr>\n",
       "      <th>5350</th>\n",
       "      <td>469651</td>\n",
       "      <td>[Sixteen, yearold, Nisha, lives, a, double, li...</td>\n",
       "      <td>7.4</td>\n",
       "      <td>173</td>\n",
       "      <td>2017</td>\n",
       "      <td>tt7213936</td>\n",
       "      <td>What Will People Say</td>\n",
       "      <td>[]</td>\n",
       "      <td>[Drama]</td>\n",
       "      <td>[IramHaq]</td>\n",
       "      <td>[IramHaq]</td>\n",
       "      <td>[MariaMozhdah, AdilHussain, EkavaliKhanna, Roh...</td>\n",
       "      <td>/1aMqqsMjw1nslqywHh4jNrpKkPC.jpg</td>\n",
       "      <td>no</td>\n",
       "      <td>/qPVi1soiLyfaRhLIp1ufGlhrEW0.jpg</td>\n",
       "      <td>Drama MariaMozhdah AdilHussain EkavaliKhanna R...</td>\n",
       "      <td>drama mariamozhdah adilhussain ekavalikhanna r...</td>\n",
       "    </tr>\n",
       "  </tbody>\n",
       "</table>\n",
       "</div>"
      ],
      "text/plain": [
       "           id                                           overview  \\\n",
       "19665   23160  [This, story, takes, place, in, a, small, town...   \n",
       "5509   464458  [Police, officer, Dev, investigates, a, double...   \n",
       "21274   16355  [Sonics, arch, nemesis, Dr, Robotnik, has, bee...   \n",
       "14834   18381  [During, the, summer, of, 1968, Leon, a, 10yea...   \n",
       "9746   299584  [When, a, driven, doctor, doesnt, get, the, pr...   \n",
       "819    501929  [A, quirky, dysfunctional, familys, road, trip...   \n",
       "5350   469651  [Sixteen, yearold, Nisha, lives, a, double, li...   \n",
       "\n",
       "       vote_average  vote_count  year    imdb_id  \\\n",
       "19665           7.8         260  2000  tt0249241   \n",
       "5509            7.0          81  2017  tt6692354   \n",
       "21274           6.8          46  1996  tt0237765   \n",
       "14834           7.2          42  2008  tt1163752   \n",
       "9746            5.9         174  2014  tt4180032   \n",
       "819             8.0        2347  2021  tt7979580   \n",
       "5350            7.4         173  2017  tt7213936   \n",
       "\n",
       "                                title  \\\n",
       "19665          Werckmeister Harmonies   \n",
       "5509                          Ittefaq   \n",
       "21274   Sonic the Hedgehog: The Movie   \n",
       "14834           It's Not Me, I Swear!   \n",
       "9746            Christmas Under Wraps   \n",
       "819    The Mitchells vs. the Machines   \n",
       "5350             What Will People Say   \n",
       "\n",
       "                                                keywords  \\\n",
       "19665  [circus, philosophy, dancer, basedonnovelorboo...   \n",
       "5509   [police, doublemurder, murder, whodunit, murde...   \n",
       "21274  [darkness, basedonvideogame, eggman, tails, kn...   \n",
       "14834                                                 []   \n",
       "9746   [careerwoman, career, manwomanrelationship, lo...   \n",
       "819    [manvsmachine, technology, dysfunctionalfamily...   \n",
       "5350                                                  []   \n",
       "\n",
       "                                                   genre             director  \\\n",
       "19665                                            [Drama]           [BélaTarr]   \n",
       "5509                          [Crime, Thriller, Mystery]        [AbhayChopra]   \n",
       "21274  [Action, Adventure, Animation, Comedy, Family,...    [KazunoriIkegami]   \n",
       "14834                                    [Comedy, Drama]  [PhilippeFalardeau]   \n",
       "9746                                  [TVMovie, Romance]      [PeterSullivan]   \n",
       "819                       [Animation, Adventure, Comedy]      [MichaelRianda]   \n",
       "5350                                             [Drama]            [IramHaq]   \n",
       "\n",
       "                          writer  \\\n",
       "19665      [LászlóKrasznahorkai]   \n",
       "5509                          []   \n",
       "21274            [MasashiKubota]   \n",
       "14834        [PhilippeFalardeau]   \n",
       "9746      [JenniferNotasShapiro]   \n",
       "819    [JeffRowe, MichaelRianda]   \n",
       "5350                   [IramHaq]   \n",
       "\n",
       "                                                    cast  \\\n",
       "19665  [LarsRudolph, PeterFitz, HannaSchygulla, Alfré...   \n",
       "5509   [AkshayeKhanna, SidharthMalhotra, SonakshiSinh...   \n",
       "21274  [MasamiKikuchi, HekiruShiina, JunpeiTakiguchi,...   \n",
       "14834  [AntoineL'Écuyer, SuzanneClément, DanielBrière...   \n",
       "9746   [CandaceCameronBure, DavidO'Donnell, BrianDoyl...   \n",
       "819    [AbbiJacobson, DannyMcBride, MayaRudolph, Mich...   \n",
       "5350   [MariaMozhdah, AdilHussain, EkavaliKhanna, Roh...   \n",
       "\n",
       "                          backdrop_path original_language  \\\n",
       "19665  /sawBCffZJ53ua34faVhrc9AuQb5.jpg                hu   \n",
       "5509   /hB6ROJ36qUKARCRl1mHyMcHWtsh.jpg                hi   \n",
       "21274  /7rzWeyOxnQmsydb04XUAohyGd7J.jpg                ja   \n",
       "14834  /5rpFN8gimVdaknp5TjRHYsK7u7g.jpg                fr   \n",
       "9746   /1o9hhza17nZ5Lu05MFKtat99JBK.jpg                en   \n",
       "819    /6ydGnzbo8s4yRNqQWPAvVSiNU8N.jpg                en   \n",
       "5350   /1aMqqsMjw1nslqywHh4jNrpKkPC.jpg                no   \n",
       "\n",
       "                            poster_path  \\\n",
       "19665  /nxWEG9JzmJx3eLE8y7CUHmaj3CE.jpg   \n",
       "5509   /riEnSoGJ1WubamfrNpj4N0wVdoW.jpg   \n",
       "21274  /uaB1frT3ZT6Wduk8toAiXtz75OZ.jpg   \n",
       "14834  /e2DhjSlCxh9mtV3WmAH3lhwnHCO.jpg   \n",
       "9746   /uBPISDQB1FRhJHQMID7H9DlRon6.jpg   \n",
       "819    /mI2Di7HmskQQ34kz0iau6J1vr70.jpg   \n",
       "5350   /qPVi1soiLyfaRhLIp1ufGlhrEW0.jpg   \n",
       "\n",
       "                                                    tags  \\\n",
       "19665  Drama LarsRudolph PeterFitz HannaSchygulla Alf...   \n",
       "5509   Crime Thriller Mystery AkshayeKhanna SidharthM...   \n",
       "21274  Action Adventure Animation Comedy Family Scien...   \n",
       "14834  Comedy Drama AntoineL'Écuyer SuzanneClément Da...   \n",
       "9746   TVMovie Romance CandaceCameronBure DavidO'Donn...   \n",
       "819    Animation Adventure Comedy AbbiJacobson DannyM...   \n",
       "5350   Drama MariaMozhdah AdilHussain EkavaliKhanna R...   \n",
       "\n",
       "                                               tags_stem  \n",
       "19665  drama larsrudolph peterfitz hannaschygulla alf...  \n",
       "5509   crime thriller mysteri akshayekhanna sidharthm...  \n",
       "21274  action adventur anim comedi famili sciencefict...  \n",
       "14834  comedi drama antoinel'écuy suzanneclé danielbr...  \n",
       "9746   tvmovi romanc candacecameronbur davido'donnel ...  \n",
       "819    anim adventur comedi abbijacobson dannymcbrid ...  \n",
       "5350   drama mariamozhdah adilhussain ekavalikhanna r...  "
      ]
     },
     "execution_count": 29,
     "metadata": {},
     "output_type": "execute_result"
    }
   ],
   "source": [
    "data.sample(7)"
   ]
  },
  {
   "cell_type": "code",
   "execution_count": 30,
   "id": "56140257",
   "metadata": {
    "ExecuteTime": {
     "end_time": "2023-04-07T08:19:23.662125Z",
     "start_time": "2023-04-07T08:19:23.649157Z"
    }
   },
   "outputs": [
    {
     "data": {
      "text/plain": [
       "(28636, 17)"
      ]
     },
     "execution_count": 30,
     "metadata": {},
     "output_type": "execute_result"
    }
   ],
   "source": [
    "data.shape\n"
   ]
  },
  {
   "cell_type": "markdown",
   "id": "a026d29d",
   "metadata": {},
   "source": [
    "## Vectorisation"
   ]
  },
  {
   "cell_type": "raw",
   "id": "cec7290c",
   "metadata": {
    "ExecuteTime": {
     "end_time": "2023-04-06T16:41:01.155630Z",
     "start_time": "2023-04-06T16:41:01.131427Z"
    }
   },
   "source": [
    "from sklearn.feature_extraction.text import CountVectorizer"
   ]
  },
  {
   "cell_type": "raw",
   "id": "7ead3d74",
   "metadata": {
    "ExecuteTime": {
     "end_time": "2023-04-06T16:41:01.510258Z",
     "start_time": "2023-04-06T16:41:01.499510Z"
    }
   },
   "source": [
    "cv = CountVectorizer(max_features=10000,stop_words='english')"
   ]
  },
  {
   "cell_type": "raw",
   "id": "a33f3d60",
   "metadata": {
    "ExecuteTime": {
     "start_time": "2023-04-06T13:17:24.428Z"
    }
   },
   "source": [
    "vectors = cv.fit_transform(data['tags_stem']).toarray()"
   ]
  },
  {
   "cell_type": "raw",
   "id": "5b8e8b6f",
   "metadata": {
    "ExecuteTime": {
     "end_time": "2023-04-06T16:41:21.779527Z",
     "start_time": "2023-04-06T16:41:21.748261Z"
    }
   },
   "source": [
    "vectors.shape"
   ]
  },
  {
   "cell_type": "raw",
   "id": "37a223ea",
   "metadata": {
    "ExecuteTime": {
     "end_time": "2023-04-06T16:41:23.073600Z",
     "start_time": "2023-04-06T16:41:23.034608Z"
    }
   },
   "source": [
    "cv.get_feature_names_out()"
   ]
  },
  {
   "cell_type": "raw",
   "id": "dd416f6b",
   "metadata": {
    "ExecuteTime": {
     "end_time": "2023-04-06T16:41:23.696890Z",
     "start_time": "2023-04-06T16:41:23.640164Z"
    }
   },
   "source": [
    "cv.get_feature_names()"
   ]
  },
  {
   "cell_type": "raw",
   "id": "05fc1a42",
   "metadata": {
    "ExecuteTime": {
     "end_time": "2023-04-06T16:41:24.356020Z",
     "start_time": "2023-04-06T16:41:24.323081Z"
    }
   },
   "source": [
    "len(cv.get_feature_names_out())"
   ]
  },
  {
   "cell_type": "markdown",
   "id": "1b99ff8f",
   "metadata": {},
   "source": [
    "## calculating distance using cosine distance"
   ]
  },
  {
   "cell_type": "raw",
   "id": "c0b115d6",
   "metadata": {
    "ExecuteTime": {
     "end_time": "2023-04-06T16:41:26.124069Z",
     "start_time": "2023-04-06T16:41:26.116047Z"
    }
   },
   "source": [
    "from sklearn.metrics.pairwise import cosine_similarity"
   ]
  },
  {
   "cell_type": "raw",
   "id": "1074ab08",
   "metadata": {
    "ExecuteTime": {
     "end_time": "2023-04-06T16:42:19.138113Z",
     "start_time": "2023-04-06T16:41:26.531691Z"
    }
   },
   "source": [
    "similarity_cosine = cosine_similarity(vectors)"
   ]
  },
  {
   "cell_type": "raw",
   "id": "306a2015",
   "metadata": {
    "ExecuteTime": {
     "end_time": "2023-04-06T16:42:19.311095Z",
     "start_time": "2023-04-06T16:42:19.173954Z"
    }
   },
   "source": [
    "similarity_cosine"
   ]
  },
  {
   "cell_type": "raw",
   "id": "024a8451",
   "metadata": {
    "ExecuteTime": {
     "end_time": "2023-04-06T16:42:19.336034Z",
     "start_time": "2023-04-06T16:42:19.319429Z"
    }
   },
   "source": [
    "similarity_cosine.shape"
   ]
  },
  {
   "cell_type": "raw",
   "id": "f413e2bc",
   "metadata": {
    "ExecuteTime": {
     "end_time": "2023-04-06T16:42:19.368262Z",
     "start_time": "2023-04-06T16:42:19.344063Z"
    }
   },
   "source": [
    "similarity_cosine[0]"
   ]
  },
  {
   "cell_type": "raw",
   "id": "dde26b42",
   "metadata": {
    "ExecuteTime": {
     "end_time": "2023-04-06T12:55:20.818194Z",
     "start_time": "2023-04-06T12:55:20.777505Z"
    }
   },
   "source": [
    "data.shape"
   ]
  },
  {
   "cell_type": "raw",
   "id": "f5ae3097",
   "metadata": {
    "ExecuteTime": {
     "end_time": "2023-04-06T12:55:21.096598Z",
     "start_time": "2023-04-06T12:55:20.823194Z"
    }
   },
   "source": [
    "data.tail()"
   ]
  },
  {
   "cell_type": "raw",
   "id": "833c3ba6",
   "metadata": {
    "ExecuteTime": {
     "end_time": "2023-04-07T07:57:10.378234Z",
     "start_time": "2023-04-07T07:57:10.378234Z"
    }
   },
   "source": [
    "data[data['title']=='RRR']"
   ]
  },
  {
   "cell_type": "raw",
   "id": "c59163fe",
   "metadata": {
    "ExecuteTime": {
     "end_time": "2023-04-07T07:57:10.380237Z",
     "start_time": "2023-04-07T07:57:10.380237Z"
    }
   },
   "source": [
    "data[data['title']=='The Chaperone']"
   ]
  },
  {
   "cell_type": "raw",
   "id": "8e4b2a51",
   "metadata": {
    "ExecuteTime": {
     "end_time": "2023-04-07T07:57:10.381241Z",
     "start_time": "2023-04-07T07:57:10.381241Z"
    }
   },
   "source": [
    "def recommend(movie):\n",
    "    movie_index = data[data['title']== movie].index[0]\n",
    "    distances = similarity_cosine[movie_index]\n",
    "    movies_list = sorted(list(enumerate(distances)),reverse=True,key = lambda x:x[1])[1:6]\n",
    "    \n",
    "    for i in movies_list:\n",
    "        print(data.iloc[i[0]].title)"
   ]
  },
  {
   "cell_type": "raw",
   "id": "55cd0bc1",
   "metadata": {
    "ExecuteTime": {
     "end_time": "2023-04-06T16:42:25.050290Z",
     "start_time": "2023-04-06T16:42:25.029829Z"
    }
   },
   "source": [
    "def recommend(movie):\n",
    "    movie_index = df[df['title']== movie].index[0]\n",
    "    distances = similarity_cosine[movie_index]\n",
    "    movies_list = sorted(list(enumerate(distances)),reverse=True,key = lambda x:x[1])[1:6]\n",
    "    \n",
    "    for i in movies_list:\n",
    "        print(df.iloc[i[0]].title,df.iloc[i[0]].vote_average)"
   ]
  },
  {
   "cell_type": "raw",
   "id": "af7cae30",
   "metadata": {
    "ExecuteTime": {
     "end_time": "2023-04-07T07:57:10.383233Z",
     "start_time": "2023-04-07T07:57:10.383233Z"
    }
   },
   "source": [
    "recommend('Beyond the Time Barrier')"
   ]
  },
  {
   "cell_type": "raw",
   "id": "56e41ca3",
   "metadata": {
    "ExecuteTime": {
     "end_time": "2023-04-07T07:57:10.384775Z",
     "start_time": "2023-04-07T07:57:10.384775Z"
    }
   },
   "source": [
    "recommend('Interstellar')"
   ]
  },
  {
   "cell_type": "raw",
   "id": "8059f730",
   "metadata": {
    "ExecuteTime": {
     "end_time": "2023-04-07T07:57:10.386793Z",
     "start_time": "2023-04-07T07:57:10.386793Z"
    }
   },
   "source": [
    "recommend('Harry Potter and the Half-Blood Prince')"
   ]
  },
  {
   "cell_type": "raw",
   "id": "7abc2ccb",
   "metadata": {
    "ExecuteTime": {
     "end_time": "2023-04-07T07:57:10.389791Z",
     "start_time": "2023-04-07T07:57:10.389791Z"
    }
   },
   "source": [
    "recommend('Harry Potter and the Half-Blood Prince')"
   ]
  },
  {
   "cell_type": "raw",
   "id": "f021ece7",
   "metadata": {
    "ExecuteTime": {
     "end_time": "2023-04-07T07:57:10.390791Z",
     "start_time": "2023-04-07T07:57:10.390791Z"
    },
    "scrolled": true
   },
   "source": [
    "recommend('Chandni Chowk to China')"
   ]
  },
  {
   "cell_type": "raw",
   "id": "f7aeb148",
   "metadata": {
    "ExecuteTime": {
     "end_time": "2023-04-07T07:57:10.391794Z",
     "start_time": "2023-04-07T07:57:10.391794Z"
    }
   },
   "source": [
    "recommend('Chandni Chowk to China')"
   ]
  },
  {
   "cell_type": "raw",
   "id": "f5d186d2",
   "metadata": {
    "ExecuteTime": {
     "end_time": "2023-04-07T07:57:10.394341Z",
     "start_time": "2023-04-07T07:57:10.394341Z"
    }
   },
   "source": [
    "recommend('RRR')"
   ]
  },
  {
   "cell_type": "raw",
   "id": "27ac28c4",
   "metadata": {
    "ExecuteTime": {
     "end_time": "2023-04-07T07:57:10.396333Z",
     "start_time": "2023-04-07T07:57:10.396333Z"
    }
   },
   "source": [
    "recommend('RRR')"
   ]
  },
  {
   "cell_type": "raw",
   "id": "ad79501f",
   "metadata": {
    "ExecuteTime": {
     "end_time": "2023-04-07T07:57:10.397333Z",
     "start_time": "2023-04-07T07:57:10.397333Z"
    }
   },
   "source": [
    "data[data['title']=='I-4: Loufa kai apallagi']"
   ]
  },
  {
   "cell_type": "code",
   "execution_count": null,
   "id": "e7bd215d",
   "metadata": {},
   "outputs": [],
   "source": []
  },
  {
   "cell_type": "markdown",
   "id": "fe527a32",
   "metadata": {},
   "source": [
    "## using TfidVectorizer"
   ]
  },
  {
   "cell_type": "code",
   "execution_count": 31,
   "id": "27f4205a",
   "metadata": {
    "ExecuteTime": {
     "end_time": "2023-04-07T08:19:33.135751Z",
     "start_time": "2023-04-07T08:19:33.095287Z"
    }
   },
   "outputs": [
    {
     "data": {
      "text/html": [
       "<div>\n",
       "<style scoped>\n",
       "    .dataframe tbody tr th:only-of-type {\n",
       "        vertical-align: middle;\n",
       "    }\n",
       "\n",
       "    .dataframe tbody tr th {\n",
       "        vertical-align: top;\n",
       "    }\n",
       "\n",
       "    .dataframe thead th {\n",
       "        text-align: right;\n",
       "    }\n",
       "</style>\n",
       "<table border=\"1\" class=\"dataframe\">\n",
       "  <thead>\n",
       "    <tr style=\"text-align: right;\">\n",
       "      <th></th>\n",
       "      <th>id</th>\n",
       "      <th>overview</th>\n",
       "      <th>vote_average</th>\n",
       "      <th>vote_count</th>\n",
       "      <th>year</th>\n",
       "      <th>imdb_id</th>\n",
       "      <th>title</th>\n",
       "      <th>keywords</th>\n",
       "      <th>genre</th>\n",
       "      <th>director</th>\n",
       "      <th>writer</th>\n",
       "      <th>cast</th>\n",
       "      <th>backdrop_path</th>\n",
       "      <th>original_language</th>\n",
       "      <th>poster_path</th>\n",
       "      <th>tags</th>\n",
       "      <th>tags_stem</th>\n",
       "    </tr>\n",
       "  </thead>\n",
       "  <tbody>\n",
       "    <tr>\n",
       "      <th>0</th>\n",
       "      <td>1022102</td>\n",
       "      <td>[Purple, colors, the, city, of, Los, Angeles, ...</td>\n",
       "      <td>9.2</td>\n",
       "      <td>139</td>\n",
       "      <td>2022</td>\n",
       "      <td>tt22010428</td>\n",
       "      <td>BTS: Permission to Dance on Stage - LA</td>\n",
       "      <td>[concert, concertfilm, k-pop]</td>\n",
       "      <td>[Music, Documentary]</td>\n",
       "      <td>[SamWrench, ParkJun-soo]</td>\n",
       "      <td>[]</td>\n",
       "      <td>[KimNam-joon, KimSeok-jin, MinYoon-gi, JungHo-...</td>\n",
       "      <td>/4IMn2EqCBb4n4r6FODOP7fJQIdi.jpg</td>\n",
       "      <td>ko</td>\n",
       "      <td>/9pNGRpOOQpZtqMLncEcQDv86OkW.jpg</td>\n",
       "      <td>Music Documentary KimNam-joon KimSeok-jin MinY...</td>\n",
       "      <td>music documentari kimnam-joon kimseok-jin miny...</td>\n",
       "    </tr>\n",
       "    <tr>\n",
       "      <th>1</th>\n",
       "      <td>953553</td>\n",
       "      <td>[In, the, fifth, installment, of, the, Gabriel...</td>\n",
       "      <td>8.7</td>\n",
       "      <td>63</td>\n",
       "      <td>2022</td>\n",
       "      <td>tt19121744</td>\n",
       "      <td>Gabriel's Rapture: Part II</td>\n",
       "      <td>[]</td>\n",
       "      <td>[Romance]</td>\n",
       "      <td>[ToscaMusk]</td>\n",
       "      <td>[]</td>\n",
       "      <td>[MelanieZanetti, GiulioBerruti, JamesAndrewFra...</td>\n",
       "      <td>/gf93HbjBrmT9PE9yaW9Wl6JGIdT.jpg</td>\n",
       "      <td>en</td>\n",
       "      <td>/2DtnVEwBJKL5aUlLAyZASmQpWn8.jpg</td>\n",
       "      <td>Romance MelanieZanetti GiulioBerruti JamesAndr...</td>\n",
       "      <td>romanc melaniezanetti giulioberruti jamesandre...</td>\n",
       "    </tr>\n",
       "    <tr>\n",
       "      <th>2</th>\n",
       "      <td>1039026</td>\n",
       "      <td>[Franco, Escamilla, takes, the, stage, in, Cal...</td>\n",
       "      <td>8.7</td>\n",
       "      <td>76</td>\n",
       "      <td>2022</td>\n",
       "      <td>tt22301428</td>\n",
       "      <td>Franco Escamilla: Eavesdropping</td>\n",
       "      <td>[stand-upcomedy]</td>\n",
       "      <td>[Comedy]</td>\n",
       "      <td>[ClaudeShires]</td>\n",
       "      <td>[]</td>\n",
       "      <td>[FrancoEscamilla]</td>\n",
       "      <td>/4ig7xlM8r3rxLZadMHqGGntPkyq.jpg</td>\n",
       "      <td>es</td>\n",
       "      <td>/cLaTeAG7kq4x39MVqbrwGEvzLJ.jpg</td>\n",
       "      <td>Comedy FrancoEscamilla stand-upcomedy ClaudeSh...</td>\n",
       "      <td>comedi francoescamilla stand-upcomedi claudesh...</td>\n",
       "    </tr>\n",
       "    <tr>\n",
       "      <th>3</th>\n",
       "      <td>938567</td>\n",
       "      <td>[Takagi, and, Nishikata, are, in, their, final...</td>\n",
       "      <td>8.6</td>\n",
       "      <td>99</td>\n",
       "      <td>2022</td>\n",
       "      <td>tt15313532</td>\n",
       "      <td>Teasing Master Takagi-san: The Movie</td>\n",
       "      <td>[romanticcomedy, sliceoflife, school, basedonm...</td>\n",
       "      <td>[Animation, Comedy, Romance]</td>\n",
       "      <td>[HiroakiAkagi]</td>\n",
       "      <td>[]</td>\n",
       "      <td>[YukiKaji, RieTakahashi]</td>\n",
       "      <td>/t0voVZuqvQ0VlM2m45rVWZO5R52.jpg</td>\n",
       "      <td>ja</td>\n",
       "      <td>/kGyya4tD6mDCGjfoK9lktDkLxvy.jpg</td>\n",
       "      <td>Animation Comedy Romance YukiKaji RieTakahashi...</td>\n",
       "      <td>anim comedi romanc yukikaji rietakahashi roman...</td>\n",
       "    </tr>\n",
       "    <tr>\n",
       "      <th>4</th>\n",
       "      <td>772071</td>\n",
       "      <td>[70yearold, Malena, gets, a, second, chance, a...</td>\n",
       "      <td>8.6</td>\n",
       "      <td>212</td>\n",
       "      <td>2022</td>\n",
       "      <td>tt12076762</td>\n",
       "      <td>Cuando Sea Joven</td>\n",
       "      <td>[]</td>\n",
       "      <td>[Comedy, Fantasy]</td>\n",
       "      <td>[RaúlMartínez]</td>\n",
       "      <td>[AngélicaGudiño]</td>\n",
       "      <td>[VerónicaCastro, NatashaDupeyrón, EduardoSanta...</td>\n",
       "      <td>/ejniJnlOdtSgtbh8D7u2RxT6Uli.jpg</td>\n",
       "      <td>es</td>\n",
       "      <td>/6gIJuFHh5Lj4dNaPG3TzIMl7L68.jpg</td>\n",
       "      <td>Comedy Fantasy VerónicaCastro NatashaDupeyrón ...</td>\n",
       "      <td>comedi fantasi verónicacastro natashadupeyrón ...</td>\n",
       "    </tr>\n",
       "  </tbody>\n",
       "</table>\n",
       "</div>"
      ],
      "text/plain": [
       "        id                                           overview  vote_average  \\\n",
       "0  1022102  [Purple, colors, the, city, of, Los, Angeles, ...           9.2   \n",
       "1   953553  [In, the, fifth, installment, of, the, Gabriel...           8.7   \n",
       "2  1039026  [Franco, Escamilla, takes, the, stage, in, Cal...           8.7   \n",
       "3   938567  [Takagi, and, Nishikata, are, in, their, final...           8.6   \n",
       "4   772071  [70yearold, Malena, gets, a, second, chance, a...           8.6   \n",
       "\n",
       "   vote_count  year     imdb_id                                   title  \\\n",
       "0         139  2022  tt22010428  BTS: Permission to Dance on Stage - LA   \n",
       "1          63  2022  tt19121744              Gabriel's Rapture: Part II   \n",
       "2          76  2022  tt22301428         Franco Escamilla: Eavesdropping   \n",
       "3          99  2022  tt15313532    Teasing Master Takagi-san: The Movie   \n",
       "4         212  2022  tt12076762                        Cuando Sea Joven   \n",
       "\n",
       "                                            keywords  \\\n",
       "0                      [concert, concertfilm, k-pop]   \n",
       "1                                                 []   \n",
       "2                                   [stand-upcomedy]   \n",
       "3  [romanticcomedy, sliceoflife, school, basedonm...   \n",
       "4                                                 []   \n",
       "\n",
       "                          genre                  director            writer  \\\n",
       "0          [Music, Documentary]  [SamWrench, ParkJun-soo]                []   \n",
       "1                     [Romance]               [ToscaMusk]                []   \n",
       "2                      [Comedy]            [ClaudeShires]                []   \n",
       "3  [Animation, Comedy, Romance]            [HiroakiAkagi]                []   \n",
       "4             [Comedy, Fantasy]            [RaúlMartínez]  [AngélicaGudiño]   \n",
       "\n",
       "                                                cast  \\\n",
       "0  [KimNam-joon, KimSeok-jin, MinYoon-gi, JungHo-...   \n",
       "1  [MelanieZanetti, GiulioBerruti, JamesAndrewFra...   \n",
       "2                                  [FrancoEscamilla]   \n",
       "3                           [YukiKaji, RieTakahashi]   \n",
       "4  [VerónicaCastro, NatashaDupeyrón, EduardoSanta...   \n",
       "\n",
       "                      backdrop_path original_language  \\\n",
       "0  /4IMn2EqCBb4n4r6FODOP7fJQIdi.jpg                ko   \n",
       "1  /gf93HbjBrmT9PE9yaW9Wl6JGIdT.jpg                en   \n",
       "2  /4ig7xlM8r3rxLZadMHqGGntPkyq.jpg                es   \n",
       "3  /t0voVZuqvQ0VlM2m45rVWZO5R52.jpg                ja   \n",
       "4  /ejniJnlOdtSgtbh8D7u2RxT6Uli.jpg                es   \n",
       "\n",
       "                        poster_path  \\\n",
       "0  /9pNGRpOOQpZtqMLncEcQDv86OkW.jpg   \n",
       "1  /2DtnVEwBJKL5aUlLAyZASmQpWn8.jpg   \n",
       "2   /cLaTeAG7kq4x39MVqbrwGEvzLJ.jpg   \n",
       "3  /kGyya4tD6mDCGjfoK9lktDkLxvy.jpg   \n",
       "4  /6gIJuFHh5Lj4dNaPG3TzIMl7L68.jpg   \n",
       "\n",
       "                                                tags  \\\n",
       "0  Music Documentary KimNam-joon KimSeok-jin MinY...   \n",
       "1  Romance MelanieZanetti GiulioBerruti JamesAndr...   \n",
       "2  Comedy FrancoEscamilla stand-upcomedy ClaudeSh...   \n",
       "3  Animation Comedy Romance YukiKaji RieTakahashi...   \n",
       "4  Comedy Fantasy VerónicaCastro NatashaDupeyrón ...   \n",
       "\n",
       "                                           tags_stem  \n",
       "0  music documentari kimnam-joon kimseok-jin miny...  \n",
       "1  romanc melaniezanetti giulioberruti jamesandre...  \n",
       "2  comedi francoescamilla stand-upcomedi claudesh...  \n",
       "3  anim comedi romanc yukikaji rietakahashi roman...  \n",
       "4  comedi fantasi verónicacastro natashadupeyrón ...  "
      ]
     },
     "execution_count": 31,
     "metadata": {},
     "output_type": "execute_result"
    }
   ],
   "source": [
    "df = data[data['vote_count']>50]\n",
    "df.reset_index(drop=True,inplace=True)\n",
    "df.head()"
   ]
  },
  {
   "cell_type": "code",
   "execution_count": 32,
   "id": "7336058b",
   "metadata": {
    "ExecuteTime": {
     "end_time": "2023-04-07T08:19:33.779253Z",
     "start_time": "2023-04-07T08:19:33.761063Z"
    }
   },
   "outputs": [
    {
     "data": {
      "text/plain": [
       "(21662, 17)"
      ]
     },
     "execution_count": 32,
     "metadata": {},
     "output_type": "execute_result"
    }
   ],
   "source": [
    "df.shape"
   ]
  },
  {
   "cell_type": "code",
   "execution_count": 33,
   "id": "87a7095f",
   "metadata": {
    "ExecuteTime": {
     "end_time": "2023-04-07T08:19:36.401080Z",
     "start_time": "2023-04-07T08:19:35.513296Z"
    }
   },
   "outputs": [],
   "source": [
    "df.to_csv('final_data.csv',index=False)"
   ]
  },
  {
   "cell_type": "code",
   "execution_count": 34,
   "id": "ee879113",
   "metadata": {
    "ExecuteTime": {
     "end_time": "2023-04-07T08:19:36.416593Z",
     "start_time": "2023-04-07T08:19:36.402182Z"
    }
   },
   "outputs": [],
   "source": [
    "from sklearn.feature_extraction.text import TfidfVectorizer"
   ]
  },
  {
   "cell_type": "code",
   "execution_count": 35,
   "id": "a79c88c6",
   "metadata": {
    "ExecuteTime": {
     "end_time": "2023-04-07T08:19:36.525854Z",
     "start_time": "2023-04-07T08:19:36.519806Z"
    }
   },
   "outputs": [],
   "source": [
    "tfid_vec = TfidfVectorizer()"
   ]
  },
  {
   "cell_type": "code",
   "execution_count": 36,
   "id": "8b196c3c",
   "metadata": {
    "ExecuteTime": {
     "end_time": "2023-04-07T08:19:38.224262Z",
     "start_time": "2023-04-07T08:19:36.930379Z"
    }
   },
   "outputs": [],
   "source": [
    "feature_vectors = tfid_vec.fit_transform(df['tags_stem'])"
   ]
  },
  {
   "cell_type": "code",
   "execution_count": 37,
   "id": "6e086622",
   "metadata": {
    "ExecuteTime": {
     "end_time": "2023-04-07T08:19:38.256716Z",
     "start_time": "2023-04-07T08:19:38.227134Z"
    }
   },
   "outputs": [
    {
     "name": "stdout",
     "output_type": "stream",
     "text": [
      "  (0, 75982)\t0.07623730739100727\n",
      "  (0, 14133)\t0.04351622236617394\n",
      "  (0, 1984)\t0.08766267344813104\n",
      "  (0, 71012)\t0.08598478663122912\n",
      "  (0, 97403)\t0.09284676332608562\n",
      "  (0, 9698)\t0.05299128347396067\n",
      "  (0, 84539)\t0.12752641234810697\n",
      "  (0, 55974)\t0.05299128347396067\n",
      "  (0, 19558)\t0.06850563880399387\n",
      "  (0, 70051)\t0.07355560896793034\n",
      "  (0, 93621)\t0.04238580174064743\n",
      "  (0, 89328)\t0.10422901907780256\n",
      "  (0, 36452)\t0.17671790664179302\n",
      "  (0, 71003)\t0.08074849465472936\n",
      "  (0, 33880)\t0.0453564171417842\n",
      "  (0, 73812)\t0.0964708062969304\n",
      "  (0, 89090)\t0.16432593572447146\n",
      "  (0, 16795)\t0.13331502428404648\n",
      "  (0, 4927)\t0.023833909163756432\n",
      "  (0, 6454)\t0.14192924609305563\n",
      "  (0, 77384)\t0.13615875664725308\n",
      "  (0, 102048)\t0.061052480169256435\n",
      "  (0, 96739)\t0.058824070957430766\n",
      "  (0, 42275)\t0.055168896373059946\n",
      "  (0, 94393)\t0.06663183117156142\n",
      "  :\t:\n",
      "  (21661, 80990)\t0.14044863337135624\n",
      "  (21661, 20022)\t0.12078741861114436\n",
      "  (21661, 30581)\t0.12213364771781413\n",
      "  (21661, 88801)\t0.0971154527407478\n",
      "  (21661, 98412)\t0.2938866769699322\n",
      "  (21661, 76502)\t0.10931419516791105\n",
      "  (21661, 67219)\t0.05567404346605926\n",
      "  (21661, 32946)\t0.09267165079205932\n",
      "  (21661, 3743)\t0.08992831520641888\n",
      "  (21661, 20810)\t0.09193246098749094\n",
      "  (21661, 84292)\t0.06038238485001303\n",
      "  (21661, 77229)\t0.09039683434357816\n",
      "  (21661, 54527)\t0.11544546602882635\n",
      "  (21661, 25377)\t0.13292537198403356\n",
      "  (21661, 71304)\t0.1977114902720304\n",
      "  (21661, 43470)\t0.051878085114100164\n",
      "  (21661, 26959)\t0.07284944775958903\n",
      "  (21661, 39140)\t0.05973755645048063\n",
      "  (21661, 43228)\t0.06655496840890172\n",
      "  (21661, 93621)\t0.042429837881291795\n",
      "  (21661, 33880)\t0.04540353956208431\n",
      "  (21661, 4927)\t0.023858671073002886\n",
      "  (21661, 94722)\t0.06954015882016251\n",
      "  (21661, 70431)\t0.024458829569047585\n",
      "  (21661, 93634)\t0.06344968401541207\n"
     ]
    }
   ],
   "source": [
    "print(feature_vectors)"
   ]
  },
  {
   "cell_type": "code",
   "execution_count": 38,
   "id": "113021a7",
   "metadata": {
    "ExecuteTime": {
     "end_time": "2023-04-07T08:19:38.271705Z",
     "start_time": "2023-04-07T08:19:38.259228Z"
    }
   },
   "outputs": [],
   "source": [
    "from sklearn.metrics.pairwise import cosine_similarity"
   ]
  },
  {
   "cell_type": "code",
   "execution_count": 39,
   "id": "657e0a4a",
   "metadata": {
    "ExecuteTime": {
     "end_time": "2023-04-07T08:20:08.827832Z",
     "start_time": "2023-04-07T08:19:38.276868Z"
    }
   },
   "outputs": [],
   "source": [
    "similarity_cosine = cosine_similarity(feature_vectors)"
   ]
  },
  {
   "cell_type": "code",
   "execution_count": 40,
   "id": "b79c648e",
   "metadata": {
    "ExecuteTime": {
     "end_time": "2023-04-07T08:20:08.858447Z",
     "start_time": "2023-04-07T08:20:08.835640Z"
    }
   },
   "outputs": [],
   "source": [
    "def recommend(movie):\n",
    "    movie_index = df[df['title']== movie].index[0]\n",
    "    distances = similarity_cosine[movie_index]\n",
    "    movies_list = sorted(list(enumerate(distances)),reverse=True,key = lambda x:x[1])[1:6]\n",
    "    \n",
    "    for i in movies_list:\n",
    "        print(df.iloc[i[0]].title)"
   ]
  },
  {
   "cell_type": "code",
   "execution_count": 41,
   "id": "9e7df4d0",
   "metadata": {
    "ExecuteTime": {
     "end_time": "2023-04-07T08:20:08.920381Z",
     "start_time": "2023-04-07T08:20:08.863685Z"
    }
   },
   "outputs": [
    {
     "name": "stdout",
     "output_type": "stream",
     "text": [
      "The Beyond\n",
      "Doodlebug\n",
      "Journey to the Far Side of the Sun\n",
      "Star Wreck: In the Pirkinning\n",
      "The Colony\n"
     ]
    }
   ],
   "source": [
    "recommend('Interstellar')"
   ]
  },
  {
   "cell_type": "code",
   "execution_count": 42,
   "id": "36d9a8e1",
   "metadata": {
    "ExecuteTime": {
     "end_time": "2023-04-07T08:20:08.965921Z",
     "start_time": "2023-04-07T08:20:08.924369Z"
    }
   },
   "outputs": [
    {
     "name": "stdout",
     "output_type": "stream",
     "text": [
      "Meat Love\n",
      "Hindi Medium\n",
      "Singh Is Kinng\n",
      "Return to the 36th Chamber\n",
      "Desi Boyz\n"
     ]
    }
   ],
   "source": [
    "recommend('Chandni Chowk to China')"
   ]
  },
  {
   "cell_type": "code",
   "execution_count": 43,
   "id": "5060bedd",
   "metadata": {
    "ExecuteTime": {
     "end_time": "2023-04-07T08:20:09.012891Z",
     "start_time": "2023-04-07T08:20:08.970577Z"
    }
   },
   "outputs": [
    {
     "name": "stdout",
     "output_type": "stream",
     "text": [
      "Harry Potter and the Deathly Hallows: Part 1\n",
      "Harry Potter and the Deathly Hallows: Part 2\n",
      "Harry Potter and the Order of the Phoenix\n",
      "Harry Potter and the Chamber of Secrets\n",
      "Harry Potter and the Prisoner of Azkaban\n"
     ]
    }
   ],
   "source": [
    "recommend('Harry Potter and the Half-Blood Prince')"
   ]
  },
  {
   "cell_type": "code",
   "execution_count": 44,
   "id": "d6147da4",
   "metadata": {
    "ExecuteTime": {
     "end_time": "2023-04-07T08:20:09.058954Z",
     "start_time": "2023-04-07T08:20:09.016841Z"
    }
   },
   "outputs": [
    {
     "name": "stdout",
     "output_type": "stream",
     "text": [
      "Go Goa Gone\n",
      "Singh Is Bliing\n",
      "Ajab Prem Ki Ghazab Kahani\n",
      "Don\n",
      "Salaam Namaste\n"
     ]
    }
   ],
   "source": [
    "recommend('Dhamaal')"
   ]
  },
  {
   "cell_type": "code",
   "execution_count": 45,
   "id": "3fe747d5",
   "metadata": {
    "ExecuteTime": {
     "end_time": "2023-04-07T08:20:09.089980Z",
     "start_time": "2023-04-07T08:20:09.061207Z"
    }
   },
   "outputs": [
    {
     "name": "stdout",
     "output_type": "stream",
     "text": [
      "Go Goa Gone\n",
      "Singh Is Bliing\n",
      "Ajab Prem Ki Ghazab Kahani\n",
      "Don\n",
      "Salaam Namaste\n"
     ]
    }
   ],
   "source": [
    "recommend('Dhamaal')"
   ]
  },
  {
   "cell_type": "code",
   "execution_count": 46,
   "id": "ac8a2792",
   "metadata": {
    "ExecuteTime": {
     "end_time": "2023-04-07T08:20:09.617959Z",
     "start_time": "2023-04-07T08:20:09.093285Z"
    }
   },
   "outputs": [
    {
     "ename": "IndexError",
     "evalue": "index 0 is out of bounds for axis 0 with size 0",
     "output_type": "error",
     "traceback": [
      "\u001b[1;31m---------------------------------------------------------------------------\u001b[0m",
      "\u001b[1;31mIndexError\u001b[0m                                Traceback (most recent call last)",
      "Cell \u001b[1;32mIn[46], line 1\u001b[0m\n\u001b[1;32m----> 1\u001b[0m \u001b[43mrecommend\u001b[49m\u001b[43m(\u001b[49m\u001b[38;5;124;43m'\u001b[39;49m\u001b[38;5;124;43mDouble Dhamaal\u001b[39;49m\u001b[38;5;124;43m'\u001b[39;49m\u001b[43m)\u001b[49m\n",
      "Cell \u001b[1;32mIn[40], line 2\u001b[0m, in \u001b[0;36mrecommend\u001b[1;34m(movie)\u001b[0m\n\u001b[0;32m      1\u001b[0m \u001b[38;5;28;01mdef\u001b[39;00m \u001b[38;5;21mrecommend\u001b[39m(movie):\n\u001b[1;32m----> 2\u001b[0m     movie_index \u001b[38;5;241m=\u001b[39m \u001b[43mdf\u001b[49m\u001b[43m[\u001b[49m\u001b[43mdf\u001b[49m\u001b[43m[\u001b[49m\u001b[38;5;124;43m'\u001b[39;49m\u001b[38;5;124;43mtitle\u001b[39;49m\u001b[38;5;124;43m'\u001b[39;49m\u001b[43m]\u001b[49m\u001b[38;5;241;43m==\u001b[39;49m\u001b[43m \u001b[49m\u001b[43mmovie\u001b[49m\u001b[43m]\u001b[49m\u001b[38;5;241;43m.\u001b[39;49m\u001b[43mindex\u001b[49m\u001b[43m[\u001b[49m\u001b[38;5;241;43m0\u001b[39;49m\u001b[43m]\u001b[49m\n\u001b[0;32m      3\u001b[0m     distances \u001b[38;5;241m=\u001b[39m similarity_cosine[movie_index]\n\u001b[0;32m      4\u001b[0m     movies_list \u001b[38;5;241m=\u001b[39m \u001b[38;5;28msorted\u001b[39m(\u001b[38;5;28mlist\u001b[39m(\u001b[38;5;28menumerate\u001b[39m(distances)),reverse\u001b[38;5;241m=\u001b[39m\u001b[38;5;28;01mTrue\u001b[39;00m,key \u001b[38;5;241m=\u001b[39m \u001b[38;5;28;01mlambda\u001b[39;00m x:x[\u001b[38;5;241m1\u001b[39m])[\u001b[38;5;241m1\u001b[39m:\u001b[38;5;241m6\u001b[39m]\n",
      "File \u001b[1;32mC:\\ProgramData\\Anaconda3\\lib\\site-packages\\pandas\\core\\indexes\\base.py:5053\u001b[0m, in \u001b[0;36mIndex.__getitem__\u001b[1;34m(self, key)\u001b[0m\n\u001b[0;32m   5050\u001b[0m \u001b[38;5;28;01mif\u001b[39;00m is_integer(key) \u001b[38;5;129;01mor\u001b[39;00m is_float(key):\n\u001b[0;32m   5051\u001b[0m     \u001b[38;5;66;03m# GH#44051 exclude bool, which would return a 2d ndarray\u001b[39;00m\n\u001b[0;32m   5052\u001b[0m     key \u001b[38;5;241m=\u001b[39m com\u001b[38;5;241m.\u001b[39mcast_scalar_indexer(key, warn_float\u001b[38;5;241m=\u001b[39m\u001b[38;5;28;01mTrue\u001b[39;00m)\n\u001b[1;32m-> 5053\u001b[0m     \u001b[38;5;28;01mreturn\u001b[39;00m \u001b[43mgetitem\u001b[49m\u001b[43m(\u001b[49m\u001b[43mkey\u001b[49m\u001b[43m)\u001b[49m\n\u001b[0;32m   5055\u001b[0m \u001b[38;5;28;01mif\u001b[39;00m \u001b[38;5;28misinstance\u001b[39m(key, \u001b[38;5;28mslice\u001b[39m):\n\u001b[0;32m   5056\u001b[0m     \u001b[38;5;66;03m# This case is separated from the conditional above to avoid\u001b[39;00m\n\u001b[0;32m   5057\u001b[0m     \u001b[38;5;66;03m# pessimization com.is_bool_indexer and ndim checks.\u001b[39;00m\n\u001b[0;32m   5058\u001b[0m     result \u001b[38;5;241m=\u001b[39m getitem(key)\n",
      "\u001b[1;31mIndexError\u001b[0m: index 0 is out of bounds for axis 0 with size 0"
     ]
    }
   ],
   "source": [
    "recommend('Double Dhamaal')"
   ]
  },
  {
   "cell_type": "code",
   "execution_count": 47,
   "id": "179c56ae",
   "metadata": {
    "ExecuteTime": {
     "end_time": "2023-04-07T08:20:32.595077Z",
     "start_time": "2023-04-07T08:20:32.581459Z"
    }
   },
   "outputs": [
    {
     "data": {
      "text/plain": [
       "(21662, 17)"
      ]
     },
     "execution_count": 47,
     "metadata": {},
     "output_type": "execute_result"
    }
   ],
   "source": [
    "df.shape"
   ]
  },
  {
   "cell_type": "code",
   "execution_count": 48,
   "id": "6493a5ae",
   "metadata": {
    "ExecuteTime": {
     "end_time": "2023-04-07T08:20:33.545279Z",
     "start_time": "2023-04-07T08:20:33.535761Z"
    }
   },
   "outputs": [],
   "source": [
    "import pickle"
   ]
  },
  {
   "cell_type": "code",
   "execution_count": 49,
   "id": "cd4a711a",
   "metadata": {
    "ExecuteTime": {
     "end_time": "2023-04-07T08:20:35.691072Z",
     "start_time": "2023-04-07T08:20:34.560816Z"
    }
   },
   "outputs": [],
   "source": [
    "pickle.dump(df,open('movies.pkl','wb'))"
   ]
  },
  {
   "cell_type": "code",
   "execution_count": 50,
   "id": "d5d102cf",
   "metadata": {
    "ExecuteTime": {
     "end_time": "2023-04-07T08:20:37.229122Z",
     "start_time": "2023-04-07T08:20:35.699595Z"
    }
   },
   "outputs": [],
   "source": [
    "pickle.dump(df.to_dict(),open('movies_dict.pkl','wb'))"
   ]
  },
  {
   "cell_type": "code",
   "execution_count": 51,
   "id": "ea0f7885",
   "metadata": {
    "ExecuteTime": {
     "end_time": "2023-04-07T08:20:53.579301Z",
     "start_time": "2023-04-07T08:20:37.233117Z"
    }
   },
   "outputs": [],
   "source": [
    "pickle.dump(similarity_cosine,open('similarity.pkl','wb'))"
   ]
  },
  {
   "cell_type": "code",
   "execution_count": null,
   "id": "f0a708b9",
   "metadata": {},
   "outputs": [],
   "source": []
  }
 ],
 "metadata": {
  "kernelspec": {
   "display_name": "Python 3 (ipykernel)",
   "language": "python",
   "name": "python3"
  },
  "language_info": {
   "codemirror_mode": {
    "name": "ipython",
    "version": 3
   },
   "file_extension": ".py",
   "mimetype": "text/x-python",
   "name": "python",
   "nbconvert_exporter": "python",
   "pygments_lexer": "ipython3",
   "version": "3.9.13"
  }
 },
 "nbformat": 4,
 "nbformat_minor": 5
}
